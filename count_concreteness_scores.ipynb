{
 "cells": [
  {
   "cell_type": "markdown",
   "id": "84356b23",
   "metadata": {},
   "source": [
    "Dieses Notebook berechnet auf Basis eines Datensatzes von 350.000 deutschen Lemmata, die automatisch mit einem Score für die Kategorie \"Concreteness\" versehen wurden Konkretheitswerte für 1147 deutschsprachige Romane.\n",
    "\n",
    "the dataset used to compute the scores can be downloaded from this website: http://www.schulteimwalde.de/resources/affective-norms.html"
   ]
  },
  {
   "cell_type": "code",
   "execution_count": 1,
   "id": "12f475b7",
   "metadata": {},
   "outputs": [],
   "source": [
    "import pandas as pd\n",
    "from tqdm import tqdm\n",
    "import re"
   ]
  },
  {
   "cell_type": "code",
   "execution_count": 2,
   "id": "7c8d4a3f",
   "metadata": {},
   "outputs": [],
   "source": [
    "# read the dataset\n",
    "dfca = pd.read_csv(\"data/ratings_lrec16_koeper_ssiw.txt\", sep=\"\\t\")\n",
    "\n",
    "dfca_dict = {}\n",
    "for i in range(len(dfca)):\n",
    "    key = dfca[\"Word\"].loc[i]\n",
    "    value = dfca[\"AbstConc\"].loc[i]\n",
    "    dfca_dict[key] = value\n"
   ]
  },
  {
   "cell_type": "code",
   "execution_count": 3,
   "id": "d449dd5c",
   "metadata": {},
   "outputs": [
    {
     "name": "stderr",
     "output_type": "stream",
     "text": [
      "  0%|                                                  | 0/1147 [00:00<?, ?it/s]/var/folders/3c/d5qkn8zs6f9bq34fzlrqkm780000gn/T/ipykernel_3484/3705137880.py:12: SettingWithCopyWarning: \n",
      "A value is trying to be set on a copy of a slice from a DataFrame\n",
      "\n",
      "See the caveats in the documentation: https://pandas.pydata.org/pandas-docs/stable/user_guide/indexing.html#returning-a-view-versus-a-copy\n",
      "  df[\"all_lemmas\"].loc[i] = lemmas\n",
      "100%|███████████████████████████████████████| 1147/1147 [00:18<00:00, 60.61it/s]\n"
     ]
    }
   ],
   "source": [
    "# lemmatisiertes Korpus einlesen\n",
    "\n",
    "df = pd.read_csv(\"data/roman_corpus_lemmatisiert.csv\", sep=\";\")\n",
    "\n",
    "# Listen wiederherstellen\n",
    "for i in tqdm(range(len(df))):\n",
    "    lemmas = str(df[\"all_lemmas\"].loc[i])\n",
    "    lemmas = re.sub(r\"'\", \"\", lemmas)\n",
    "    lemmas = re.sub(r\"\\[\", \"\", lemmas)\n",
    "    lemmas = re.sub(r\"\\]\", \"\", lemmas)\n",
    "    lemmas = lemmas.split(\", \")\n",
    "    df[\"all_lemmas\"].loc[i] = lemmas\n",
    "    #print(type(lemmas))"
   ]
  },
  {
   "cell_type": "code",
   "execution_count": 4,
   "id": "b0eb8c12",
   "metadata": {},
   "outputs": [
    {
     "name": "stderr",
     "output_type": "stream",
     "text": [
      "  0%|                                                  | 0/1147 [00:00<?, ?it/s]/var/folders/3c/d5qkn8zs6f9bq34fzlrqkm780000gn/T/ipykernel_3484/1654838879.py:12: SettingWithCopyWarning: \n",
      "A value is trying to be set on a copy of a slice from a DataFrame\n",
      "\n",
      "See the caveats in the documentation: https://pandas.pydata.org/pandas-docs/stable/user_guide/indexing.html#returning-a-view-versus-a-copy\n",
      "  df[\"AbstConc\"].loc[i] += dfca_dict[lemma]\n",
      "100%|███████████████████████████████████████| 1147/1147 [42:31<00:00,  2.22s/it]\n",
      "/var/folders/3c/d5qkn8zs6f9bq34fzlrqkm780000gn/T/ipykernel_3484/1654838879.py:16: SettingWithCopyWarning: \n",
      "A value is trying to be set on a copy of a slice from a DataFrame\n",
      "\n",
      "See the caveats in the documentation: https://pandas.pydata.org/pandas-docs/stable/user_guide/indexing.html#returning-a-view-versus-a-copy\n",
      "  df[\"anteil_AbstConc\"].loc[i] = df[\"AbstConc\"].loc[i]/df[\"all_words_count\"].loc[i]\n"
     ]
    }
   ],
   "source": [
    "# Diese Schleife iteriert über alle Romane des Korpus. Sie überprüft für jedes Lemma eines Romans, \n",
    "# ob es im Datensatz enthalten ist. Falls es enthalten ist, wird der dort angegebene Konkretheitswert zu den bisherigen\n",
    "# Konkretheitswerten des Romans hinzuaddiert. Am Ende werden die KOnkretheitswerte normalisiert, indem sie durch\n",
    "# die Anzahl der Wörter im jeweiligen Roman geteilt werden.\n",
    "\n",
    "df[\"AbstConc\"] = 0\n",
    "\n",
    "for i in tqdm(range(len(df))):\n",
    "    lemmas = df[\"all_lemmas\"].loc[i]\n",
    "    for lemma in lemmas:\n",
    "        if lemma in dfca_dict.keys():\n",
    "            df[\"AbstConc\"].loc[i] += dfca_dict[lemma]\n",
    "            \n",
    "df[\"anteil_AbstConc\"] = 0\n",
    "for i in range(len(df)):\n",
    "    df[\"anteil_AbstConc\"].loc[i] = df[\"AbstConc\"].loc[i]/df[\"all_words_count\"].loc[i]"
   ]
  },
  {
   "cell_type": "code",
   "execution_count": 7,
   "id": "b8195b13",
   "metadata": {},
   "outputs": [],
   "source": [
    "# speichern\n",
    "df = df.drop(columns=[\"all_lemmas\"])\n",
    "df.to_csv(\"data/roman_corpus_AbstConc.csv\", sep=\";\")"
   ]
  }
 ],
 "metadata": {
  "kernelspec": {
   "display_name": "Python 3 (ipykernel)",
   "language": "python",
   "name": "python3"
  },
  "language_info": {
   "codemirror_mode": {
    "name": "ipython",
    "version": 3
   },
   "file_extension": ".py",
   "mimetype": "text/x-python",
   "name": "python",
   "nbconvert_exporter": "python",
   "pygments_lexer": "ipython3",
   "version": "3.10.8"
  }
 },
 "nbformat": 4,
 "nbformat_minor": 5
}

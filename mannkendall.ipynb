{
 "cells": [
  {
   "cell_type": "code",
   "execution_count": 1,
   "id": "40822abd",
   "metadata": {},
   "outputs": [],
   "source": [
    "import pandas as pd\n",
    "import pymannkendall as mk\n",
    "import glob"
   ]
  },
  {
   "cell_type": "code",
   "execution_count": 2,
   "id": "cf0d6fa8",
   "metadata": {},
   "outputs": [
    {
     "name": "stderr",
     "output_type": "stream",
     "text": [
      "/var/folders/3c/d5qkn8zs6f9bq34fzlrqkm780000gn/T/ipykernel_4193/1528358019.py:3: FutureWarning: The default value of numeric_only in DataFrameGroupBy.mean is deprecated. In a future version, numeric_only will default to False. Either specify numeric_only or select only columns which should be valid for the function.\n",
      "  df_year = df.groupby([\"Jahr\"]).mean().reset_index()\n",
      "/var/folders/3c/d5qkn8zs6f9bq34fzlrqkm780000gn/T/ipykernel_4193/1528358019.py:4: FutureWarning: The default value of numeric_only in DataFrameGroupBy.median is deprecated. In a future version, numeric_only will default to False. Either specify numeric_only or select only columns which should be valid for the function.\n",
      "  df_year_median = df.groupby([\"Jahr\"]).median().reset_index()\n"
     ]
    }
   ],
   "source": [
    "# Daten einlesen\n",
    "df = pd.read_csv(\"data/roman_corpus_word_frequencies.csv\", sep=\";\")\n",
    "df_year = df.groupby([\"Jahr\"]).mean().reset_index()\n",
    "df_year_median = df.groupby([\"Jahr\"]).median().reset_index()"
   ]
  },
  {
   "cell_type": "code",
   "execution_count": 3,
   "id": "9b6b5020",
   "metadata": {},
   "outputs": [
    {
     "data": {
      "text/plain": [
       "\"Mann_Kendall_Test(trend='decreasing', h=True, p=6.775850318607723e-07, z=-4.967680431683404, Tau=-0.27746811525743975, s=-2937.0, var_s=349305.0, slope=-7.024312564889436e-05, intercept=0.04169624798669484)\""
      ]
     },
     "execution_count": 3,
     "metadata": {},
     "output_type": "execute_result"
    }
   ],
   "source": [
    "# Mann-Kendall-Test für abstrakte Wörter mit alpha=0.01\n",
    "data = df_year_median[\"anteil_abstrakt\"].to_list()\n",
    "str(mk.original_test(data, alpha=0.01))"
   ]
  },
  {
   "cell_type": "code",
   "execution_count": 4,
   "id": "654454ca",
   "metadata": {},
   "outputs": [
    {
     "data": {
      "text/plain": [
       "\"Mann_Kendall_Test(trend='increasing', h=True, p=0.0, z=9.201037529800528, Tau=0.5138403401039207, s=5439.0, var_s=349305.0, slope=0.00010364793378525339, intercept=0.022434005501228104)\""
      ]
     },
     "execution_count": 4,
     "metadata": {},
     "output_type": "execute_result"
    }
   ],
   "source": [
    "# Mann-Kendall-Test für konkrete Wörter mit alpha=0.01\n",
    "data = df_year_median[\"anteil_konkret\"].to_list()\n",
    "str(mk.original_test(data, alpha=0.01))"
   ]
  },
  {
   "cell_type": "markdown",
   "id": "46cf5fb2",
   "metadata": {},
   "source": [
    "# Mann-Kendall-Test für alle Wortfelder"
   ]
  },
  {
   "cell_type": "code",
   "execution_count": 9,
   "id": "046f74c8",
   "metadata": {},
   "outputs": [],
   "source": [
    "wortfelder_df = pd.read_csv(\"data/wortfelder.csv\", sep=\";\", encoding=\"utf-8\")\n",
    "wortfelder = wortfelder_df.Wortfeld.to_list()"
   ]
  },
  {
   "cell_type": "code",
   "execution_count": 6,
   "id": "a861e094",
   "metadata": {},
   "outputs": [
    {
     "name": "stdout",
     "output_type": "stream",
     "text": [
      "Mann_Kendall_Test für Bilder: Mann_Kendall_Test(trend='no trend', h=False, p=0.014761858474235945, z=-2.438169302957125, Tau=-0.13623051487954652, s=-1442.0, var_s=349301.3333333333, slope=-1.5676165981866702e-07, intercept=7.988019012363613e-05)\n",
      "Mann_Kendall_Test für Taschen: Mann_Kendall_Test(trend='increasing', h=True, p=4.887102500461538e-09, z=5.850971404241467, Tau=0.32678318375059046, s=3459.0, var_s=349296.3333333333, slope=1.232326565397958e-06, intercept=0.00011144219001824805)\n",
      "Mann_Kendall_Test für Pflanzen: Mann_Kendall_Test(trend='no trend', h=False, p=0.7996513195049695, z=-0.25379838717728564, Tau=-0.014265470004723665, s=-151.0, var_s=349305.0, slope=-1.8178633699714374e-07, intercept=0.000986805258554093)\n",
      "Mann_Kendall_Test für Kleidung: Mann_Kendall_Test(trend='increasing', h=True, p=2.4304138888098237e-06, z=4.713882044506119, Tau=0.26329711856400567, s=2787.0, var_s=349305.0, slope=3.4345469162612455e-06, intercept=0.0007470662445974348)\n",
      "Mann_Kendall_Test für Schmuck: Mann_Kendall_Test(trend='no trend', h=False, p=0.37711828879235343, z=0.883218387376954, Tau=0.049409541804440245, s=523.0, var_s=349305.0, slope=1.9749976813488359e-07, intercept=0.0002923638575350709)\n",
      "Mann_Kendall_Test für Gerueche: Mann_Kendall_Test(trend='increasing', h=True, p=7.392401788486325e-07, z=4.950760539204919, Tau=0.27652338214454414, s=2927.0, var_s=349305.0, slope=1.7494573766748175e-06, intercept=0.00048086636112677577)\n",
      "Mann_Kendall_Test für Pflanzenteile: Mann_Kendall_Test(trend='decreasing', h=True, p=0.00703162631844223, z=-2.695342729976334, Tau=-0.15059045819555975, s=-1594.0, var_s=349304.0, slope=-2.1064890150224054e-07, intercept=8.164983466172677e-05)\n",
      "Mann_Kendall_Test für helligkeitsspezifisch: Mann_Kendall_Test(trend='increasing', h=True, p=7.182395567184585e-09, z=5.786603227642113, Tau=0.3231931979215871, s=3421.0, var_s=349305.0, slope=3.9858880943700895e-06, intercept=0.0008538006046914935)\n",
      "Mann_Kendall_Test für Dekorationsgegenstaende: Mann_Kendall_Test(trend='no trend', h=False, p=0.011950416633520256, z=2.513605093529695, Tau=0.13736419461502125, s=1454.0, var_s=334146.6666666667, slope=1.307749476195899e-08, intercept=7.154341256379954e-06)\n",
      "Mann_Kendall_Test für Gartenanlagen: Mann_Kendall_Test(trend='no trend', h=False, p=0.6260507761046608, z=-0.4872929033803884, Tau=-0.027302786962683043, s=-289.0, var_s=349305.0, slope=-1.4320310786249975e-07, intercept=0.0003456464690032812)\n",
      "Mann_Kendall_Test für Kunstobjekte: Mann_Kendall_Test(trend='no trend', h=False, p=0.18521051909242692, z=-1.3248813150016345, Tau=-0.07406707605101559, s=-784.0, var_s=349276.6666666667, slope=-6.763875272592231e-08, intercept=4.45366866027733e-05)\n",
      "Mann_Kendall_Test für Ornamente: Mann_Kendall_Test(trend='no trend', h=False, p=0.01627381627872415, z=2.402716095349996, Tau=0.13358526216343883, s=1414.0, var_s=345843.3333333333, slope=4.9683941793648306e-08, intercept=1.0858610526149159e-05)\n",
      "Mann_Kendall_Test für Muster: Mann_Kendall_Test(trend='increasing', h=True, p=0.0, z=8.676517750501691, Tau=0.4842701936702881, s=5126.0, var_s=348896.6666666667, slope=4.1990621296940086e-07, intercept=1.2367940398562578e-05)\n",
      "Mann_Kendall_Test für aussehensspezifisch: Mann_Kendall_Test(trend='increasing', h=True, p=0.0, z=9.201037529800528, Tau=0.5138403401039207, s=5439.0, var_s=349305.0, slope=5.801338914564546e-06, intercept=0.0007700360470429705)\n",
      "Mann_Kendall_Test für Emotionen: Mann_Kendall_Test(trend='decreasing', h=True, p=1.0299574526584365e-09, z=-6.104697206237644, Tau=-0.3409541804440246, s=-3609.0, var_s=349305.0, slope=-6.129706428508796e-05, intercept=0.026653123993362206)\n",
      "Mann_Kendall_Test für Wege: Mann_Kendall_Test(trend='no trend', h=False, p=0.09000464160216692, z=1.695373226344268, Tau=0.09475673122342938, s=1003.0, var_s=349305.0, slope=5.790008146717174e-07, intercept=0.0007050012517377254)\n",
      "Mann_Kendall_Test für Stoffe: Mann_Kendall_Test(trend='increasing', h=True, p=1.8175074778525868e-09, z=6.013329786853821, Tau=0.3358526216343883, s=3555.0, var_s=349305.0, slope=1.2781310635140842e-06, intercept=0.00022041345210237884)\n",
      "Mann_Kendall_Test für Kleidungsteile: Mann_Kendall_Test(trend='increasing', h=True, p=1.4810201042658733e-05, z=4.331492474492341, Tau=0.24194615021256494, s=2561.0, var_s=349305.0, slope=4.505951259348316e-07, intercept=7.56611408150587e-05)\n",
      "Mann_Kendall_Test für Heimtextilien: Mann_Kendall_Test(trend='increasing', h=True, p=2.220446049250313e-16, z=8.175692045604295, Tau=0.45658951346244686, s=4833.0, var_s=349305.0, slope=1.6418848825531912e-06, intercept=0.00015168263757779366)\n",
      "Mann_Kendall_Test für oberflaechenspezifisch: Mann_Kendall_Test(trend='increasing', h=True, p=7.56775588861558e-08, z=5.377141829662758, Tau=0.30033065658951347, s=3179.0, var_s=349305.0, slope=8.559645069785713e-07, intercept=0.0001339272789455786)\n",
      "Mann_Kendall_Test für Gruenflaechen: Mann_Kendall_Test(trend='increasing', h=True, p=0.00410973463091957, z=2.8696137643511763, Tau=0.1603212092583845, s=1697.0, var_s=349305.0, slope=7.754554968784311e-07, intercept=0.00025616057770913873)\n",
      "Mann_Kendall_Test für Aufmachung: Mann_Kendall_Test(trend='increasing', h=True, p=4.593792013452003e-11, z=6.583539587155, Tau=0.36769012753897024, s=3892.0, var_s=349304.0, slope=1.120154472979592e-06, intercept=0.00017765958369387962)\n",
      "Mann_Kendall_Test für Zimmer: Mann_Kendall_Test(trend='increasing', h=True, p=3.552713678800501e-15, z=7.867750002495854, Tau=0.4393953708077468, s=4651.0, var_s=349305.0, slope=6.195135404679999e-06, intercept=0.000825378971322675)\n",
      "Mann_Kendall_Test für Farben: Mann_Kendall_Test(trend='increasing', h=True, p=0.0, z=10.023344304254934, Tau=0.5597543693906472, s=5925.0, var_s=349305.0, slope=8.319629645378069e-06, intercept=0.0005618016431899149)\n",
      "Mann_Kendall_Test für Moebel: Mann_Kendall_Test(trend='increasing', h=True, p=0.0, z=9.055526454485552, Tau=0.5057156353330184, s=5353.0, var_s=349305.0, slope=7.724744473596939e-06, intercept=0.0007145559749286468)\n",
      "Mann_Kendall_Test für Kommunikationsverben: Mann_Kendall_Test(trend='increasing', h=True, p=7.016280336724634e-07, z=4.96091247469201, Tau=0.2770902220122815, s=2933.0, var_s=349305.0, slope=8.562112843764e-06, intercept=0.00296719976186226)\n",
      "Mann_Kendall_Test für Holz: Mann_Kendall_Test(trend='no trend', h=False, p=0.07049047313256995, z=1.8087459992096921, Tau=0.10108644307982995, s=1070.0, var_s=349301.3333333333, slope=1.5124416474557662e-07, intercept=6.868610729874668e-05)\n",
      "Mann_Kendall_Test für Charaktereigenschaften: Mann_Kendall_Test(trend='decreasing', h=True, p=0.005408661007494819, z=-2.7816303234630504, Tau=-0.15540859707132734, s=-1645.0, var_s=349305.0, slope=-1.2677858068207138e-05, intercept=0.015104398802680618)\n",
      "Mann_Kendall_Test für Gebaeudeteile: Mann_Kendall_Test(trend='increasing', h=True, p=0.0, z=8.649449035001894, Tau=0.48304204062352385, s=5113.0, var_s=349305.0, slope=1.405148219829074e-05, intercept=0.001734996757622671)\n",
      "Mann_Kendall_Test für formspezifisch: Mann_Kendall_Test(trend='increasing', h=True, p=7.981002525525582e-10, z=6.145304948186009, Tau=0.343221539914974, s=3633.0, var_s=349305.0, slope=1.68760740172233e-06, intercept=0.00029677405307248106)\n",
      "Mann_Kendall_Test für Waelder: Mann_Kendall_Test(trend='no trend', h=False, p=0.33737593867964577, z=0.9593629387763288, Tau=0.053660840812470474, s=568.0, var_s=349301.3333333333, slope=2.83702065843846e-07, intercept=0.00022028991498652115)\n",
      "Mann_Kendall_Test für Koerperteile: Mann_Kendall_Test(trend='increasing', h=True, p=1.1035616864774056e-13, z=7.427832798055226, Tau=0.414832309872461, s=4391.0, var_s=349305.0, slope=3.2483466538941655e-05, intercept=0.007402041094826303)\n",
      "Mann_Kendall_Test für Haushaltsgegenstaende: Mann_Kendall_Test(trend='increasing', h=True, p=9.205969320191798e-13, z=7.141896838185879, Tau=0.3988663202645253, s=4222.0, var_s=349304.0, slope=3.2784095101643746e-06, intercept=0.00029543998880305787)\n",
      "Mann_Kendall_Test für Bauwerke: Mann_Kendall_Test(trend='increasing', h=True, p=0.0025975423898694228, z=3.0117408611704564, Tau=0.1682569674067076, s=1781.0, var_s=349305.0, slope=3.0971563023323536e-06, intercept=0.0018007825513871045)\n"
     ]
    }
   ],
   "source": [
    "for wortfeld in wortfelder:\n",
    "    spalte = \"anteil_\" + wortfeld\n",
    "    data = df_year_median[spalte].to_list()\n",
    "    print(\"Mann_Kendall_Test für \" + wortfeld + \": \" + str(mk.original_test(data, alpha=0.01)))"
   ]
  },
  {
   "cell_type": "markdown",
   "id": "63e81af2",
   "metadata": {},
   "source": [
    "# Test für Grundwörter"
   ]
  },
  {
   "cell_type": "code",
   "execution_count": 7,
   "id": "3626d591",
   "metadata": {},
   "outputs": [
    {
     "data": {
      "text/plain": [
       "\"Mann_Kendall_Test(trend='increasing', h=True, p=4.440892098500626e-16, z=8.118164411177442, Tau=0.4533774208786018, s=4799.0, var_s=349305.0, slope=2.3625182105777277e-06, intercept=0.00012871715247778973)\""
      ]
     },
     "execution_count": 7,
     "metadata": {},
     "output_type": "execute_result"
    }
   ],
   "source": [
    "data = df_year_median[\"anteil_['rot', 'blau', 'grün']\"].to_list()\n",
    "str(mk.original_test(data, alpha=0.01))"
   ]
  },
  {
   "cell_type": "code",
   "execution_count": 8,
   "id": "9916c33d",
   "metadata": {},
   "outputs": [
    {
     "data": {
      "text/plain": [
       "\"Mann_Kendall_Test(trend='increasing', h=True, p=0.0002643628515945906, z=3.647928818361519, Tau=0.20377893245158243, s=2157.0, var_s=349305.0, slope=8.548872567915665e-07, intercept=0.00022981787863721143)\""
      ]
     },
     "execution_count": 8,
     "metadata": {},
     "output_type": "execute_result"
    }
   ],
   "source": [
    "data = df_year_median[\"anteil_['Kleid', 'Mantel', 'Hut']\"].to_list()\n",
    "str(mk.original_test(data, alpha=0.05))"
   ]
  },
  {
   "cell_type": "code",
   "execution_count": 9,
   "id": "94e8a7f0",
   "metadata": {},
   "outputs": [
    {
     "data": {
      "text/plain": [
       "\"Mann_Kendall_Test(trend='increasing', h=True, p=7.182395567184585e-09, z=5.786603227642113, Tau=0.3231931979215871, s=3421.0, var_s=349305.0, slope=1.6980740785640772e-06, intercept=0.0002673779953959544)\""
      ]
     },
     "execution_count": 9,
     "metadata": {},
     "output_type": "execute_result"
    }
   ],
   "source": [
    "data = df_year_median[\"anteil_['Finger', 'Ohr', 'Nase']\"].to_list()\n",
    "str(mk.original_test(data, alpha=0.01))"
   ]
  },
  {
   "cell_type": "markdown",
   "id": "f0831585",
   "metadata": {},
   "source": [
    "# Test für Redewiedergabe"
   ]
  },
  {
   "cell_type": "code",
   "execution_count": 10,
   "id": "e83868aa",
   "metadata": {},
   "outputs": [
    {
     "name": "stderr",
     "output_type": "stream",
     "text": [
      "/var/folders/3c/d5qkn8zs6f9bq34fzlrqkm780000gn/T/ipykernel_4193/3392611727.py:2: FutureWarning: The default value of numeric_only in DataFrameGroupBy.mean is deprecated. In a future version, numeric_only will default to False. Either specify numeric_only or select only columns which should be valid for the function.\n",
      "  df_year = df.groupby([\"Jahr\"]).mean().reset_index()\n",
      "/var/folders/3c/d5qkn8zs6f9bq34fzlrqkm780000gn/T/ipykernel_4193/3392611727.py:3: FutureWarning: The default value of numeric_only in DataFrameGroupBy.median is deprecated. In a future version, numeric_only will default to False. Either specify numeric_only or select only columns which should be valid for the function.\n",
      "  df_year_median = df.groupby([\"Jahr\"]).median().reset_index()\n"
     ]
    }
   ],
   "source": [
    "df = pd.read_csv(\"data/roman_korpus_word_frequencies_redewiedergabe.csv\", sep=\";\")\n",
    "df_year = df.groupby([\"Jahr\"]).mean().reset_index()\n",
    "df_year_median = df.groupby([\"Jahr\"]).median().reset_index()"
   ]
  },
  {
   "cell_type": "code",
   "execution_count": 11,
   "id": "ccfef0e2",
   "metadata": {},
   "outputs": [
    {
     "name": "stdout",
     "output_type": "stream",
     "text": [
      "Mann_Kendall_Test(trend='increasing', h=True, p=0.0, z=9.539435379370243, Tau=0.5327350023618328, s=5639.0, var_s=349305.0, slope=9.858607668900155e-05, intercept=0.01197376076112874)\n"
     ]
    }
   ],
   "source": [
    "data = df_year_median[\"ant_narr_konkret\"].to_list()\n",
    "print(str(mk.original_test(data, alpha=0.01)))"
   ]
  },
  {
   "cell_type": "code",
   "execution_count": 12,
   "id": "00140bdb",
   "metadata": {},
   "outputs": [
    {
     "name": "stdout",
     "output_type": "stream",
     "text": [
      "Mann_Kendall_Test(trend='increasing', h=True, p=0.0, z=10.314366454884889, Tau=0.5760037789324516, s=6097.0, var_s=349305.0, slope=0.0015955105082078606, intercept=1.2953909707339049)\n"
     ]
    }
   ],
   "source": [
    "data = df_year_median[\"abstconc_narr\"].to_list()\n",
    "print(str(mk.original_test(data, alpha=0.01)))"
   ]
  },
  {
   "cell_type": "code",
   "execution_count": 13,
   "id": "fed656d5",
   "metadata": {},
   "outputs": [
    {
     "name": "stdout",
     "output_type": "stream",
     "text": [
      "Mann_Kendall_Test(trend='decreasing', h=True, p=8.548717289613705e-14, z=-7.461672583012198, Tau=-0.41672177609825223, s=-4411.0, var_s=349305.0, slope=-0.00027858499006071317, intercept=0.09496084087030038)\n"
     ]
    }
   ],
   "source": [
    "data = df_year_median[\"ant_ind_rede\"].to_list()\n",
    "print(str(mk.original_test(data, alpha=0.01)))"
   ]
  },
  {
   "cell_type": "code",
   "execution_count": 14,
   "id": "dd8bcb41",
   "metadata": {},
   "outputs": [
    {
     "name": "stdout",
     "output_type": "stream",
     "text": [
      "Mann_Kendall_Test(trend='no trend', h=False, p=0.0831673246737763, z=-1.7325969897969367, Tau=-0.09683514407179972, s=-1025.0, var_s=349305.0, slope=-8.85190043218003e-06, intercept=0.014187918870454678)\n"
     ]
    }
   ],
   "source": [
    "data = df_year_median[\"ant_narr_abstrakt\"].to_list()\n",
    "print(str(mk.original_test(data, alpha=0.01)))"
   ]
  },
  {
   "cell_type": "markdown",
   "id": "cf7f3f71",
   "metadata": {},
   "source": [
    "# Mann-Kendall-Test für Konkretheitswerte"
   ]
  },
  {
   "cell_type": "code",
   "execution_count": 15,
   "id": "e4d2f74c",
   "metadata": {},
   "outputs": [
    {
     "name": "stderr",
     "output_type": "stream",
     "text": [
      "/var/folders/3c/d5qkn8zs6f9bq34fzlrqkm780000gn/T/ipykernel_4193/3780469702.py:3: FutureWarning: The default value of numeric_only in DataFrameGroupBy.mean is deprecated. In a future version, numeric_only will default to False. Either specify numeric_only or select only columns which should be valid for the function.\n",
      "  dfac_year = dfac.groupby([\"Jahr\"]).mean().reset_index()\n",
      "/var/folders/3c/d5qkn8zs6f9bq34fzlrqkm780000gn/T/ipykernel_4193/3780469702.py:4: FutureWarning: The default value of numeric_only in DataFrameGroupBy.median is deprecated. In a future version, numeric_only will default to False. Either specify numeric_only or select only columns which should be valid for the function.\n",
      "  dfac_year_median = dfac.groupby([\"Jahr\"]).median().reset_index()\n"
     ]
    }
   ],
   "source": [
    "dfac = pd.read_csv(\"data/roman_corpus_AbstConc.csv\", sep=\";\")\n",
    "dfac = dfac.rename(columns={\"anteil_AbstConc\": \"Konkretheit\"})\n",
    "dfac_year = dfac.groupby([\"Jahr\"]).mean().reset_index()\n",
    "dfac_year_median = dfac.groupby([\"Jahr\"]).median().reset_index()\n",
    "#dfac_year_median.tail()"
   ]
  },
  {
   "cell_type": "code",
   "execution_count": 16,
   "id": "f7c447d3",
   "metadata": {},
   "outputs": [
    {
     "name": "stdout",
     "output_type": "stream",
     "text": [
      "Mann_Kendall_Test(trend='increasing', h=True, p=0.0, z=10.605388605514841, Tau=0.592253188474256, s=6269.0, var_s=349305.0, slope=0.0017438327410187553, intercept=2.1080237234947248)\n"
     ]
    }
   ],
   "source": [
    "data = dfac_year_median[\"Konkretheit\"].to_list()\n",
    "print(str(mk.original_test(data, alpha=0.01)))"
   ]
  },
  {
   "cell_type": "code",
   "execution_count": null,
   "id": "2f4d6fa7",
   "metadata": {},
   "outputs": [],
   "source": []
  }
 ],
 "metadata": {
  "kernelspec": {
   "display_name": "Python 3.10 (tensorflow)",
   "language": "python",
   "name": "tensorflow"
  },
  "language_info": {
   "codemirror_mode": {
    "name": "ipython",
    "version": 3
   },
   "file_extension": ".py",
   "mimetype": "text/x-python",
   "name": "python",
   "nbconvert_exporter": "python",
   "pygments_lexer": "ipython3",
   "version": "3.10.8"
  }
 },
 "nbformat": 4,
 "nbformat_minor": 5
}

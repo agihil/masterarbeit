{
 "cells": [
  {
   "cell_type": "code",
   "execution_count": 1,
   "metadata": {},
   "outputs": [
    {
     "name": "stderr",
     "output_type": "stream",
     "text": [
      "2022-11-25 12:17:54.529137: I tensorflow/core/platform/cpu_feature_guard.cc:193] This TensorFlow binary is optimized with oneAPI Deep Neural Network Library (oneDNN) to use the following CPU instructions in performance-critical operations:  AVX2 FMA\n",
      "To enable them in other operations, rebuild TensorFlow with the appropriate compiler flags.\n"
     ]
    }
   ],
   "source": [
    "import pandas as pd\n",
    "from tqdm import tqdm\n",
    "import plotly.express as px"
   ]
  },
  {
   "cell_type": "markdown",
   "metadata": {},
   "source": [
    "# Get Wordlists"
   ]
  },
  {
   "cell_type": "code",
   "execution_count": 3,
   "metadata": {},
   "outputs": [],
   "source": [
    "def process_wordlist(Pfad):\n",
    "    wordlist_df = pd.read_csv(Pfad, sep=\";\")\n",
    "    words = list(wordlist_df[\"Word\"])\n",
    "    return words"
   ]
  },
  {
   "cell_type": "code",
   "execution_count": 4,
   "metadata": {},
   "outputs": [],
   "source": [
    "konkrete_wortfelder = [\"Ornamente\", \"Dekorationsgegenstaende\", \"Bauwerke\", \"Gebaeudeteile\",  \"Zimmer\",\\\n",
    "                       \"Moebel\", \"Heimtextilien\", \"Haushaltsgegenstaende\", \"Kleidung\", \"Kleidungsteile\" ,\\\n",
    "                       \"Aufmachung\", \"aussehensspezifisch\", \"Taschen\", \"Stoffe\", \"formspezifisch\", \\\n",
    "                       \"helligkeitsspezifisch\", \"oberflaechenspezifisch\", \"Koerperteile\", \"Farben\",\\\n",
    "                      \"Pflanzen\", \"Pflanzenteile\", \"Schmuck\", \"Gruenflaechen\", \"Bilder\", \"Gartenanlagen\",\\\n",
    "                      \"Waelder\", \"Kunstobjekte\", \"Wege\", \"Gerueche\", \"Muster\", \"Holz\"] \n",
    "konkrete_woerter = []\n",
    "for wortfeld in konkrete_wortfelder:\n",
    "    file = \"Wordlists_from_fasttext/\" + wortfeld + \"_from_fasttext_cleaned.csv\"\n",
    "    konkrete_woerter += process_wordlist(file)\n",
    "    \n",
    "    "
   ]
  },
  {
   "cell_type": "code",
   "execution_count": 5,
   "metadata": {},
   "outputs": [],
   "source": [
    "charaktereigenschaften = process_wordlist(\"Wordlists_from_fasttext/Charaktereigenschaften_from_fasttext_cleaned.csv\")\n",
    "emotionen = process_wordlist(\"Wordlists_from_fasttext/Emotionen_from_fasttext_cleaned.csv\")\n",
    "abstrakte_woerter = charaktereigenschaften + emotionen"
   ]
  },
  {
   "cell_type": "markdown",
   "metadata": {},
   "source": [
    "# Romane annotieren"
   ]
  },
  {
   "cell_type": "code",
   "execution_count": 22,
   "metadata": {},
   "outputs": [],
   "source": [
    "def annotate_novel(Pfad, wordlist1, wordlist2):\n",
    "    with open(Pfad) as f:\n",
    "        text = f.read()\n",
    "    \n",
    "    doc = nlp(text, disable=[\"ner\", \"tagger\", \"parser\", \"attribute_ruler\"])\n",
    "        \n",
    "    new_text = \"\"\"<?xml version=\"1.0\" encoding=\"UTF-8\"?>\n",
    "<TEI xmlns=\"http://www.tei-c.org/ns/1.0\">\n",
    "    <teiHeader>\n",
    "        <fileDesc>\n",
    "            <titleStmt>\n",
    "                <title></title>\n",
    "            </titleStmt>\n",
    "            <publicationStmt>\n",
    "                <p></p>\n",
    "            </publicationStmt>\n",
    "            <sourceDesc>\n",
    "                <p></p>\n",
    "            </sourceDesc>\n",
    "        </fileDesc>\n",
    "    </teiHeader>\n",
    "    <text>\n",
    "        <body>\n",
    "            <p>\"\"\"\n",
    "            \n",
    "    for i in range(len(doc)):\n",
    "        token = doc[i]\n",
    "        if token.text != \"&\":\n",
    "            if token.text == \"\\n\":\n",
    "                new_text += \"</p><p>\"\n",
    "            else:\n",
    "                if i < len(doc)-1:\n",
    "                    if doc[i+1].is_punct:\n",
    "                        if token.lemma_ in wordlist1:\n",
    "                            new_text += \"<hi rend=\\\"bold\\\">\" + token.text + \"</hi>\"\n",
    "                        elif token.lemma_ in wordlist2:\n",
    "                            new_text += \"<hi rend=\\\"italic\\\">\" + token.text + \"</hi>\"\n",
    "                        else:\n",
    "                            new_text += token.text\n",
    "                    else:\n",
    "                        if token.lemma_ in wordlist1:\n",
    "                            new_text += \"<hi rend=\\\"bold\\\">\" + token.text + \"</hi>\" + \" \"\n",
    "                        else:\n",
    "                            new_text += token.text + \" \"\n",
    "                else:\n",
    "                    if token.lemma_ in wordlist1:\n",
    "                        new_text += \"<hi rend=\\\"bold\\\">\" + token.text + \"</hi>\"\n",
    "                    elif token.lemma_ in wordlist2:\n",
    "                        new_text += \"<hi rend=\\\"italic\\\">\" + token.text + \"</hi>\"\n",
    "                    else:\n",
    "                        new_text += token.text\n",
    "                    \n",
    "    new_text += \"\"\"</p>\n",
    "            </body>\n",
    "        </text>\n",
    "    </TEI>\"\"\"\n",
    "    \n",
    "    \n",
    "    new_filename= Pfad.split(\"/\")[1] + \".xml\"\n",
    "    #new_filename= \"k00100000273.xml\"\n",
    "    \n",
    "    with open(new_filename, 'w') as f:\n",
    "        f.write(new_text)\n",
    "\n",
    "\n",
    "    "
   ]
  },
  {
   "cell_type": "code",
   "execution_count": 8,
   "metadata": {},
   "outputs": [],
   "source": [
    "# Heimburg: Trudchens Heirat\n",
    "annotate_novel(\"txt/k00200000983\", konkrete_woerter, abstrakte_woerter)"
   ]
  },
  {
   "cell_type": "code",
   "execution_count": 11,
   "metadata": {},
   "outputs": [],
   "source": [
    "# Ernst Weiß: Tiere in Ketten\n",
    "annotate_novel(\"txt/k00200002365\", woerter, abstrakt_words)"
   ]
  },
  {
   "cell_type": "code",
   "execution_count": 10,
   "metadata": {},
   "outputs": [],
   "source": [
    "# Sperl: Richiza\n",
    "annotate_novel(\"txt/k00200003156\", woerter, abstrakt_words)"
   ]
  },
  {
   "cell_type": "code",
   "execution_count": 7,
   "metadata": {},
   "outputs": [],
   "source": [
    "# Ganghofer: Martinsklause\n",
    "annotate_novel(\"txt/k00200000736\", woerter, abstrakt_words)"
   ]
  },
  {
   "cell_type": "code",
   "execution_count": 18,
   "metadata": {},
   "outputs": [],
   "source": [
    "# Marianne Ehrmann: Amalie\n",
    "annotate_novel(\"txt/k00100000084\", konkrete_woerter, abstrakte_woerter)"
   ]
  },
  {
   "cell_type": "code",
   "execution_count": 7,
   "metadata": {},
   "outputs": [],
   "source": [
    "# Schlegel: Lucinde\n",
    "annotate_novel(\"txt/k00100000349\", woerter, abstrakt_words)"
   ]
  },
  {
   "cell_type": "code",
   "execution_count": 9,
   "metadata": {},
   "outputs": [],
   "source": [
    "# Mereau: Blütenalter der Empfindung\n",
    "annotate_novel(\"txt/k00100000273\", konkrete_woerter, abstrakte_woerter)"
   ]
  },
  {
   "cell_type": "markdown",
   "metadata": {},
   "source": [
    "# Textstellen nach Absätzen mit den meisten konkreten Wörtern soriteren"
   ]
  },
  {
   "cell_type": "code",
   "execution_count": 10,
   "metadata": {},
   "outputs": [],
   "source": [
    "def get_paragraphs(filename):\n",
    "    with open(filename, \"r\") as f:\n",
    "        text = f.read()\n",
    "    text_doc = nlp(text)\n",
    "    \n",
    "    paragraphs_list = []\n",
    "    paragraphs_list_orig = []\n",
    "    paragraph = \"\"\n",
    "    paragraph_orig = \"\"\n",
    "\n",
    "    for token in text_doc:\n",
    "        if token.text == \"\\n\":\n",
    "            if len(paragraph.split(\" \")) > 2:\n",
    "                paragraph = paragraph.strip()\n",
    "                paragraph_orig = paragraph_orig.strip()\n",
    "                paragraphs_list.append(paragraph)\n",
    "                paragraphs_list_orig.append(paragraph_orig)\n",
    "            paragraph = \"\"\n",
    "            paragraph_orig = \"\"\n",
    "        else:\n",
    "            if not token.is_space:\n",
    "                paragraph = paragraph + token.lemma_ + \" \"\n",
    "                paragraph_orig = paragraph_orig + token.text + \" \"\n",
    "                #paragraph += \" \"\n",
    "\n",
    "    df = pd.DataFrame(paragraphs_list, columns=[\"paragraph_lemm\"])\n",
    "    df[\"paragraph_orig\"] = \"\"\n",
    "    for i in range(len(df)):\n",
    "        df[\"paragraph_orig\"].loc[i] = paragraphs_list_orig[i]\n",
    "    \n",
    "    df[\"anteil_konkret\"] = 0\n",
    "    df[\"anteil_abstrakt\"] = 0\n",
    "\n",
    "    df[\"abs_konkret\"] = 0\n",
    "    df[\"abs_abstrakt\"] = 0\n",
    "\n",
    "    for i in range(len(df)):\n",
    "\n",
    "        paragraph = df[\"paragraph_lemm\"].loc[i]\n",
    "        #print(len(paragraph.split()))\n",
    "\n",
    "        konkret_counter = 0\n",
    "        abstrakt_counter = 0\n",
    "        for wort in paragraph.split():\n",
    "            if wort in konkrete_woerter:\n",
    "                konkret_counter +=1\n",
    "            elif wort in abstrakte_woerter:\n",
    "                abstrakt_counter += 1\n",
    "        df[\"anteil_konkret\"].loc[i] = konkret_counter/len(paragraph.split())\n",
    "        df[\"anteil_abstrakt\"].loc[i] = abstrakt_counter/len(paragraph.split())\n",
    "        df[\"abs_konkret\"].loc[i] = konkret_counter\n",
    "        df[\"abs_abstrakt\"].loc[i] = abstrakt_counter\n",
    "\n",
    "    return df\n",
    "\n"
   ]
  },
  {
   "cell_type": "code",
   "execution_count": 19,
   "metadata": {},
   "outputs": [],
   "source": [
    "df_lucinde = get_paragraphs(\"txt/k00100000349\")"
   ]
  },
  {
   "cell_type": "code",
   "execution_count": 21,
   "metadata": {},
   "outputs": [],
   "source": [
    "df_sorted = df_lucinde.sort_values(\"anteil_konkret\", ascending=False)\n",
    "df_sorted.to_excel(\"out_sorted_paragraphs/lucinde_sorted_ant_konkr.xlsx\", encoding=\"utf-8\")"
   ]
  }
 ],
 "metadata": {
  "kernelspec": {
   "display_name": "Python 3 (ipykernel)",
   "language": "python",
   "name": "python3"
  },
  "language_info": {
   "codemirror_mode": {
    "name": "ipython",
    "version": 3
   },
   "file_extension": ".py",
   "mimetype": "text/x-python",
   "name": "python",
   "nbconvert_exporter": "python",
   "pygments_lexer": "ipython3",
   "version": "3.10.8"
  }
 },
 "nbformat": 4,
 "nbformat_minor": 2
}

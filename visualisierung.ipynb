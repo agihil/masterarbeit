{
 "cells": [
  {
   "cell_type": "code",
   "execution_count": 1,
   "metadata": {},
   "outputs": [],
   "source": [
    "import pandas as pd\n",
    "import plotly.express as px\n",
    "import tqdm\n",
    "import re\n",
    "import plotly.graph_objects as go\n",
    "import glob"
   ]
  },
  {
   "cell_type": "markdown",
   "metadata": {},
   "source": [
    "# Ergebnisse als Dataframe einlesen"
   ]
  },
  {
   "cell_type": "code",
   "execution_count": 2,
   "metadata": {
    "scrolled": true
   },
   "outputs": [],
   "source": [
    "df = pd.read_csv(\"data/roman_corpus_word_frequencies.csv\", sep=\";\")"
   ]
  },
  {
   "cell_type": "code",
   "execution_count": 3,
   "metadata": {},
   "outputs": [
    {
     "name": "stderr",
     "output_type": "stream",
     "text": [
      "/var/folders/3c/d5qkn8zs6f9bq34fzlrqkm780000gn/T/ipykernel_1237/3862513688.py:1: FutureWarning: The default value of numeric_only in DataFrameGroupBy.mean is deprecated. In a future version, numeric_only will default to False. Either specify numeric_only or select only columns which should be valid for the function.\n",
      "  df_year = df.groupby([\"Jahr\"]).mean().reset_index()\n",
      "/var/folders/3c/d5qkn8zs6f9bq34fzlrqkm780000gn/T/ipykernel_1237/3862513688.py:2: FutureWarning: The default value of numeric_only in DataFrameGroupBy.median is deprecated. In a future version, numeric_only will default to False. Either specify numeric_only or select only columns which should be valid for the function.\n",
      "  df_year_median = df.groupby([\"Jahr\"]).median().reset_index()\n"
     ]
    }
   ],
   "source": [
    "df_year = df.groupby([\"Jahr\"]).mean().reset_index()\n",
    "df_year_median = df.groupby([\"Jahr\"]).median().reset_index()"
   ]
  },
  {
   "cell_type": "markdown",
   "metadata": {},
   "source": [
    "# Allgemein: Plots zum Anteil konkreter und abstrakter Wörter"
   ]
  },
  {
   "cell_type": "code",
   "execution_count": 8,
   "metadata": {},
   "outputs": [],
   "source": [
    "# Line-Plot für anteil konkreter Wörter\n",
    "\n",
    "df_year[\"MA_konkret\"] = df_year[\"anteil_konkret\"].rolling(window=3).mean()\n",
    "\n",
    "fig = px.line(df_year, x=\"Jahr\", y=[\"anteil_konkret\"], color_discrete_sequence=[\"lightgrey\"])\n",
    "fig.add_trace(go.Scatter(x=df_year.Jahr, \n",
    "                         y=df_year[\"MA_konkret\"], \n",
    "                         opacity=0.7, \n",
    "                         line=dict(color='darkgreen', width=2), \n",
    "                         name='geglättet'))\n",
    "fig.write_image(\"figures/lineplot_anteil_konkret.png\")"
   ]
  },
  {
   "cell_type": "code",
   "execution_count": 9,
   "metadata": {},
   "outputs": [],
   "source": [
    "# Line-Plot für anteil abstrakter Wörter\n",
    "\n",
    "df_year[\"MA_abstrakt\"] = df_year[\"anteil_abstrakt\"].rolling(window=3).mean()\n",
    "\n",
    "fig = px.line(df_year, x=\"Jahr\", y=[\"anteil_abstrakt\"], color_discrete_sequence=[\"lightgrey\"])\n",
    "fig.add_trace(go.Scatter(x=df_year.Jahr, \n",
    "                         y=df_year[\"MA_abstrakt\"], \n",
    "                         opacity=0.7, \n",
    "                         line=dict(color='darkblue', width=2), \n",
    "                         name='geglättet'))\n",
    "\n",
    "fig.write_image(\"figures/lineplot_anteil_abstrakt.png\")"
   ]
  },
  {
   "cell_type": "code",
   "execution_count": 59,
   "metadata": {},
   "outputs": [],
   "source": [
    "# Sactterplot mit Anteil konkreter Wörter pro Jahr\n",
    "fig = px.scatter(df, x=\"Jahr\", y=\"anteil_konkret\",\\\n",
    "                 hover_data=[\"Titel\", \"Autor_normalisiert\", \"filename\"],\\\n",
    "                 trendline=\"ols\", trendline_options=dict(log_x=True), trendline_color_override=\"black\",\\\n",
    "                 color_discrete_sequence=[\"darkred\"],\\\n",
    "                )\n",
    "fig.write_image(\"figures/scatterplot_anteil_konkret.png\")"
   ]
  },
  {
   "cell_type": "code",
   "execution_count": 64,
   "metadata": {},
   "outputs": [],
   "source": [
    "# Sactterplot mit Anteil konkreter Wörter pro Jahr, colored nach authorgender\n",
    "fig = px.scatter(df, x=\"Jahr\", y=\"anteil_konkret\", color=\"Geschlecht\",\\\n",
    "                 hover_data=[\"Titel\", \"Autor_normalisiert\", \"filename\"],\\\n",
    "                 trendline=\"ols\",\\\n",
    "                 color_discrete_sequence=[\"orange\", \"indianred\"],\\\n",
    "                )\n",
    "fig.write_image(\"figures/scatterplot_anteil_konkret_col_gender.png\")"
   ]
  },
  {
   "cell_type": "code",
   "execution_count": 61,
   "metadata": {},
   "outputs": [],
   "source": [
    "# Sactterplot mit Anteil abstrakter Wörter pro Jahr\n",
    "fig = px.scatter(df, x=\"Jahr\", y=\"anteil_abstrakt\",\\\n",
    "                 hover_data=[\"Titel\", \"Autor_normalisiert\", \"filename\"],\\\n",
    "                 trendline=\"ols\", trendline_options=dict(log_x=True), trendline_color_override=\"black\",\\\n",
    "                )\n",
    "fig.write_image(\"figures/scatterplot_anteil_abstrakt.png\")"
   ]
  },
  {
   "cell_type": "code",
   "execution_count": 63,
   "metadata": {},
   "outputs": [],
   "source": [
    "# Sactterplot mit Anteil abstrakter Wörter pro Jahr, colored nach authorgender\n",
    "fig = px.scatter(df, x=\"Jahr\", y=\"anteil_abstrakt\", color=\"Geschlecht\",\\\n",
    "                 hover_data=[\"Titel\", \"Autor_normalisiert\", \"filename\"],\\\n",
    "                 trendline=\"ols\",\\\n",
    "                 color_discrete_sequence=[\"orange\", \"indianred\"],\\\n",
    "                )\n",
    "fig.write_image(\"figures/scatterplot_anteil_abstrakt_col_gender.png\")"
   ]
  },
  {
   "cell_type": "code",
   "execution_count": 4,
   "metadata": {},
   "outputs": [],
   "source": [
    "# Sactterplot, in dem Anteil konkreter Wörter gegen Anteil abstrakter Wörter geplottet wird + coloriert nach Jahr\n",
    "fig = px.scatter(df, x=\"anteil_konkret\", y=\"anteil_abstrakt\", color=\"Jahr\",\\\n",
    "                 hover_data=[\"Titel\", \"Autor_normalisiert\", \"filename\"], \\\n",
    "                color_continuous_scale=px.colors.sequential.Plotly3,\\\n",
    "                )\n",
    "fig.write_image(\"figures/scatterplot_anteil_abstrakt_vs_konkret_col_year.png\")"
   ]
  },
  {
   "cell_type": "code",
   "execution_count": 6,
   "metadata": {},
   "outputs": [],
   "source": [
    "# Sactterplot, in dem Anteil konkreter Wörter gegen Anteil abstrakter Wörter geplottet wird + coloriert nach authorgender\n",
    "fig = px.scatter(df, x=\"anteil_konkret\", y=\"anteil_abstrakt\", color=\"Geschlecht\",\\\n",
    "                 hover_data=[\"Titel\", \"Autor_normalisiert\", \"filename\"], \\\n",
    "                color_continuous_scale=px.colors.sequential.Plotly3,\\\n",
    "                 color_discrete_sequence=[\"orange\", \"indianred\"],\\\n",
    "                 trendline=\"ols\",\\\n",
    "                )\n",
    "fig.write_image(\"figures/scatterplot_anteil_abstrakt_vs_konkret_col_gender.png\")"
   ]
  },
  {
   "cell_type": "markdown",
   "metadata": {},
   "source": [
    "# Lineplots für einzelne Wortfelder"
   ]
  },
  {
   "cell_type": "code",
   "execution_count": 5,
   "metadata": {},
   "outputs": [],
   "source": [
    "wortfelder_df = pd.read_csv(\"data/wortfelder.csv\", sep=\";\", encoding=\"utf-8\")\n",
    "wortfelder = wortfelder_df.Wortfeld.to_list()"
   ]
  },
  {
   "cell_type": "code",
   "execution_count": 22,
   "metadata": {},
   "outputs": [],
   "source": [
    "for wortfeld in wortfelder:\n",
    "    MA = \"MA\" + wortfeld\n",
    "    anteil = \"anteil_\" + wortfeld\n",
    "    df_year[MA] = df_year[anteil].rolling(window=3).mean()\n",
    "    #filename = \"line_plots/line_plot_\" + wortfeld + \".png\"\n",
    "    fig = px.line(df_year, x=\"Jahr\", y=anteil, color_discrete_sequence=[\"lightgrey\"])\n",
    "    fig.add_trace(go.Scatter(x=df_year.Jahr, \n",
    "                         y=df_year[MA], \n",
    "                         opacity=0.7, \n",
    "                         line=dict(color='darkblue', width=2), \n",
    "                         name='geglättet'))\n",
    "    fig.write_image(\"figures/lineplots_einzelne_wortfelder/\" + str(wortfeld) + \".png\")"
   ]
  },
  {
   "cell_type": "markdown",
   "metadata": {},
   "source": [
    "# Lineplot, in dem Kurven verschiedener Wortfelder übereinander liegen."
   ]
  },
  {
   "cell_type": "code",
   "execution_count": 24,
   "metadata": {},
   "outputs": [],
   "source": [
    "# konkrete Wortfelder\n",
    "fig = px.line(df_year, x=\"Jahr\", y=[\"anteil_Koerperteile\", \"anteil_Gebaeudeteile\", \"anteil_Bauwerke\",\\\n",
    "                                    \"anteil_Farben\", \"anteil_Kleidung\", \"anteil_helligkeitsspezifisch\",\\\n",
    "                                    \"anteil_Pflanzen\", \"anteil_Moebel\", \"anteil_Zimmer\", \"anteil_aussehensspezifisch\",\\\n",
    "                                    \"anteil_Kleidungsteile\", \"anteil_Heimtextilien\", \"anteil_Haushaltsgegenstaende\",\\\n",
    "                                    \"anteil_Dekorationsgegenstaende\", \"anteil_Aufmachung\", \"anteil_Taschen\", \"anteil_Stoffe\",\\\n",
    "                                    \"anteil_formspezifisch\", \"anteil_oberflaechenspezifisch\",\\\n",
    "                                   \"anteil_Holz\", \"anteil_Waelder\", \"anteil_Gartenanlagen\", \"anteil_Gruenflaechen\", \"anteil_Kunstobjekte\",\\\n",
    "                                    \"anteil_Bilder\", \"anteil_Ornamente\"])\n",
    "\n",
    "fig.update_layout(\n",
    "    \n",
    "    legend=dict(x=-0.01, y=-0.2),\n",
    "    legend_orientation=\"h\")\n",
    "fig.update_layout(title_font_family=\"Times New Roman\", legend_title_text='Wortfelder')\n",
    "\n",
    "fig.write_image(\"figures/lineplot_anteil_konkret_mehrere_wortfelder.png\")"
   ]
  },
  {
   "cell_type": "code",
   "execution_count": 25,
   "metadata": {},
   "outputs": [],
   "source": [
    "# konkrete und abstrakte Wortfelder\n",
    "fig = px.line(df_year, x=\"Jahr\", y=[\"anteil_Emotionen\", \"anteil_Charaktereigenschaften\", \"anteil_Koerperteile\", \"anteil_Gebaeudeteile\", \"anteil_Bauwerke\",\\\n",
    "                                    \"anteil_Farben\", \"anteil_Kleidung\", \"anteil_helligkeitsspezifisch\",\\\n",
    "                                    \"anteil_Pflanzen\", \"anteil_Moebel\", \"anteil_Zimmer\", \"anteil_aussehensspezifisch\",\\\n",
    "                                    \"anteil_Kleidungsteile\", \"anteil_Heimtextilien\", \"anteil_Haushaltsgegenstaende\",\\\n",
    "                                    \"anteil_Dekorationsgegenstaende\", \"anteil_Aufmachung\", \"anteil_Taschen\", \"anteil_Stoffe\",\\\n",
    "                                    \"anteil_formspezifisch\", \"anteil_oberflaechenspezifisch\",\\\n",
    "                                   \"anteil_Holz\", \"anteil_Waelder\", \"anteil_Gartenanlagen\", \"anteil_Gruenflaechen\", \"anteil_Kunstobjekte\",\\\n",
    "                                    \"anteil_Bilder\", \"anteil_Ornamente\"])\n",
    "\n",
    "fig.update_layout(\n",
    "    \n",
    "    legend=dict(x=-0.01, y=-0.2),\n",
    "    legend_orientation=\"h\")\n",
    "fig.update_layout(title_font_family=\"Times New Roman\", legend_title_text='Wortfelder')\n",
    "\n",
    "fig.write_image(\"figures/lineplot_anteil_konkret_u_abstrakt_mehrere_wortfelder.png\")"
   ]
  },
  {
   "cell_type": "markdown",
   "metadata": {},
   "source": [
    "# Plots für Wörter aus Bereich \"Figuren\""
   ]
  },
  {
   "cell_type": "code",
   "execution_count": 30,
   "metadata": {},
   "outputs": [],
   "source": [
    "df[\"Anteil Wörter Figurenaussehen\"] = df[\"anteil_Koerperteile\"] + df[\"anteil_Kleidung\"] + df[\"anteil_Kleidungsteile\"] + df[\"anteil_Schmuck\"] + df[\"anteil_Taschen\"] + df[\"anteil_Aufmachung\"] + df[\"anteil_aussehensspezifisch\"]"
   ]
  },
  {
   "cell_type": "code",
   "execution_count": 32,
   "metadata": {},
   "outputs": [],
   "source": [
    "fig = px.scatter(df, y=\"Anteil Wörter Figurenaussehen\", x=\"Jahr\",\\\n",
    "                 hover_data=[\"Titel\", \"Autor_normalisiert\", \"filename\"],\\\n",
    "                \n",
    "                 trendline=\"ols\",\\\n",
    "                 color_discrete_sequence=[\"purple\"]\n",
    "                \n",
    "                )\n",
    "fig.data[1].update(line_color='black') \n",
    "\n",
    "fig.write_image(\"figures/scatterplot_anteil_figurenaussehen.png\")"
   ]
  },
  {
   "cell_type": "code",
   "execution_count": 33,
   "metadata": {},
   "outputs": [
    {
     "name": "stderr",
     "output_type": "stream",
     "text": [
      "/var/folders/3c/d5qkn8zs6f9bq34fzlrqkm780000gn/T/ipykernel_3600/3063989296.py:6: SettingWithCopyWarning:\n",
      "\n",
      "\n",
      "A value is trying to be set on a copy of a slice from a DataFrame\n",
      "\n",
      "See the caveats in the documentation: https://pandas.pydata.org/pandas-docs/stable/user_guide/indexing.html#returning-a-view-versus-a-copy\n",
      "\n"
     ]
    }
   ],
   "source": [
    "# Figurenaussehen und Autor\n",
    "df_special = df.copy()\n",
    "hervorheben = [\"Dauthendey, Max\", \"Mereau, Sophie\"]\n",
    "for i in range(len(df_special)):\n",
    "    if df_special[\"Autor_normalisiert\"].loc[i] not in hervorheben:\n",
    "        df_special[\"Autor_normalisiert\"].loc[i] = \"other\"\n",
    "        #df_special[\"Titel\"].loc[i] = \"other\""
   ]
  },
  {
   "cell_type": "code",
   "execution_count": 36,
   "metadata": {},
   "outputs": [],
   "source": [
    "fig = px.scatter(df_special, y=\"Anteil Wörter Figurenaussehen\", x=\"Jahr\",\\\n",
    "                 hover_data=[\"Titel\", \"Autor_normalisiert\", \"filename\"],\\\n",
    "                \n",
    "                 trendline=\"ols\",\n",
    "                color=\"Autor_normalisiert\"\n",
    "                )\n",
    "fig.data[1].update(line_color='black') \n",
    "#fig.update_layout({\"plot_bgcolor\": \"rgba(0, 0, 0, 0)\", \"paper_bgcolor\": \"rgba(0, 0, 0, 0)\",})\n",
    "\n",
    "fig.write_image(\"figures/scatterplot_anteil_figurenaussehen_dauthendey_mereau.png\")"
   ]
  },
  {
   "cell_type": "markdown",
   "metadata": {},
   "source": [
    "# Plots für Häufigkeiten unter Berücksichtigung der Redewiedergabe-Form\n"
   ]
  },
  {
   "cell_type": "code",
   "execution_count": 3,
   "metadata": {},
   "outputs": [],
   "source": [
    "df = pd.read_csv(\"data/roman_korpus_word_frequencies_redewiedergabe.csv\", sep=\";\")"
   ]
  },
  {
   "cell_type": "code",
   "execution_count": 38,
   "metadata": {},
   "outputs": [
    {
     "name": "stderr",
     "output_type": "stream",
     "text": [
      "/var/folders/3c/d5qkn8zs6f9bq34fzlrqkm780000gn/T/ipykernel_3600/3862513688.py:1: FutureWarning:\n",
      "\n",
      "The default value of numeric_only in DataFrameGroupBy.mean is deprecated. In a future version, numeric_only will default to False. Either specify numeric_only or select only columns which should be valid for the function.\n",
      "\n",
      "/var/folders/3c/d5qkn8zs6f9bq34fzlrqkm780000gn/T/ipykernel_3600/3862513688.py:2: FutureWarning:\n",
      "\n",
      "The default value of numeric_only in DataFrameGroupBy.median is deprecated. In a future version, numeric_only will default to False. Either specify numeric_only or select only columns which should be valid for the function.\n",
      "\n"
     ]
    }
   ],
   "source": [
    "df_year = df.groupby([\"Jahr\"]).mean().reset_index()\n",
    "df_year_median = df.groupby([\"Jahr\"]).median().reset_index()"
   ]
  },
  {
   "cell_type": "code",
   "execution_count": 39,
   "metadata": {},
   "outputs": [],
   "source": [
    "df_year[\"MA_direct\"] = df_year[\"ant_dir_rede\"].rolling(window=3).mean()\n",
    "df_year[\"MA_indirect\"] = df_year[\"ant_ind_rede\"].rolling(window=3).mean()\n",
    "df_year[\"MA_reported\"] = df_year[\"ant_rep\"].rolling(window=3).mean()"
   ]
  },
  {
   "cell_type": "markdown",
   "metadata": {},
   "source": [
    "## Häufigkeiten der Redetypen"
   ]
  },
  {
   "cell_type": "code",
   "execution_count": 49,
   "metadata": {},
   "outputs": [],
   "source": [
    "# Anteile Redewiedergabe Typen\n",
    "fig = px.line(df_year, x=\"Jahr\", y=[\"ant_dir_rede\", \"ant_ind_rede\", \"ant_rep\"])\n",
    "\n",
    "fig.update_layout(\n",
    "    \n",
    "    legend=dict(x=-0.01, y=-0.2),\n",
    "    legend_orientation=\"h\")\n",
    "fig.update_layout(title_font_family=\"Times New Roman\", legend_title_text='Wortfelder')\n",
    "\n",
    "fig.write_image(\"figures/redewiedergabe/lineplot_anteil_redewiedergabe.png\")"
   ]
  },
  {
   "cell_type": "markdown",
   "metadata": {},
   "source": [
    "## Verteilung konkret/abstrakt in Bezug auf Redewiedergabe"
   ]
  },
  {
   "cell_type": "code",
   "execution_count": 50,
   "metadata": {},
   "outputs": [],
   "source": [
    "# Anteil konkreter Wörter an Redewiedergabe-Typ: Erzählerrede\n",
    "fig = px.scatter(df, x=\"Jahr\", y=\"ant_narr_konkret\",\\\n",
    "                 hover_data=[\"Titel\", \"Autor_normalisiert\", \"filename\", \"ant_narr_konkret\"],\\\n",
    "                trendline=\"ols\", trendline_options=dict(log_x=True), trendline_color_override=\"black\",\\\n",
    "                color_discrete_sequence=[\"darkred\"])\n",
    "                 #color=\"Titel\",\\\n",
    "                 #color_discrete_sequence=[\"lightblue\", \"orange\", \"green\", \"red\", \\\n",
    "                                          #\"darkgreen\",\"midnightblue\", \"darkmagenta\", \"pink\", \"magenta\"])\n",
    "                \n",
    "fig.write_image(\"figures/redewiedergabe/scatterplot_anteil_konkret_erzählerrede.png\")"
   ]
  },
  {
   "cell_type": "code",
   "execution_count": 54,
   "metadata": {},
   "outputs": [],
   "source": [
    "# Anteil abstrakter Wörter an Redewiedergabe-Typ: Erzählerrede\n",
    "\n",
    "fig = px.scatter(df, y=\"ant_narr_abstrakt\", x=\"Jahr\",\\\n",
    "                 hover_data=[\"Titel\", \"Autor_normalisiert\", \"filename\"], \\\n",
    "                 trendline=\"ols\", trendline_options=dict(log_x=True), trendline_color_override=\"black\",\\\n",
    "                 #color_discrete_sequence=[\"lightblue\", \"orange\", \"green\", \"red\", \"darkgreen\",\"midnightblue\", \"darkmagenta\", \"pink\", \"magenta\"],\\\n",
    "                \n",
    "                )\n",
    "fig.write_image(\"figures/redewiedergabe/scatterplot_anteil_abstrakt_erzählerrede.png\")"
   ]
  },
  {
   "cell_type": "markdown",
   "metadata": {},
   "source": [
    "# Plots einfärben nach Autoren"
   ]
  },
  {
   "cell_type": "code",
   "execution_count": 19,
   "metadata": {},
   "outputs": [
    {
     "name": "stderr",
     "output_type": "stream",
     "text": [
      "/var/folders/3c/d5qkn8zs6f9bq34fzlrqkm780000gn/T/ipykernel_4676/4028528610.py:6: SettingWithCopyWarning:\n",
      "\n",
      "\n",
      "A value is trying to be set on a copy of a slice from a DataFrame\n",
      "\n",
      "See the caveats in the documentation: https://pandas.pydata.org/pandas-docs/stable/user_guide/indexing.html#returning-a-view-versus-a-copy\n",
      "\n"
     ]
    }
   ],
   "source": [
    "# Theodor Fontane\n",
    "df_special = df.copy()\n",
    "hervorheben = [\"Fontane, Theodor\"]\n",
    "for i in range(len(df_special)):\n",
    "    if df_special[\"Autor_normalisiert\"].loc[i] not in hervorheben:\n",
    "        df_special[\"Autor_normalisiert\"].loc[i] = \"other\"\n",
    "        #df_special[\"Titel\"].loc[i] = \"other\"\n",
    "\n",
    "    \n",
    "fig = px.scatter(df_special, x=\"Jahr\", y=\"anteil_konkret\",\\\n",
    "                 hover_data=[\"Titel\", \"Autor_normalisiert\", \"filename\"], \\\n",
    "                 color=\"Autor_normalisiert\",\\\n",
    "                 trendline=\"ols\",\\\n",
    "                 color_discrete_sequence=[\"lightblue\", \"orange\"],\\\n",
    "                \n",
    "                )\n",
    "\n",
    "\n",
    "fig.write_image(\"figures/colored_autoren/scatterplot_anteil_konkret_col_fontane.png\")"
   ]
  },
  {
   "cell_type": "code",
   "execution_count": 20,
   "metadata": {},
   "outputs": [
    {
     "name": "stderr",
     "output_type": "stream",
     "text": [
      "/var/folders/3c/d5qkn8zs6f9bq34fzlrqkm780000gn/T/ipykernel_4676/3264129736.py:6: SettingWithCopyWarning:\n",
      "\n",
      "\n",
      "A value is trying to be set on a copy of a slice from a DataFrame\n",
      "\n",
      "See the caveats in the documentation: https://pandas.pydata.org/pandas-docs/stable/user_guide/indexing.html#returning-a-view-versus-a-copy\n",
      "\n"
     ]
    }
   ],
   "source": [
    "# Friedrich Spielhagen\n",
    "df_special = df.copy()\n",
    "hervorheben = [\"Spielhagen, Friedrich\"]\n",
    "for i in range(len(df_special)):\n",
    "    if df_special[\"Autor_normalisiert\"].loc[i] not in hervorheben:\n",
    "        df_special[\"Autor_normalisiert\"].loc[i] = \"other\"\n",
    "\n",
    "    \n",
    "fig = px.scatter(df_special, x=\"Jahr\", y=\"anteil_konkret\",\\\n",
    "                 hover_data=[\"Titel\", \"Autor_normalisiert\", \"filename\"], \\\n",
    "                 color=\"Autor_normalisiert\",\\\n",
    "                 trendline=\"ols\",\\\n",
    "                 color_discrete_sequence=[\"lightblue\", \"green\"],\\\n",
    "                \n",
    "                )\n",
    "\n",
    "\n",
    "fig.write_image(\"figures/colored_autoren/scatterplot_anteil_konkret_col_spielhagen.png\")"
   ]
  },
  {
   "cell_type": "code",
   "execution_count": 21,
   "metadata": {},
   "outputs": [
    {
     "name": "stderr",
     "output_type": "stream",
     "text": [
      "/var/folders/3c/d5qkn8zs6f9bq34fzlrqkm780000gn/T/ipykernel_4676/8852746.py:6: SettingWithCopyWarning:\n",
      "\n",
      "\n",
      "A value is trying to be set on a copy of a slice from a DataFrame\n",
      "\n",
      "See the caveats in the documentation: https://pandas.pydata.org/pandas-docs/stable/user_guide/indexing.html#returning-a-view-versus-a-copy\n",
      "\n"
     ]
    }
   ],
   "source": [
    "# Eugenie Marlitt\n",
    "df_special = df.copy()\n",
    "hervorheben = [\"Marlitt, Eugenie\"]\n",
    "for i in range(len(df_special)):\n",
    "    if df_special[\"Autor_normalisiert\"].loc[i] not in hervorheben:\n",
    "        df_special[\"Autor_normalisiert\"].loc[i] = \"other\"\n",
    "        #df_special[\"Titel\"].loc[i] = \"other\"\n",
    "\n",
    "    \n",
    "fig = px.scatter(df_special, x=\"Jahr\", y=\"anteil_konkret\",\\\n",
    "                 hover_data=[\"Titel\", \"Autor_normalisiert\", \"filename\"], \\\n",
    "                 color=\"Autor_normalisiert\",\\\n",
    "                 trendline=\"ols\",\\\n",
    "                 color_discrete_sequence=[\"lightblue\", \"red\"],\\\n",
    "                \n",
    "                )\n",
    "\n",
    "fig.write_image(\"figures/colored_autoren/scatterplot_anteil_konkret_col_marlitt.png\")"
   ]
  },
  {
   "cell_type": "code",
   "execution_count": 23,
   "metadata": {},
   "outputs": [
    {
     "name": "stderr",
     "output_type": "stream",
     "text": [
      "/var/folders/3c/d5qkn8zs6f9bq34fzlrqkm780000gn/T/ipykernel_4676/3082970846.py:6: SettingWithCopyWarning:\n",
      "\n",
      "\n",
      "A value is trying to be set on a copy of a slice from a DataFrame\n",
      "\n",
      "See the caveats in the documentation: https://pandas.pydata.org/pandas-docs/stable/user_guide/indexing.html#returning-a-view-versus-a-copy\n",
      "\n"
     ]
    }
   ],
   "source": [
    "# Wieland, Christoph Martin\n",
    "df_special = df.copy()\n",
    "hervorheben = [\"Wieland, Christoph Martin\"]\n",
    "for i in range(len(df_special)):\n",
    "    if df_special[\"Autor_normalisiert\"].loc[i] not in hervorheben:\n",
    "        df_special[\"Autor_normalisiert\"].loc[i] = \"other\"\n",
    "        #df_special[\"Titel\"].loc[i] = \"other\"\n",
    "\n",
    "    \n",
    "fig = px.scatter(df_special, x=\"Jahr\", y=\"anteil_konkret\",\\\n",
    "                 hover_data=[\"Titel\", \"Autor_normalisiert\", \"filename\"], \\\n",
    "                 color=\"Autor_normalisiert\",\\\n",
    "                 trendline=\"ols\",\\\n",
    "                 color_discrete_sequence=[\"lightblue\", \"midnightblue\"],\\\n",
    "                \n",
    "                )\n",
    "\n",
    "fig.write_image(\"figures/colored_autoren/scatterplot_anteil_konkret_col_wieland.png\")"
   ]
  },
  {
   "cell_type": "code",
   "execution_count": 24,
   "metadata": {},
   "outputs": [
    {
     "name": "stderr",
     "output_type": "stream",
     "text": [
      "/var/folders/3c/d5qkn8zs6f9bq34fzlrqkm780000gn/T/ipykernel_4676/1969162249.py:6: SettingWithCopyWarning:\n",
      "\n",
      "\n",
      "A value is trying to be set on a copy of a slice from a DataFrame\n",
      "\n",
      "See the caveats in the documentation: https://pandas.pydata.org/pandas-docs/stable/user_guide/indexing.html#returning-a-view-versus-a-copy\n",
      "\n"
     ]
    }
   ],
   "source": [
    "# Dauthendey, Max\n",
    "df_special = df.copy()\n",
    "hervorheben = [\"Dauthendey, Max\"]\n",
    "for i in range(len(df_special)):\n",
    "    if df_special[\"Autor_normalisiert\"].loc[i] not in hervorheben:\n",
    "        df_special[\"Autor_normalisiert\"].loc[i] = \"other\"\n",
    "        #df_special[\"Titel\"].loc[i] = \"other\"\n",
    "\n",
    "    \n",
    "fig = px.scatter(df_special, x=\"Jahr\", y=\"anteil_konkret\",\\\n",
    "                 hover_data=[\"Titel\", \"Autor_normalisiert\", \"filename\"], \\\n",
    "                 color=\"Autor_normalisiert\",\\\n",
    "                 trendline=\"ols\",\\\n",
    "                 color_discrete_sequence=[\"lightblue\", \"darkmagenta\"],\\\n",
    "                \n",
    "                )\n",
    "\n",
    "fig.write_image(\"figures/colored_autoren/scatterplot_anteil_konkret_col_dauthendey.png\")"
   ]
  },
  {
   "cell_type": "code",
   "execution_count": 27,
   "metadata": {},
   "outputs": [
    {
     "name": "stderr",
     "output_type": "stream",
     "text": [
      "/var/folders/3c/d5qkn8zs6f9bq34fzlrqkm780000gn/T/ipykernel_4676/538197966.py:6: SettingWithCopyWarning:\n",
      "\n",
      "\n",
      "A value is trying to be set on a copy of a slice from a DataFrame\n",
      "\n",
      "See the caveats in the documentation: https://pandas.pydata.org/pandas-docs/stable/user_guide/indexing.html#returning-a-view-versus-a-copy\n",
      "\n"
     ]
    }
   ],
   "source": [
    "# Stifter, Adalbert\n",
    "df_special = df.copy()\n",
    "hervorheben = [\"Stifter, Adalbert\"]\n",
    "for i in range(len(df_special)):\n",
    "    if df_special[\"Autor_normalisiert\"].loc[i] not in hervorheben:\n",
    "        df_special[\"Autor_normalisiert\"].loc[i] = \"other\"\n",
    "        #df_special[\"Titel\"].loc[i] = \"other\"\n",
    "\n",
    "    \n",
    "fig = px.scatter(df_special, x=\"Jahr\", y=\"anteil_konkret\",\\\n",
    "                 hover_data=[\"Titel\", \"Autor_normalisiert\", \"filename\"], \\\n",
    "                 color=\"Autor_normalisiert\",\\\n",
    "                 trendline=\"ols\",\\\n",
    "                 color_discrete_sequence=[\"lightblue\", \"magenta\"],\\\n",
    "                \n",
    "                )\n",
    "\n",
    "fig.write_image(\"figures/colored_autoren/scatterplot_anteil_konkret_col_stifter.png\")"
   ]
  },
  {
   "cell_type": "markdown",
   "metadata": {},
   "source": [
    "# Konkretheitswerte insgesamt (Köper/Schulte im Walde)"
   ]
  },
  {
   "cell_type": "code",
   "execution_count": 69,
   "metadata": {},
   "outputs": [],
   "source": [
    "dfac = pd.read_csv(\"roman_corpus_AbstConc.csv\", sep=\";\")\n",
    "dfac = dfac.rename(columns={\"anteil_AbstConc\": \"Konkretheit\"})"
   ]
  },
  {
   "cell_type": "code",
   "execution_count": 70,
   "metadata": {},
   "outputs": [
    {
     "name": "stderr",
     "output_type": "stream",
     "text": [
      "/var/folders/3c/d5qkn8zs6f9bq34fzlrqkm780000gn/T/ipykernel_3600/3334473707.py:1: FutureWarning:\n",
      "\n",
      "The default value of numeric_only in DataFrameGroupBy.mean is deprecated. In a future version, numeric_only will default to False. Either specify numeric_only or select only columns which should be valid for the function.\n",
      "\n",
      "/var/folders/3c/d5qkn8zs6f9bq34fzlrqkm780000gn/T/ipykernel_3600/3334473707.py:2: FutureWarning:\n",
      "\n",
      "The default value of numeric_only in DataFrameGroupBy.median is deprecated. In a future version, numeric_only will default to False. Either specify numeric_only or select only columns which should be valid for the function.\n",
      "\n"
     ]
    }
   ],
   "source": [
    "dfac_year = dfac.groupby([\"Jahr\"]).mean().reset_index()\n",
    "dfac_year_median = dfac.groupby([\"Jahr\"]).median().reset_index()\n",
    "#dfac_year_median.tail()"
   ]
  },
  {
   "cell_type": "code",
   "execution_count": 72,
   "metadata": {},
   "outputs": [],
   "source": [
    "dfac_year[\"MA_anteil_AbstConc\"] = dfac_year[\"Konkretheit\"].rolling(window=3).mean()"
   ]
  },
  {
   "cell_type": "code",
   "execution_count": 76,
   "metadata": {},
   "outputs": [],
   "source": [
    "# anteil_konkret vs anteil_abstrakt\n",
    "fig = px.scatter(dfac, y=\"Konkretheit\", x=\"Jahr\",\\\n",
    "                 hover_data=[\"Titel\", \"Autor_normalisiert\", \"filename\"], trendline=\"ols\",\\\n",
    "                trendline_options=dict(log_x=True), trendline_color_override=\"black\", \\\n",
    "                 color_discrete_sequence=[\"black\"]\n",
    "                )\n",
    "fig.write_image(\"figures/scatterplot_konkretheitswerte.png\")"
   ]
  }
 ],
 "metadata": {
  "kernelspec": {
   "display_name": "Python 3 (ipykernel)",
   "language": "python",
   "name": "python3"
  },
  "language_info": {
   "codemirror_mode": {
    "name": "ipython",
    "version": 3
   },
   "file_extension": ".py",
   "mimetype": "text/x-python",
   "name": "python",
   "nbconvert_exporter": "python",
   "pygments_lexer": "ipython3",
   "version": "3.10.8"
  }
 },
 "nbformat": 4,
 "nbformat_minor": 2
}

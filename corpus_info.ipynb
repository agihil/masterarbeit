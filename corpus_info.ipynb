{
 "cells": [
  {
   "cell_type": "code",
   "execution_count": 15,
   "metadata": {},
   "outputs": [],
   "source": [
    "import pandas as pd\n",
    "import plotly.express as px\n",
    "import tqdm\n",
    "import re\n",
    "import plotly.graph_objects as go"
   ]
  },
  {
   "cell_type": "markdown",
   "metadata": {},
   "source": [
    "# Plot für ganzes Korpus"
   ]
  },
  {
   "cell_type": "code",
   "execution_count": 16,
   "metadata": {},
   "outputs": [],
   "source": [
    "# Korpus einlesen\n",
    "df = pd.read_csv(\"data/metadaten.csv\", sep=\";\")"
   ]
  },
  {
   "cell_type": "markdown",
   "metadata": {},
   "source": [
    "# Anzahl der Romane im Korpus pro Jahr"
   ]
  },
  {
   "cell_type": "code",
   "execution_count": 17,
   "metadata": {},
   "outputs": [],
   "source": [
    "# Gruppiere Dataframe nach Erscheinungsjahr der Romane\n",
    "df_year = df.groupby([\"Jahr\"]).count().reset_index()"
   ]
  },
  {
   "cell_type": "code",
   "execution_count": 24,
   "metadata": {},
   "outputs": [
    {
     "data": {
      "application/vnd.plotly.v1+json": {
       "config": {
        "plotlyServerURL": "https://plot.ly"
       },
       "data": [
        {
         "alignmentgroup": "True",
         "bingroup": "x",
         "histfunc": "sum",
         "hovertemplate": "Jahr=%{x}<br>sum of Titel=%{y}<extra></extra>",
         "legendgroup": "",
         "marker": {
          "color": "royalblue",
          "pattern": {
           "shape": ""
          }
         },
         "name": "",
         "nbinsx": 150,
         "offsetgroup": "",
         "orientation": "v",
         "showlegend": false,
         "type": "histogram",
         "x": [
          1760,
          1764,
          1766,
          1771,
          1772,
          1773,
          1774,
          1775,
          1776,
          1778,
          1779,
          1780,
          1781,
          1783,
          1784,
          1785,
          1786,
          1787,
          1788,
          1789,
          1790,
          1791,
          1792,
          1793,
          1794,
          1795,
          1796,
          1797,
          1798,
          1799,
          1800,
          1801,
          1802,
          1803,
          1804,
          1806,
          1807,
          1808,
          1809,
          1810,
          1812,
          1813,
          1814,
          1815,
          1817,
          1818,
          1819,
          1821,
          1822,
          1823,
          1824,
          1825,
          1826,
          1827,
          1828,
          1829,
          1830,
          1832,
          1833,
          1834,
          1835,
          1836,
          1837,
          1838,
          1839,
          1840,
          1841,
          1842,
          1843,
          1844,
          1845,
          1846,
          1847,
          1848,
          1849,
          1850,
          1851,
          1852,
          1853,
          1854,
          1855,
          1856,
          1857,
          1858,
          1859,
          1860,
          1861,
          1862,
          1863,
          1864,
          1865,
          1866,
          1867,
          1868,
          1869,
          1870,
          1871,
          1872,
          1873,
          1874,
          1875,
          1876,
          1877,
          1878,
          1879,
          1880,
          1881,
          1882,
          1883,
          1884,
          1885,
          1886,
          1887,
          1888,
          1889,
          1890,
          1891,
          1892,
          1893,
          1894,
          1895,
          1896,
          1897,
          1898,
          1899,
          1900,
          1901,
          1902,
          1903,
          1904,
          1905,
          1906,
          1907,
          1908,
          1909,
          1910,
          1911,
          1912,
          1913,
          1914,
          1915,
          1916,
          1917,
          1918,
          1919,
          1920
         ],
         "xaxis": "x",
         "y": [
          1,
          1,
          1,
          2,
          1,
          1,
          2,
          1,
          3,
          1,
          5,
          1,
          5,
          1,
          3,
          1,
          1,
          4,
          11,
          2,
          2,
          6,
          2,
          1,
          1,
          11,
          4,
          1,
          4,
          5,
          2,
          5,
          5,
          1,
          4,
          1,
          3,
          2,
          3,
          3,
          6,
          1,
          1,
          3,
          3,
          1,
          4,
          1,
          4,
          1,
          1,
          2,
          3,
          2,
          4,
          4,
          2,
          3,
          2,
          4,
          6,
          2,
          3,
          4,
          4,
          6,
          5,
          3,
          8,
          3,
          5,
          10,
          2,
          5,
          3,
          3,
          3,
          4,
          3,
          11,
          7,
          9,
          6,
          8,
          7,
          7,
          4,
          1,
          2,
          11,
          7,
          4,
          5,
          5,
          13,
          6,
          5,
          1,
          3,
          6,
          3,
          12,
          8,
          8,
          11,
          16,
          9,
          11,
          12,
          8,
          20,
          7,
          14,
          13,
          18,
          19,
          8,
          17,
          8,
          14,
          14,
          21,
          24,
          14,
          24,
          34,
          16,
          19,
          19,
          18,
          21,
          21,
          18,
          19,
          26,
          17,
          21,
          33,
          27,
          18,
          22,
          20,
          11,
          17,
          22,
          19
         ],
         "yaxis": "y"
        }
       ],
       "layout": {
        "barmode": "relative",
        "legend": {
         "tracegroupgap": 0
        },
        "margin": {
         "t": 60
        },
        "template": {
         "data": {
          "bar": [
           {
            "error_x": {
             "color": "#2a3f5f"
            },
            "error_y": {
             "color": "#2a3f5f"
            },
            "marker": {
             "line": {
              "color": "#E5ECF6",
              "width": 0.5
             },
             "pattern": {
              "fillmode": "overlay",
              "size": 10,
              "solidity": 0.2
             }
            },
            "type": "bar"
           }
          ],
          "barpolar": [
           {
            "marker": {
             "line": {
              "color": "#E5ECF6",
              "width": 0.5
             },
             "pattern": {
              "fillmode": "overlay",
              "size": 10,
              "solidity": 0.2
             }
            },
            "type": "barpolar"
           }
          ],
          "carpet": [
           {
            "aaxis": {
             "endlinecolor": "#2a3f5f",
             "gridcolor": "white",
             "linecolor": "white",
             "minorgridcolor": "white",
             "startlinecolor": "#2a3f5f"
            },
            "baxis": {
             "endlinecolor": "#2a3f5f",
             "gridcolor": "white",
             "linecolor": "white",
             "minorgridcolor": "white",
             "startlinecolor": "#2a3f5f"
            },
            "type": "carpet"
           }
          ],
          "choropleth": [
           {
            "colorbar": {
             "outlinewidth": 0,
             "ticks": ""
            },
            "type": "choropleth"
           }
          ],
          "contour": [
           {
            "colorbar": {
             "outlinewidth": 0,
             "ticks": ""
            },
            "colorscale": [
             [
              0,
              "#0d0887"
             ],
             [
              0.1111111111111111,
              "#46039f"
             ],
             [
              0.2222222222222222,
              "#7201a8"
             ],
             [
              0.3333333333333333,
              "#9c179e"
             ],
             [
              0.4444444444444444,
              "#bd3786"
             ],
             [
              0.5555555555555556,
              "#d8576b"
             ],
             [
              0.6666666666666666,
              "#ed7953"
             ],
             [
              0.7777777777777778,
              "#fb9f3a"
             ],
             [
              0.8888888888888888,
              "#fdca26"
             ],
             [
              1,
              "#f0f921"
             ]
            ],
            "type": "contour"
           }
          ],
          "contourcarpet": [
           {
            "colorbar": {
             "outlinewidth": 0,
             "ticks": ""
            },
            "type": "contourcarpet"
           }
          ],
          "heatmap": [
           {
            "colorbar": {
             "outlinewidth": 0,
             "ticks": ""
            },
            "colorscale": [
             [
              0,
              "#0d0887"
             ],
             [
              0.1111111111111111,
              "#46039f"
             ],
             [
              0.2222222222222222,
              "#7201a8"
             ],
             [
              0.3333333333333333,
              "#9c179e"
             ],
             [
              0.4444444444444444,
              "#bd3786"
             ],
             [
              0.5555555555555556,
              "#d8576b"
             ],
             [
              0.6666666666666666,
              "#ed7953"
             ],
             [
              0.7777777777777778,
              "#fb9f3a"
             ],
             [
              0.8888888888888888,
              "#fdca26"
             ],
             [
              1,
              "#f0f921"
             ]
            ],
            "type": "heatmap"
           }
          ],
          "heatmapgl": [
           {
            "colorbar": {
             "outlinewidth": 0,
             "ticks": ""
            },
            "colorscale": [
             [
              0,
              "#0d0887"
             ],
             [
              0.1111111111111111,
              "#46039f"
             ],
             [
              0.2222222222222222,
              "#7201a8"
             ],
             [
              0.3333333333333333,
              "#9c179e"
             ],
             [
              0.4444444444444444,
              "#bd3786"
             ],
             [
              0.5555555555555556,
              "#d8576b"
             ],
             [
              0.6666666666666666,
              "#ed7953"
             ],
             [
              0.7777777777777778,
              "#fb9f3a"
             ],
             [
              0.8888888888888888,
              "#fdca26"
             ],
             [
              1,
              "#f0f921"
             ]
            ],
            "type": "heatmapgl"
           }
          ],
          "histogram": [
           {
            "marker": {
             "pattern": {
              "fillmode": "overlay",
              "size": 10,
              "solidity": 0.2
             }
            },
            "type": "histogram"
           }
          ],
          "histogram2d": [
           {
            "colorbar": {
             "outlinewidth": 0,
             "ticks": ""
            },
            "colorscale": [
             [
              0,
              "#0d0887"
             ],
             [
              0.1111111111111111,
              "#46039f"
             ],
             [
              0.2222222222222222,
              "#7201a8"
             ],
             [
              0.3333333333333333,
              "#9c179e"
             ],
             [
              0.4444444444444444,
              "#bd3786"
             ],
             [
              0.5555555555555556,
              "#d8576b"
             ],
             [
              0.6666666666666666,
              "#ed7953"
             ],
             [
              0.7777777777777778,
              "#fb9f3a"
             ],
             [
              0.8888888888888888,
              "#fdca26"
             ],
             [
              1,
              "#f0f921"
             ]
            ],
            "type": "histogram2d"
           }
          ],
          "histogram2dcontour": [
           {
            "colorbar": {
             "outlinewidth": 0,
             "ticks": ""
            },
            "colorscale": [
             [
              0,
              "#0d0887"
             ],
             [
              0.1111111111111111,
              "#46039f"
             ],
             [
              0.2222222222222222,
              "#7201a8"
             ],
             [
              0.3333333333333333,
              "#9c179e"
             ],
             [
              0.4444444444444444,
              "#bd3786"
             ],
             [
              0.5555555555555556,
              "#d8576b"
             ],
             [
              0.6666666666666666,
              "#ed7953"
             ],
             [
              0.7777777777777778,
              "#fb9f3a"
             ],
             [
              0.8888888888888888,
              "#fdca26"
             ],
             [
              1,
              "#f0f921"
             ]
            ],
            "type": "histogram2dcontour"
           }
          ],
          "mesh3d": [
           {
            "colorbar": {
             "outlinewidth": 0,
             "ticks": ""
            },
            "type": "mesh3d"
           }
          ],
          "parcoords": [
           {
            "line": {
             "colorbar": {
              "outlinewidth": 0,
              "ticks": ""
             }
            },
            "type": "parcoords"
           }
          ],
          "pie": [
           {
            "automargin": true,
            "type": "pie"
           }
          ],
          "scatter": [
           {
            "fillpattern": {
             "fillmode": "overlay",
             "size": 10,
             "solidity": 0.2
            },
            "type": "scatter"
           }
          ],
          "scatter3d": [
           {
            "line": {
             "colorbar": {
              "outlinewidth": 0,
              "ticks": ""
             }
            },
            "marker": {
             "colorbar": {
              "outlinewidth": 0,
              "ticks": ""
             }
            },
            "type": "scatter3d"
           }
          ],
          "scattercarpet": [
           {
            "marker": {
             "colorbar": {
              "outlinewidth": 0,
              "ticks": ""
             }
            },
            "type": "scattercarpet"
           }
          ],
          "scattergeo": [
           {
            "marker": {
             "colorbar": {
              "outlinewidth": 0,
              "ticks": ""
             }
            },
            "type": "scattergeo"
           }
          ],
          "scattergl": [
           {
            "marker": {
             "colorbar": {
              "outlinewidth": 0,
              "ticks": ""
             }
            },
            "type": "scattergl"
           }
          ],
          "scattermapbox": [
           {
            "marker": {
             "colorbar": {
              "outlinewidth": 0,
              "ticks": ""
             }
            },
            "type": "scattermapbox"
           }
          ],
          "scatterpolar": [
           {
            "marker": {
             "colorbar": {
              "outlinewidth": 0,
              "ticks": ""
             }
            },
            "type": "scatterpolar"
           }
          ],
          "scatterpolargl": [
           {
            "marker": {
             "colorbar": {
              "outlinewidth": 0,
              "ticks": ""
             }
            },
            "type": "scatterpolargl"
           }
          ],
          "scatterternary": [
           {
            "marker": {
             "colorbar": {
              "outlinewidth": 0,
              "ticks": ""
             }
            },
            "type": "scatterternary"
           }
          ],
          "surface": [
           {
            "colorbar": {
             "outlinewidth": 0,
             "ticks": ""
            },
            "colorscale": [
             [
              0,
              "#0d0887"
             ],
             [
              0.1111111111111111,
              "#46039f"
             ],
             [
              0.2222222222222222,
              "#7201a8"
             ],
             [
              0.3333333333333333,
              "#9c179e"
             ],
             [
              0.4444444444444444,
              "#bd3786"
             ],
             [
              0.5555555555555556,
              "#d8576b"
             ],
             [
              0.6666666666666666,
              "#ed7953"
             ],
             [
              0.7777777777777778,
              "#fb9f3a"
             ],
             [
              0.8888888888888888,
              "#fdca26"
             ],
             [
              1,
              "#f0f921"
             ]
            ],
            "type": "surface"
           }
          ],
          "table": [
           {
            "cells": {
             "fill": {
              "color": "#EBF0F8"
             },
             "line": {
              "color": "white"
             }
            },
            "header": {
             "fill": {
              "color": "#C8D4E3"
             },
             "line": {
              "color": "white"
             }
            },
            "type": "table"
           }
          ]
         },
         "layout": {
          "annotationdefaults": {
           "arrowcolor": "#2a3f5f",
           "arrowhead": 0,
           "arrowwidth": 1
          },
          "autotypenumbers": "strict",
          "coloraxis": {
           "colorbar": {
            "outlinewidth": 0,
            "ticks": ""
           }
          },
          "colorscale": {
           "diverging": [
            [
             0,
             "#8e0152"
            ],
            [
             0.1,
             "#c51b7d"
            ],
            [
             0.2,
             "#de77ae"
            ],
            [
             0.3,
             "#f1b6da"
            ],
            [
             0.4,
             "#fde0ef"
            ],
            [
             0.5,
             "#f7f7f7"
            ],
            [
             0.6,
             "#e6f5d0"
            ],
            [
             0.7,
             "#b8e186"
            ],
            [
             0.8,
             "#7fbc41"
            ],
            [
             0.9,
             "#4d9221"
            ],
            [
             1,
             "#276419"
            ]
           ],
           "sequential": [
            [
             0,
             "#0d0887"
            ],
            [
             0.1111111111111111,
             "#46039f"
            ],
            [
             0.2222222222222222,
             "#7201a8"
            ],
            [
             0.3333333333333333,
             "#9c179e"
            ],
            [
             0.4444444444444444,
             "#bd3786"
            ],
            [
             0.5555555555555556,
             "#d8576b"
            ],
            [
             0.6666666666666666,
             "#ed7953"
            ],
            [
             0.7777777777777778,
             "#fb9f3a"
            ],
            [
             0.8888888888888888,
             "#fdca26"
            ],
            [
             1,
             "#f0f921"
            ]
           ],
           "sequentialminus": [
            [
             0,
             "#0d0887"
            ],
            [
             0.1111111111111111,
             "#46039f"
            ],
            [
             0.2222222222222222,
             "#7201a8"
            ],
            [
             0.3333333333333333,
             "#9c179e"
            ],
            [
             0.4444444444444444,
             "#bd3786"
            ],
            [
             0.5555555555555556,
             "#d8576b"
            ],
            [
             0.6666666666666666,
             "#ed7953"
            ],
            [
             0.7777777777777778,
             "#fb9f3a"
            ],
            [
             0.8888888888888888,
             "#fdca26"
            ],
            [
             1,
             "#f0f921"
            ]
           ]
          },
          "colorway": [
           "#636efa",
           "#EF553B",
           "#00cc96",
           "#ab63fa",
           "#FFA15A",
           "#19d3f3",
           "#FF6692",
           "#B6E880",
           "#FF97FF",
           "#FECB52"
          ],
          "font": {
           "color": "#2a3f5f"
          },
          "geo": {
           "bgcolor": "white",
           "lakecolor": "white",
           "landcolor": "#E5ECF6",
           "showlakes": true,
           "showland": true,
           "subunitcolor": "white"
          },
          "hoverlabel": {
           "align": "left"
          },
          "hovermode": "closest",
          "mapbox": {
           "style": "light"
          },
          "paper_bgcolor": "white",
          "plot_bgcolor": "#E5ECF6",
          "polar": {
           "angularaxis": {
            "gridcolor": "white",
            "linecolor": "white",
            "ticks": ""
           },
           "bgcolor": "#E5ECF6",
           "radialaxis": {
            "gridcolor": "white",
            "linecolor": "white",
            "ticks": ""
           }
          },
          "scene": {
           "xaxis": {
            "backgroundcolor": "#E5ECF6",
            "gridcolor": "white",
            "gridwidth": 2,
            "linecolor": "white",
            "showbackground": true,
            "ticks": "",
            "zerolinecolor": "white"
           },
           "yaxis": {
            "backgroundcolor": "#E5ECF6",
            "gridcolor": "white",
            "gridwidth": 2,
            "linecolor": "white",
            "showbackground": true,
            "ticks": "",
            "zerolinecolor": "white"
           },
           "zaxis": {
            "backgroundcolor": "#E5ECF6",
            "gridcolor": "white",
            "gridwidth": 2,
            "linecolor": "white",
            "showbackground": true,
            "ticks": "",
            "zerolinecolor": "white"
           }
          },
          "shapedefaults": {
           "line": {
            "color": "#2a3f5f"
           }
          },
          "ternary": {
           "aaxis": {
            "gridcolor": "white",
            "linecolor": "white",
            "ticks": ""
           },
           "baxis": {
            "gridcolor": "white",
            "linecolor": "white",
            "ticks": ""
           },
           "bgcolor": "#E5ECF6",
           "caxis": {
            "gridcolor": "white",
            "linecolor": "white",
            "ticks": ""
           }
          },
          "title": {
           "x": 0.05
          },
          "xaxis": {
           "automargin": true,
           "gridcolor": "white",
           "linecolor": "white",
           "ticks": "",
           "title": {
            "standoff": 15
           },
           "zerolinecolor": "white",
           "zerolinewidth": 2
          },
          "yaxis": {
           "automargin": true,
           "gridcolor": "white",
           "linecolor": "white",
           "ticks": "",
           "title": {
            "standoff": 15
           },
           "zerolinecolor": "white",
           "zerolinewidth": 2
          }
         }
        },
        "xaxis": {
         "anchor": "y",
         "domain": [
          0,
          1
         ],
         "title": {
          "text": "Jahr"
         }
        },
        "yaxis": {
         "anchor": "x",
         "domain": [
          0,
          1
         ],
         "title": {
          "text": "sum of Titel"
         }
        }
       }
      },
      "text/html": [
       "<div>                            <div id=\"2003ed38-a341-455f-9e8a-419bbaac7a64\" class=\"plotly-graph-div\" style=\"height:525px; width:100%;\"></div>            <script type=\"text/javascript\">                require([\"plotly\"], function(Plotly) {                    window.PLOTLYENV=window.PLOTLYENV || {};                                    if (document.getElementById(\"2003ed38-a341-455f-9e8a-419bbaac7a64\")) {                    Plotly.newPlot(                        \"2003ed38-a341-455f-9e8a-419bbaac7a64\",                        [{\"alignmentgroup\":\"True\",\"bingroup\":\"x\",\"histfunc\":\"sum\",\"hovertemplate\":\"Jahr=%{x}<br>sum of Titel=%{y}<extra></extra>\",\"legendgroup\":\"\",\"marker\":{\"color\":\"royalblue\",\"pattern\":{\"shape\":\"\"}},\"name\":\"\",\"nbinsx\":150,\"offsetgroup\":\"\",\"orientation\":\"v\",\"showlegend\":false,\"x\":[1760,1764,1766,1771,1772,1773,1774,1775,1776,1778,1779,1780,1781,1783,1784,1785,1786,1787,1788,1789,1790,1791,1792,1793,1794,1795,1796,1797,1798,1799,1800,1801,1802,1803,1804,1806,1807,1808,1809,1810,1812,1813,1814,1815,1817,1818,1819,1821,1822,1823,1824,1825,1826,1827,1828,1829,1830,1832,1833,1834,1835,1836,1837,1838,1839,1840,1841,1842,1843,1844,1845,1846,1847,1848,1849,1850,1851,1852,1853,1854,1855,1856,1857,1858,1859,1860,1861,1862,1863,1864,1865,1866,1867,1868,1869,1870,1871,1872,1873,1874,1875,1876,1877,1878,1879,1880,1881,1882,1883,1884,1885,1886,1887,1888,1889,1890,1891,1892,1893,1894,1895,1896,1897,1898,1899,1900,1901,1902,1903,1904,1905,1906,1907,1908,1909,1910,1911,1912,1913,1914,1915,1916,1917,1918,1919,1920],\"xaxis\":\"x\",\"y\":[1,1,1,2,1,1,2,1,3,1,5,1,5,1,3,1,1,4,11,2,2,6,2,1,1,11,4,1,4,5,2,5,5,1,4,1,3,2,3,3,6,1,1,3,3,1,4,1,4,1,1,2,3,2,4,4,2,3,2,4,6,2,3,4,4,6,5,3,8,3,5,10,2,5,3,3,3,4,3,11,7,9,6,8,7,7,4,1,2,11,7,4,5,5,13,6,5,1,3,6,3,12,8,8,11,16,9,11,12,8,20,7,14,13,18,19,8,17,8,14,14,21,24,14,24,34,16,19,19,18,21,21,18,19,26,17,21,33,27,18,22,20,11,17,22,19],\"yaxis\":\"y\",\"type\":\"histogram\"}],                        {\"template\":{\"data\":{\"histogram2dcontour\":[{\"type\":\"histogram2dcontour\",\"colorbar\":{\"outlinewidth\":0,\"ticks\":\"\"},\"colorscale\":[[0.0,\"#0d0887\"],[0.1111111111111111,\"#46039f\"],[0.2222222222222222,\"#7201a8\"],[0.3333333333333333,\"#9c179e\"],[0.4444444444444444,\"#bd3786\"],[0.5555555555555556,\"#d8576b\"],[0.6666666666666666,\"#ed7953\"],[0.7777777777777778,\"#fb9f3a\"],[0.8888888888888888,\"#fdca26\"],[1.0,\"#f0f921\"]]}],\"choropleth\":[{\"type\":\"choropleth\",\"colorbar\":{\"outlinewidth\":0,\"ticks\":\"\"}}],\"histogram2d\":[{\"type\":\"histogram2d\",\"colorbar\":{\"outlinewidth\":0,\"ticks\":\"\"},\"colorscale\":[[0.0,\"#0d0887\"],[0.1111111111111111,\"#46039f\"],[0.2222222222222222,\"#7201a8\"],[0.3333333333333333,\"#9c179e\"],[0.4444444444444444,\"#bd3786\"],[0.5555555555555556,\"#d8576b\"],[0.6666666666666666,\"#ed7953\"],[0.7777777777777778,\"#fb9f3a\"],[0.8888888888888888,\"#fdca26\"],[1.0,\"#f0f921\"]]}],\"heatmap\":[{\"type\":\"heatmap\",\"colorbar\":{\"outlinewidth\":0,\"ticks\":\"\"},\"colorscale\":[[0.0,\"#0d0887\"],[0.1111111111111111,\"#46039f\"],[0.2222222222222222,\"#7201a8\"],[0.3333333333333333,\"#9c179e\"],[0.4444444444444444,\"#bd3786\"],[0.5555555555555556,\"#d8576b\"],[0.6666666666666666,\"#ed7953\"],[0.7777777777777778,\"#fb9f3a\"],[0.8888888888888888,\"#fdca26\"],[1.0,\"#f0f921\"]]}],\"heatmapgl\":[{\"type\":\"heatmapgl\",\"colorbar\":{\"outlinewidth\":0,\"ticks\":\"\"},\"colorscale\":[[0.0,\"#0d0887\"],[0.1111111111111111,\"#46039f\"],[0.2222222222222222,\"#7201a8\"],[0.3333333333333333,\"#9c179e\"],[0.4444444444444444,\"#bd3786\"],[0.5555555555555556,\"#d8576b\"],[0.6666666666666666,\"#ed7953\"],[0.7777777777777778,\"#fb9f3a\"],[0.8888888888888888,\"#fdca26\"],[1.0,\"#f0f921\"]]}],\"contourcarpet\":[{\"type\":\"contourcarpet\",\"colorbar\":{\"outlinewidth\":0,\"ticks\":\"\"}}],\"contour\":[{\"type\":\"contour\",\"colorbar\":{\"outlinewidth\":0,\"ticks\":\"\"},\"colorscale\":[[0.0,\"#0d0887\"],[0.1111111111111111,\"#46039f\"],[0.2222222222222222,\"#7201a8\"],[0.3333333333333333,\"#9c179e\"],[0.4444444444444444,\"#bd3786\"],[0.5555555555555556,\"#d8576b\"],[0.6666666666666666,\"#ed7953\"],[0.7777777777777778,\"#fb9f3a\"],[0.8888888888888888,\"#fdca26\"],[1.0,\"#f0f921\"]]}],\"surface\":[{\"type\":\"surface\",\"colorbar\":{\"outlinewidth\":0,\"ticks\":\"\"},\"colorscale\":[[0.0,\"#0d0887\"],[0.1111111111111111,\"#46039f\"],[0.2222222222222222,\"#7201a8\"],[0.3333333333333333,\"#9c179e\"],[0.4444444444444444,\"#bd3786\"],[0.5555555555555556,\"#d8576b\"],[0.6666666666666666,\"#ed7953\"],[0.7777777777777778,\"#fb9f3a\"],[0.8888888888888888,\"#fdca26\"],[1.0,\"#f0f921\"]]}],\"mesh3d\":[{\"type\":\"mesh3d\",\"colorbar\":{\"outlinewidth\":0,\"ticks\":\"\"}}],\"scatter\":[{\"fillpattern\":{\"fillmode\":\"overlay\",\"size\":10,\"solidity\":0.2},\"type\":\"scatter\"}],\"parcoords\":[{\"type\":\"parcoords\",\"line\":{\"colorbar\":{\"outlinewidth\":0,\"ticks\":\"\"}}}],\"scatterpolargl\":[{\"type\":\"scatterpolargl\",\"marker\":{\"colorbar\":{\"outlinewidth\":0,\"ticks\":\"\"}}}],\"bar\":[{\"error_x\":{\"color\":\"#2a3f5f\"},\"error_y\":{\"color\":\"#2a3f5f\"},\"marker\":{\"line\":{\"color\":\"#E5ECF6\",\"width\":0.5},\"pattern\":{\"fillmode\":\"overlay\",\"size\":10,\"solidity\":0.2}},\"type\":\"bar\"}],\"scattergeo\":[{\"type\":\"scattergeo\",\"marker\":{\"colorbar\":{\"outlinewidth\":0,\"ticks\":\"\"}}}],\"scatterpolar\":[{\"type\":\"scatterpolar\",\"marker\":{\"colorbar\":{\"outlinewidth\":0,\"ticks\":\"\"}}}],\"histogram\":[{\"marker\":{\"pattern\":{\"fillmode\":\"overlay\",\"size\":10,\"solidity\":0.2}},\"type\":\"histogram\"}],\"scattergl\":[{\"type\":\"scattergl\",\"marker\":{\"colorbar\":{\"outlinewidth\":0,\"ticks\":\"\"}}}],\"scatter3d\":[{\"type\":\"scatter3d\",\"line\":{\"colorbar\":{\"outlinewidth\":0,\"ticks\":\"\"}},\"marker\":{\"colorbar\":{\"outlinewidth\":0,\"ticks\":\"\"}}}],\"scattermapbox\":[{\"type\":\"scattermapbox\",\"marker\":{\"colorbar\":{\"outlinewidth\":0,\"ticks\":\"\"}}}],\"scatterternary\":[{\"type\":\"scatterternary\",\"marker\":{\"colorbar\":{\"outlinewidth\":0,\"ticks\":\"\"}}}],\"scattercarpet\":[{\"type\":\"scattercarpet\",\"marker\":{\"colorbar\":{\"outlinewidth\":0,\"ticks\":\"\"}}}],\"carpet\":[{\"aaxis\":{\"endlinecolor\":\"#2a3f5f\",\"gridcolor\":\"white\",\"linecolor\":\"white\",\"minorgridcolor\":\"white\",\"startlinecolor\":\"#2a3f5f\"},\"baxis\":{\"endlinecolor\":\"#2a3f5f\",\"gridcolor\":\"white\",\"linecolor\":\"white\",\"minorgridcolor\":\"white\",\"startlinecolor\":\"#2a3f5f\"},\"type\":\"carpet\"}],\"table\":[{\"cells\":{\"fill\":{\"color\":\"#EBF0F8\"},\"line\":{\"color\":\"white\"}},\"header\":{\"fill\":{\"color\":\"#C8D4E3\"},\"line\":{\"color\":\"white\"}},\"type\":\"table\"}],\"barpolar\":[{\"marker\":{\"line\":{\"color\":\"#E5ECF6\",\"width\":0.5},\"pattern\":{\"fillmode\":\"overlay\",\"size\":10,\"solidity\":0.2}},\"type\":\"barpolar\"}],\"pie\":[{\"automargin\":true,\"type\":\"pie\"}]},\"layout\":{\"autotypenumbers\":\"strict\",\"colorway\":[\"#636efa\",\"#EF553B\",\"#00cc96\",\"#ab63fa\",\"#FFA15A\",\"#19d3f3\",\"#FF6692\",\"#B6E880\",\"#FF97FF\",\"#FECB52\"],\"font\":{\"color\":\"#2a3f5f\"},\"hovermode\":\"closest\",\"hoverlabel\":{\"align\":\"left\"},\"paper_bgcolor\":\"white\",\"plot_bgcolor\":\"#E5ECF6\",\"polar\":{\"bgcolor\":\"#E5ECF6\",\"angularaxis\":{\"gridcolor\":\"white\",\"linecolor\":\"white\",\"ticks\":\"\"},\"radialaxis\":{\"gridcolor\":\"white\",\"linecolor\":\"white\",\"ticks\":\"\"}},\"ternary\":{\"bgcolor\":\"#E5ECF6\",\"aaxis\":{\"gridcolor\":\"white\",\"linecolor\":\"white\",\"ticks\":\"\"},\"baxis\":{\"gridcolor\":\"white\",\"linecolor\":\"white\",\"ticks\":\"\"},\"caxis\":{\"gridcolor\":\"white\",\"linecolor\":\"white\",\"ticks\":\"\"}},\"coloraxis\":{\"colorbar\":{\"outlinewidth\":0,\"ticks\":\"\"}},\"colorscale\":{\"sequential\":[[0.0,\"#0d0887\"],[0.1111111111111111,\"#46039f\"],[0.2222222222222222,\"#7201a8\"],[0.3333333333333333,\"#9c179e\"],[0.4444444444444444,\"#bd3786\"],[0.5555555555555556,\"#d8576b\"],[0.6666666666666666,\"#ed7953\"],[0.7777777777777778,\"#fb9f3a\"],[0.8888888888888888,\"#fdca26\"],[1.0,\"#f0f921\"]],\"sequentialminus\":[[0.0,\"#0d0887\"],[0.1111111111111111,\"#46039f\"],[0.2222222222222222,\"#7201a8\"],[0.3333333333333333,\"#9c179e\"],[0.4444444444444444,\"#bd3786\"],[0.5555555555555556,\"#d8576b\"],[0.6666666666666666,\"#ed7953\"],[0.7777777777777778,\"#fb9f3a\"],[0.8888888888888888,\"#fdca26\"],[1.0,\"#f0f921\"]],\"diverging\":[[0,\"#8e0152\"],[0.1,\"#c51b7d\"],[0.2,\"#de77ae\"],[0.3,\"#f1b6da\"],[0.4,\"#fde0ef\"],[0.5,\"#f7f7f7\"],[0.6,\"#e6f5d0\"],[0.7,\"#b8e186\"],[0.8,\"#7fbc41\"],[0.9,\"#4d9221\"],[1,\"#276419\"]]},\"xaxis\":{\"gridcolor\":\"white\",\"linecolor\":\"white\",\"ticks\":\"\",\"title\":{\"standoff\":15},\"zerolinecolor\":\"white\",\"automargin\":true,\"zerolinewidth\":2},\"yaxis\":{\"gridcolor\":\"white\",\"linecolor\":\"white\",\"ticks\":\"\",\"title\":{\"standoff\":15},\"zerolinecolor\":\"white\",\"automargin\":true,\"zerolinewidth\":2},\"scene\":{\"xaxis\":{\"backgroundcolor\":\"#E5ECF6\",\"gridcolor\":\"white\",\"linecolor\":\"white\",\"showbackground\":true,\"ticks\":\"\",\"zerolinecolor\":\"white\",\"gridwidth\":2},\"yaxis\":{\"backgroundcolor\":\"#E5ECF6\",\"gridcolor\":\"white\",\"linecolor\":\"white\",\"showbackground\":true,\"ticks\":\"\",\"zerolinecolor\":\"white\",\"gridwidth\":2},\"zaxis\":{\"backgroundcolor\":\"#E5ECF6\",\"gridcolor\":\"white\",\"linecolor\":\"white\",\"showbackground\":true,\"ticks\":\"\",\"zerolinecolor\":\"white\",\"gridwidth\":2}},\"shapedefaults\":{\"line\":{\"color\":\"#2a3f5f\"}},\"annotationdefaults\":{\"arrowcolor\":\"#2a3f5f\",\"arrowhead\":0,\"arrowwidth\":1},\"geo\":{\"bgcolor\":\"white\",\"landcolor\":\"#E5ECF6\",\"subunitcolor\":\"white\",\"showland\":true,\"showlakes\":true,\"lakecolor\":\"white\"},\"title\":{\"x\":0.05},\"mapbox\":{\"style\":\"light\"}}},\"xaxis\":{\"anchor\":\"y\",\"domain\":[0.0,1.0],\"title\":{\"text\":\"Jahr\"}},\"yaxis\":{\"anchor\":\"x\",\"domain\":[0.0,1.0],\"title\":{\"text\":\"sum of Titel\"}},\"legend\":{\"tracegroupgap\":0},\"margin\":{\"t\":60},\"barmode\":\"relative\"},                        {\"responsive\": true}                    ).then(function(){\n",
       "                            \n",
       "var gd = document.getElementById('2003ed38-a341-455f-9e8a-419bbaac7a64');\n",
       "var x = new MutationObserver(function (mutations, observer) {{\n",
       "        var display = window.getComputedStyle(gd).display;\n",
       "        if (!display || display === 'none') {{\n",
       "            console.log([gd, 'removed!']);\n",
       "            Plotly.purge(gd);\n",
       "            observer.disconnect();\n",
       "        }}\n",
       "}});\n",
       "\n",
       "// Listen for the removal of the full notebook cells\n",
       "var notebookContainer = gd.closest('#notebook-container');\n",
       "if (notebookContainer) {{\n",
       "    x.observe(notebookContainer, {childList: true});\n",
       "}}\n",
       "\n",
       "// Listen for the clearing of the current output cell\n",
       "var outputEl = gd.closest('.output');\n",
       "if (outputEl) {{\n",
       "    x.observe(outputEl, {childList: true});\n",
       "}}\n",
       "\n",
       "                        })                };                });            </script>        </div>"
      ]
     },
     "metadata": {},
     "output_type": "display_data"
    }
   ],
   "source": [
    "fig = px.histogram(df_year, x=\"Jahr\", y=\"Titel\", nbins=150, color_discrete_sequence=[\"royalblue\"])\n",
    "fig.show()"
   ]
  },
  {
   "cell_type": "code",
   "execution_count": 5,
   "metadata": {},
   "outputs": [
    {
     "data": {
      "text/plain": [
       "114"
      ]
     },
     "execution_count": 5,
     "metadata": {},
     "output_type": "execute_result"
    }
   ],
   "source": [
    "# Wie viele Romane entfallen auf die ersten fünfzig Jahre?\n",
    "df_1780_1820 = df[df.Jahr < 1811]\n",
    "\n",
    "len(df_1780_1820)"
   ]
  },
  {
   "cell_type": "code",
   "execution_count": 6,
   "metadata": {},
   "outputs": [
    {
     "data": {
      "text/plain": [
       "792"
      ]
     },
     "execution_count": 6,
     "metadata": {},
     "output_type": "execute_result"
    }
   ],
   "source": [
    "# Wie viele Romane entfallen auf die letzten fünfzig Jahre?\n",
    "df_1870_1920 = df[df.Jahr > 1869]\n",
    "\n",
    "len(df_1870_1920)"
   ]
  },
  {
   "cell_type": "markdown",
   "metadata": {},
   "source": [
    "# Romanlängen plotten"
   ]
  },
  {
   "cell_type": "code",
   "execution_count": 7,
   "metadata": {},
   "outputs": [],
   "source": [
    "df_sorted = df.sort_values(by=\"all_words_count\", ascending=False)"
   ]
  },
  {
   "cell_type": "code",
   "execution_count": 8,
   "metadata": {},
   "outputs": [
    {
     "data": {
      "application/vnd.plotly.v1+json": {
       "config": {
        "plotlyServerURL": "https://plot.ly"
       },
       "data": [
        {
         "alignmentgroup": "True",
         "hovertemplate": "Titel=%{x}<br>all_words_count=%{y}<extra></extra>",
         "legendgroup": "",
         "marker": {
          "color": "darkred",
          "pattern": {
           "shape": ""
          }
         },
         "name": "",
         "offsetgroup": "",
         "orientation": "v",
         "showlegend": false,
         "textposition": "auto",
         "type": "bar",
         "x": [
          "Marie Müller",
          "Erna",
          "Die Hosen des Herrn von Bredow",
          "Ruhe ist die erste Bürgerpflicht",
          "Schwester Monika",
          "Der Sternsteinhof",
          "Goethes Briefwechsel mit einem Kinde",
          "Die Günderode",
          "Clemens Brentanos Frühlingskranz",
          "Armut, Reichtum, Schuld und Buße der Gräfin Dolores",
          "Isabella von Ägypten",
          "Die Kronenwächter. Erster Band.",
          "Die Kronenwächter. Zweiter Band.",
          "Aus dem Leben einer Frau",
          "Lydia",
          "Revolution und Contrerevolution",
          "Ivo der Hajrle",
          "Der Lautenbacher",
          "Die Frau Professorin",
          "Lucifer",
          "Brosi und Moni",
          "Die Geschichte des Diethelm von Buchenberg",
          "Der Lehnhold",
          "Barfüßele",
          "Die gute Schule",
          "Flammetti",
          "Evremont",
          "Stilpe. Ein Roman aus der Froschperspektive",
          "Größenwahn",
          "Fanny Förster",
          "Vor der Ehe",
          "Lebenssucher",
          "Godwi oder Das steinerne Bild der Mutter",
          "Mittheilungen aus den geheimen Memoiren einer deutschen Sängerin",
          "Robinson, der Jüngere 1",
          "Robinson, der Jüngere 2",
          "Mathias Bichler",
          "Die Rumplhanni",
          "Madam Bäurin",
          "Jungfer Mutter",
          "Liebe und Irrthum ",
          "Was die Isar rauscht",
          "Adam Mensch",
          "Kampf um Rom",
          "Wie Frauen werden",
          "Sibilla Dalmar",
          "Schicksale einer Seele",
          "Christa Ruland",
          "Großstadt",
          "Bozena",
          "Lotti, die Uhrmacherin",
          "Das Gemeindekind",
          "Ein kleiner Roman",
          "Unsühnbar",
          "Agave",
          "Amalie. Eine wahre Geschichte in Briefen",
          "Ninas Briefe an ihren Geliebten",
          "Ahnung und Gegenwart",
          "Dichter und ihre Gesellen",
          "Herr Lorenz Stark",
          "Der Taifun",
          "Reich und arm",
          "Vierzehn Tage in Paris",
          "Gustavs Verirrungen",
          "Die Honigmonathe",
          "Der Günstling",
          "Margarethe",
          "Hannchens Hin- und Herzüge",
          "Seefahrt ist not!",
          "Vor dem Sturm",
          "Grete Minde",
          "L Adultera",
          "Ellernklipp",
          "Schach von Wuthenow",
          "Graf Petöfy",
          "Unterm Birnbaum",
          "Cécile",
          "Irrungen, Wirrungen",
          "Stine",
          "Quitt",
          "Unwiederbringlich",
          "Frau Jenny Treibel",
          "Effi Briest",
          "Die Poggenpuhls",
          "Der Stechlin",
          "Mathilde Möhring",
          "Rodrich",
          "Die Frau des Falkensteins",
          "Magie der Natur",
          "Der Spanier und der Freiwillige in Paris",
          "Resignation",
          "Judith die Kluswirtin",
          "Die Geschichte meines Urgroßvaters",
          "Die letzte Reckenburgerin",
          "Stufenjahre eines Glücklichen",
          "Der Katzenjunker",
          "Leib Weihnachtskuchen und sein Kind",
          "Der Pojaz",
          "Wir Frauen haben kein Vaterland",
          "Arbeit",
          "Soll und Haben",
          "Die verlorene Handschrift",
          "Virginia oder Die Kolonie von Kentucky",
          "Schloß Hubertus",
          "Der Ochsenkrieg",
          "Die Regulatoren in Arkansas. Aus dem Waldleben Amerikas",
          "Die Flußpiraten des Mississippi. Aus dem Waldleben Amerikas.",
          "Die Leiden des jungen Werther",
          "Wilhelm Meisters Lehrjahre",
          "Die Wahlverwandtschaften",
          "Wilhelm Meisters Wanderjahre",
          "Wie Uli der Knecht glücklich wird",
          "Geld und Geist",
          "Uli der Pächter",
          "Wally, die Zweiflerin",
          "Europäisches Sklavenleben",
          "Gräfin Faustine",
          "Sibylle",
          "Maria Regina",
          "Usong",
          "Mitteilungen aus den Memoiren des Satan",
          "Lichtenstein",
          "Die Bettlerin vom Pont des Arts",
          "Einhart der Lächler",
          "Ardinghello und die glückseligen Inseln",
          "Faust und Don Juan",
          "Briefe, die ihn nicht erreichten",
          "Tschun",
          "Kreuz- und Querzüge des Ritters A bis Z",
          "Lebensläufe nach aufsteigender Linie",
          "Die Elixiere des Teufels",
          "Lebensansichten des Katers Murr",
          "Fragment von Hyperion",
          "Hyperions Jugend",
          "Hyperion oder der Eremit in Griechenland",
          "Die Familie Seldorf",
          "Luise",
          "Klosterberuf",
          "Ellen Percy",
          "Die Epigonen",
          "Münchhausen",
          "Woldemar",
          "Aus Eduard Allwills Papieren",
          "Niels Lyhne",
          "Ninive",
          "Die Amazonenschlacht",
          "Einer Mutter Sieg",
          "Die unsichtbare Loge",
          "Hesperus oder 45 Hundsposttage",
          "Leben des Quintus Fixlein",
          "Blumen-, Frucht- und Dornenstücke",
          "Titan",
          "Des Luftschiffers Giannozzo Seebuch",
          "Flegeljahre",
          "Des Feldpredigers Schmelzle Reise nach Flätz",
          "Dr. Katzenbergers Badereise",
          "Der grüne Heinrich1 [Erste Fassung]",
          "Der grüne Heinrich2 [Zweite Fassung]",
          "Martin Salander",
          "Beate und Mareile",
          "Dumala",
          "Wellen",
          "Abendliche Häuser",
          "Bracke",
          "Die Nachtwachen des Bonaventura",
          "Fausts Leben, Taten und Höllenfahrt",
          "Geschichte eines Teutschen der neusten Zeit",
          "Benjamin Noldmanns Geschichte der Aufklärung in Abyssinien",
          "Josephs von Wurmbrands ... politisches Glaubensbekenntnis",
          "Die Reise nach Braunschweig",
          "Meister Timpe",
          "Der Amerika-Müde",
          "Der Sonnenwirt",
          "Geschichte des Fräuleins von Sternheim",
          "Rosaliens Briefe an ihre Freundin Mariane von St**",
          "Erscheinungen am See Oneida",
          "Das junge Europa",
          "Clementine",
          "Jenny",
          "Eine Lebensfrage",
          "Diogena",
          "Von Geschlecht zu Geschlecht",
          "Maria",
          "Leben und Lüge",
          "Zwischen Himmel und Erde",
          "Die Heiteretei und ihr Widerspiel",
          "Goldelse",
          "Das Geheimnis der alten Mamsell",
          "Das Heideprinzeßchen",
          "Amtmanns Magd",
          "Die Frau mit den Karfunkelsteinen",
          "Durchs wilde Kurdistan",
          "Old Surehand I",
          "Old Surehand II",
          "Im Lande des Mahdi I",
          "Im Lande des Mahdi II",
          "Im Lande des Mahdi III",
          "Satan und Ischariot I",
          "Auf fremden Pfaden",
          "Satan und Ischariot II",
          "Satan und Ischariot III",
          "Im Reiche des silbernen Löwen I",
          "Im Reiche des silbernen Löwen II",
          "Old Surehand III",
          "Am Jenseits",
          "Im Reiche des silbernen Löwen III",
          "Im Reiche des silbernen Löwen IV",
          "Und Friede auf Erden!",
          "Ardistan und Dschinnistan II",
          "Winnetou IV",
          "Die Bernsteinhexe",
          "Die Intellektuellen",
          "Das Blüthenalter der Empfindung",
          "Amanda und Eduard",
          "Jürg Jenatsch",
          "Der Heilige",
          "Die Versuchung des Pescara",
          "Angela Borgia",
          "Der Golem",
          "Unerfüllt",
          "Himmlische und irdische Liebe",
          "Siegwart. Eine Klostergeschichte",
          "Die Mandanenwaise",
          "Maler Nolten",
          "Anton Reiser",
          "Andreas Hartknopf. Eine Allegorie",
          "Andreas Hartknopfs Predigerjahre",
          "Siegfried von Lindenberg",
          "Tropen. Der Mythos der Reise. Urkunden eines deutschen Ingenieurs",
          "Madonna. Unterhaltungen mit einer Heiligen",
          "Die Amtmannin von Hohenweiler",
          "Herrmann von Unna",
          "Alf von Dülmen",
          "Das Leben und die Meinungen des Herrn Magister Sebaldus Nothanker",
          "Heinrich von Ofterdingen",
          "Die Lehrlinge zu Sais",
          "Schloß und Fabrik",
          "Nürnberg. Erster Band",
          "Nürnberg. Zweiter Band",
          "Nürnberg. Dritter Band",
          "Godwie-Castle",
          "Ste. Roche",
          "Lienhard und Gertrud 1",
          "Lienhard und Gertrud 2",
          "Lienhard und Gertrud 3",
          "Lienhard und Gertrud 4",
          "Agathocles",
          "Der Büttnerbauer",
          "Die Chronik der Sperlingsgasse",
          "Der Hungerpastor",
          "Die Leute aus dem Walde, ihre Sterne, Wege und Schicksale",
          "Abu Telfan oder Die Heimkehr vom Mondgebirge",
          "Der Schüdderump",
          "Alte Nester",
          "Im alten Eisen",
          "Das Odfeld",
          "Stopfkuchen. Eine See- und Mordgeschichte",
          "Die Akten des Vogelsangs",
          "Hastenbeck",
          "Ellen Olestjerne",
          "Von Paul zu Pedro",
          "Herrn Dames Aufzeichnungen",
          "Der Geldkomplex",
          "Die Aufzeichnungen des Malte Laurids Brigge",
          "Die Schriften des Waldschulmeisters",
          "Der Pedlar",
          "Das Vermächtnis des Pedlars",
          "Paralyse",
          "Tarub, Bagdads berühmte Köchin",
          "Liwûna und Kaidôh. Ein Seelenroman",
          "Immer mutig!",
          "Lesabéndio. Ein Asteroiden-Roman",
          "Ekkehard",
          "Der Geisterseher",
          "Die Denkwürdigkeiten des Herrn v. H.",
          "Florentin",
          "Lucinde",
          "Frau Berta Garlan",
          "Der Weg ins Freie",
          "Doktor Gräsler, Badearzt",
          "Casanovas Heimfahrt",
          "Anna",
          "Gabriele",
          "Die Tante",
          "Richard Wood",
          "Aus den Memoiren einer Sängerin",
          "Problematische Naturen. Erste Abtheilung",
          "Problematische Naturen. Zweite Abtheilung (Durch Nacht zum Licht)",
          "Hammer und Amboß",
          "Zum Zeitvertreib",
          "Faustulus",
          "Der Jude",
          "Conrad",
          "Imago",
          "Die Mädchenfeinde",
          "Heidis Lehr- und Wanderjahre",
          "Heidi kann brauchen, was es gelernt hat",
          "Die Mappe meines Urgroßvaters",
          "Feldblumen",
          "Die Narrenburg",
          "Der Hagestolz",
          "Zwei Schwestern",
          "Der Nachsommer",
          "Witiko",
          "Der Schimmelreiter",
          "Frau Sorge",
          "Jons und Erdme",
          "Die Waffen nieder!",
          "Marthas Kinder",
          "Andreas Vöst",
          "Der Wittiber",
          "Geschichte des Herrn William Lovell",
          "Franz Sternbalds Wanderungen",
          "Der junge Tischlermeister",
          "Vittoria Accorombona",
          "Julchen Grünthal",
          "Albert und Albertine",
          "Bekenntnisse einer schönen Seele",
          "Die Zerissenen",
          "Auch Einer 1",
          "Auch Einer 2",
          "Ini",
          "Rinaldo Rinaldini, der Räuberhauptmann",
          "Die Briten in Rom",
          "Die Juden von Zirndorf",
          "Caspar Hauser",
          "Das Gänsemännchen",
          "Christian Wahnschaffe",
          "Fragment eines Romans",
          "Schnapphahnski",
          "Belphegor",
          "Hermann und Ulrike",
          "Kakerlak oder die Geschichte eines Rosenkreuzers",
          "Die Abenteuer des Don Sylvio von Rosalva",
          "Geschichte des Agathon",
          "Der goldene Spiegel",
          "Geschichte der Abderiten",
          "Peregrinus Proteus",
          "Aristipp und einige seiner Zeitgenossen",
          "Die Abendburg",
          "Glasberg",
          "Die Europamüden",
          "Weisse Sclaven oder die Leiden des Volkes",
          "Elisa",
          "Agnes von Lilien",
          "Robert der Schiffsjunge",
          "Das Goldmacherdorf",
          "Das Schloß im Moor",
          "Haus Nummer 37",
          "Anatewka",
          "Cabanis",
          "Isegrimm",
          "Der Roland von Berlin – Erster Band",
          "Der Roland von Berlin – Zweiter Band",
          "Der Roland von Berlin – Dritter Band",
          "Walladmor",
          "Der Werwolf",
          "Der Werwolf",
          "Der falsche Woldemar",
          "Hollin's Liebeleben",
          "Der Schuhmeier",
          "Auf der Höhe Band I",
          "Auf der Höhe Zweiter Band",
          "Auf der Höhe Dritter Band",
          "Auf der Höhe Vierter Band",
          "Das Landhaus am Rhein / Band I",
          "Das Landhaus am Rhein / Band II",
          "Das Landhaus am Rhein / Band III",
          "Das Landhaus am Rhein / Band IV",
          "Das Landhaus am Rhein / Band V",
          "Landolin von Reutershöfen",
          "Aus dem Leben und den Schriften des Magisters Herle, und seines Freundes Mänle",
          "Die Hexe Drut",
          "Himmelfahrt",
          "O Mensch!",
          "Die Rahl",
          "Theater",
          "Der gestohlene Mond",
          "Graf Udo Bodo",
          "Der Dunkelgraf",
          "Die Nonnensusel",
          "Die Heimkehr",
          "Die Bräutigame der Babette Bomberling",
          "Frau Hempels Tochter",
          "Die Reise des Herrn Sebastian Wenzel",
          "Hemmungslos",
          "Pankrazius Graunzer",
          "Prinz Kuckuck",
          "Das Schöne Mädchen von Pao",
          "Die Schlangendame",
          "Studenten-Beichten",
          "Die Leuenhofer",
          "Die Turnachkinder im Sommer",
          "Die Turnachkinder im Winter",
          "Moderne Novellen",
          "Bismarck – Band 1",
          "Dilettanten des Lasters",
          "Nachtwachen",
          "Annas Ehe",
          "Empor!",
          "Ein königlicher Kaufmann",
          "Die Opferschale",
          "Um ein Weib",
          "Friedemann Bach",
          "Die Tochter des Kunstreiters",
          "Geschichten aus der Jugendzeit",
          "Die Liebesbriefe der Marquise",
          "Ein Mönchsleben aus der empfindsamen Zeit",
          "Ein Mönchsleben aus der empfindsamen Zeit - Band 2",
          "Ratsmädelgeschichten",
          "Tagebuch einer Verlorenen",
          "Ein Stadtjunker in Braunschweig",
          "Erinnerungen einer Überflüssigen",
          "Mit den Augen des Westens",
          "Der Geheimagent",
          "Lord Jim",
          "Majestät",
          "Walhall",
          "Attila",
          "Die Bataver",
          "Bissula",
          "Vom Chiemgau",
          "Chlodovech",
          "Ebroin",
          "Felicitas",
          "Fredigundis",
          "Gelimer",
          "Die schlimmen Nonnen von Poitiers",
          "Sind Götter?",
          "Felix Dahn",
          "Der Vater und die Söhne",
          "Geschichten aus den vier Winden",
          "Der Geist meines Vaters",
          "Josa Gerth",
          "Raubmenschen",
          "Der Übergang",
          "Brausejahre",
          "Zwei Menschen",
          "Die Amazone",
          "Die neuen Argonauten",
          "Die erschreckliche Flut von 1634 und der Untergang von Alt-Nordstrand",
          "Der Muttersohn – Band I",
          "Der Muttersohn – Band II",
          "Marquise von Pompadour",
          "Eine ägyptische Königstochter Bd. I",
          "Per aspera",
          "Ein Wort",
          "Die Frau Bürgemeisterin",
          "Die Gred",
          "Homo sum",
          "Der Kaiser",
          "Die Geschichte meines Lebens",
          "Die Nilbraut",
          "Im Schmiedefeuer",
          "Die Schwestern",
          "Die Schwestern",
          "Serapis",
          "Uarda",
          "Die arme Kleine",
          "Nero",
          "Der kleine Johannes",
          "Streifzüge durch Celebes",
          "Hann Klüth",
          "Die Last",
          "Claus Störtebecker",
          "Lieber Fritz",
          "Geschichte eines Anno 1813 Konskribierten",
          "Satiren, Fabeln, Epigramme, Aphorismen",
          "Asmus Sempers Jugendland",
          "Semper der Jüngling",
          "Semper der Mann",
          "Saat auf Hoffnung",
          "Freiheit die ich meine",
          "Die Leute vom Blauen Guguckshaus",
          "Auf der Wegwacht",
          "Die Erlkönigin",
          "Frühlingsstürme",
          "Gänseliesel",
          "Jung gefreit - 1",
          "Jung gefreit - 2",
          "Hofluft",
          "Hofluft",
          "Die Bären von Hohen-Esp",
          "Der Stern des Glücks",
          "Der verlorene Sohn",
          "Der Kampf um die Cheopspyramide",
          "Hinter Pflug und Schraubstock",
          "Der Schneider von Ulm",
          "Aus dem Durchschnitt",
          "Der Mann im Nebel",
          "Die Kinder aus Ohlsens Gang",
          "Jungfer Therese",
          "Maren",
          "Selim und Zoraïde",
          "Wolf Eschenlohr",
          "Die wunderbaren Begebenheiten des Grafen Alethes von Lindenstein",
          "Alwin",
          "Der Zauberring",
          "Das Kind der Sühne",
          "Der Stumme mit dem bösen Blick",
          "Judith Trachtenberg",
          "Ingo und Ingraban",
          "Marcus König",
          "Meister Robinson",
          "Der Dorfapostel",
          "Edelweißkönig",
          "Fliegender Sommer",
          "Das Gotteslehen",
          "Der hohe Schein",
          "Der Jäger von Fall",
          "Der laufende Berg",
          "Ludwig Ganghofer",
          "Die Martinsklause",
          "Das Schweigen im Walde",
          "Die Trutze von Trutzberg",
          "Waldrausch",
          "Venetianische Novellen",
          "Aus den Memoiren einer Berliner Range",
          "Unter dem Äquator",
          "Señor Aguila",
          "Nach Amerika! Erster Band",
          "Nach Amerika! Zweiter Band",
          "Die Blauen und Gelben",
          "General Franco",
          "Germelshausen",
          "Gold",
          "Im Busch",
          "Der Kunstreiter",
          "Unter den Pehuenchen",
          "Sträflinge",
          "Tahiti",
          "Jürnjakob Swehn der Amerikafahrer",
          "Lemkes sel. Wwe.",
          "Meister Jakob und seine Kinder",
          "Hohenschwangau",
          "Die Heilige und ihr Narr",
          "Die Heilige und ihr Narr",
          "Der Augenblick des Glücks – Aus den Memoiren eines fürstlichen Hofes",
          "Der letzte Bombardier",
          "Das Geheimniß der Stadt",
          "Handel und Wandel",
          "Namenlose Geschichten - Erster Band",
          "Namenlose Geschichten - Zweiter Band",
          "Eugen Stillfried - Erster Band",
          "Peregrin",
          "Aspasia",
          "Schlumski",
          "Das Haus der Titanen",
          "Der Krieg um den Wald / 1",
          "Der Mann im Mond",
          "Elfriede",
          "Jetta",
          "Im Reiche der Homunkuliden",
          "Dr. Thorns Lebensabend",
          "Felix Notvest",
          "Der lange Balthasar",
          "Der König der Bernina",
          "An heiligen Wassern",
          "Laubgewind",
          "Die Molkenkur",
          "Apotheker Heinrich",
          "Grevinde",
          "Todsünden",
          "Menschen untereinander",
          "Eine vornehme Frau",
          "Karl der Zwölfte und seine Krieger",
          "Aus dem Leben meiner alten Freundin",
          "Trudchens Heirat",
          "Die verborgene Schrift",
          "Die Versuchung",
          "Ille mihi – Erster Band",
          "Ille mihi – Zweiter Band",
          "Liebe, Diplomatie und Holzhäuser",
          "Gegen den Strom",
          "Marienkind",
          "Crone Stäudlin",
          "Die Hassenburg",
          "Die Geier-Wally",
          "Schwarzwaldau",
          "Vor Jahr und Tag",
          "Ein Kind unserer Zeit",
          "Enzio::Enzio",
          "Mao",
          "Pitt und Fox::Pitt und Fox",
          "Der Oberhof",
          "Frau Marie Grubbe",
          "Sechs Novellen",
          "Die Pfeifer vom Dusenbach",
          "Vor der Elbmündung",
          "Nach Sonnenuntergang – Erstes Buch",
          "Nach Sonnenuntergang – Zweites Buch",
          "Aus See und Sand – Erster Band",
          "Aus See und Sand – Zweiter Band",
          "Der Tag von Stralsund",
          "Auf dem Vestenstein",
          "Kristiania Bohême",
          "Schwarze Diamanten",
          "O Domina mea",
          "Hubertus",
          "Das letzte Märchen",
          "Der Sohn der Hagar",
          "Waldwinter",
          "Bunte Herzen - Zwei Novellen::Bunte Herzen",
          "Fräulein Rosa Herz",
          "Die dritte Stiege",
          "Schnee",
          "Naulahka, das Staatsglück",
          "Der Kavalier auf den Knien und andere Liebesgeschichten...",
          "Mohammed",
          "Moreau",
          "Das Rätsel von Grünweide",
          "Der Faust der Morgenländer",
          "Geschichte Giafars des Barmeciden - Band 1",
          "Geschichte Giafars des Barmeciden - Band 2",
          "Reisen vor der Sündfluth",
          "Der Traum des Herrn Brick",
          "Geschichte Peter Clausens",
          "Die Verirrungen des Philosophen oder Geschichte Ludwigs von Seelberg",
          "Friedel Polten und ihre Rangen",
          "Der jüdische Gil Blas",
          "Am Pflug",
          "Die Vestalinnen, Band 1",
          "Die Vestalinnen, Band 2",
          "Die Vestalinnen, Band 3",
          "Schillers Heimatjahre",
          "Tropenarzt im Afrikanischen Busch",
          "Quinctius Heymeran von Flaming",
          "Haß",
          "Wolfs Geschichten um ein Bürgerhaus -- Erstes Buch: Im Schatten Napoleons",
          "Wolfs Geschichten um ein Bürgerhaus – Zweites Buch: Vor Bismarcks Aufgang",
          "Frau Aleit",
          "Anne-Susanne",
          "Die Brinkschulte",
          "Kärrekiek",
          "Marie Verwahnen",
          "Pittje Pittjewitt",
          "Sankt Anne",
          "Schnee",
          "Die Tanzmamsell",
          "Aspira",
          "Auf zwei Planeten",
          "Sternentau",
          "Der Pfeiferkönig",
          "Oberlin",
          "Der Gast",
          "Liebesheiraten",
          "Daphnis und Chloe",
          "Das zweite Gesicht",
          "Der letzte Hansbur",
          "Dahinten in der Heide",
          "Kraut und Lot",
          "Der zweckmäßige Meyer",
          "Fritz Beutel",
          "Die zweite Frau",
          "Das Eulenhaus",
          "Reichsgräfin Gisela",
          "Im Schillingshof",
          "Der neue Ahasver",
          "Hypatia",
          "Der letzte Tod des Gautama Buddha",
          "Der Mir von Dschinnistan",
          "Der Scout",
          "Im Todesthale",
          "Scepter und Hammer",
          "Lopez Jordan::Lopez Jordan",
          "Der Schatz der Inkas::Lopez Jordan",
          "Der Schatz im Silbersee::Der Schatz im Silbersee",
          "Die Liebe des Ulanen 1",
          "Die Liebe des Ulanen",
          "Die Liebe des Ulanen",
          "Die Liebe des Ulanen",
          "Die Liebe des Ulanen",
          "Zwei Kaiserkronen",
          "Die Römerfahrt der Epigonen",
          "Europäische Minen und Gegenminen",
          "Der Todesgruß der Legionen",
          "Palle",
          "Die Saxoborussen",
          "Das Blinkfeuer von Brüsterort",
          "Félicie",
          "Modeste",
          "Der Ueberkater",
          "Der Ueberkater",
          "Die Bernsteinhexe Maria Schweidler::Die Bernsteinhexe Maria Schweidler",
          "Richard Feverel",
          "Heidenstamm",
          "Das grüne Gesicht",
          "Walpurgisnacht",
          "Die Familie Melville",
          "Das Mormonenmädchen. Band I",
          "Das Mormonenmädchen. Band II",
          "Der Piratenlieutenant - Teil 1",
          "Der Piratenlieutenant – Teil 2",
          "Der Schatz von Quivira",
          "Der Vaquero",
          "Afraja König von Lappland",
          "Afraja",
          "Erich Randal",
          "Frau Doktor Breuer",
          "Der große Schwabenzug",
          "Der Herr der Welt",
          "Elisabeth. I. Band",
          "Elisabeth – Zweiter Band",
          "Das Tagebuch der Ottony von Kelchberg",
          "Kajus Rungholt",
          "Aus großen Höhen",
          "Denise de Montmidi",
          "Margret und Ossana",
          "Maria da Caza",
          "Der Rebell",
          "Thomas Thyrnau – Erster Theil",
          "Thomas Thyrnau – Zweiter Theil",
          "Thomas Thyrnau – Dritter Theil",
          "Bob der Fallensteller",
          "Andrew Brown – Der rote Spion",
          "Das verlorene Paradies",
          "Liebe ist ewig",
          "Der Pfarrer von Breitendorf Erster Band",
          "Der Pfarrer von Breitendorf Zweiter Band",
          "Wurzellocker - Erster Band",
          "Wurzellocker Zweiter Band",
          "Siebenquellen",
          "Der babylonische Turm",
          "Der Rubin der Herzogin",
          "Yoshiwara - Vom Freudenhaus des Lebens",
          "1812 – Ein historischer Roman",
          "Die Abenteurer",
          "Garibaldi",
          "Magenta und Solferino - Band 1",
          "Magenta und Solferino - Band 2",
          "Magenta und Solferino - Band 3",
          "Nena Sahib",
          "Sebastopol - Erster Band",
          "Sewastopol - Zweiter Band",
          "Abenteuer in Sibirien",
          "Solferino",
          "Die Abenteurer der Sonora",
          "Dörchläuchting",
          "Ut de Franzosentid",
          "Der Trotzkopf",
          "Ein ganzer Mann",
          "Rosalie und Cleberg auf dem Lande / 1",
          "Das tote Brügge",
          "Heideschulmeister Uwe Karsten",
          "Kerlchens Lern- und Wanderjahre",
          "Kerlchen als Anstandsdame",
          "Provinzmädel",
          "Kerlchen als Sorgen- und Sektbrecher",
          "Heidepeters Gabriel",
          "Jakob der Letzte",
          "Peter Mayr der Wirt an der Mahr",
          "Das Erwachen",
          "Ein verbummelter Student",
          "Kontraste und Paradoxen",
          "Die Familie Pfäffling",
          "Fritz Reinhardt",
          "Der Tod der Barmekiden",
          "Das graue Tuch und zehn Prozent Weiß",
          "Der Kaiser von Utopia",
          "Die große Revolution. Ein Mondroman",
          "Münchhausen und Clarissa",
          "Na prost!",
          "Rakkóx der Billionär",
          "Michel",
          "Die Pilger der Wildnis",
          "Benkal, der Frauentröster",
          "Meine Freundin Lo",
          "Irrwege der Liebe",
          "Lassalle",
          "Das Lied der Parzen",
          "Bürgerliche Bohème",
          "Künstlerblut",
          "Der deutsche Herzog",
          "Der getreue Kleist",
          "Der böse Baron von Krosigk",
          "Michael Meyenburg",
          "Die letzten Rudelsburger",
          "Um die Wartburg",
          "Wildefüer",
          "Gräfin Erikas Lehr- und Wanderjahre",
          "Im gewohnten Geleis",
          "Marška",
          "Maximum",
          "Der Rosenkavalier",
          "Rodanseck",
          "Eine dunkle Tat",
          "Luther in Rom",
          "Die Marketenderin von Köln",
          "Das blutige Blockhaus",
          "Das Kajütenbuch oder Nationale Charakteristiken",
          "Der Legitime und die Republikaner",
          "Nathan der Squatter",
          "Tokeah",
          "Der Virey und die Aristokraten",
          "Reinhard Flemmings Abenteuer zu Wasser und zu Lande",
          "Fischke der Krumme",
          "Der Wagehals",
          "Schweigen im Walde",
          "Sturmzeichen",
          "Seemanns-Sagen und Schiffer-Märchen",
          "Die Höhlenkinder – Im Heimlichen Grund",
          "Die Höhlenkinder – Im Pfahlbau",
          "Die Höhlenkinder – Im Steinhaus",
          "Heidehof Lohe",
          "Frei geboren",
          "Noblesse oblige",
          "Opfer",
          "Platt Land",
          "Quisisana",
          "Sturmflut",
          "Susi",
          "Uhlenhans",
          "Der Vogelhändler von Imst",
          "Der Jesuit",
          "Im Rhonetal",
          "Was soll denn aus ihr werden?",
          "Schloss Wildenstein",
          "Drei Nächte",
          "Der begrabene Gott",
          "Der Heiligenhof",
          "Irmela",
          "Wilhelmine Buchholz' Memoiren",
          "Emma das geheimnißvolle Hausmädchen",
          "Die Familie Buchholz. Aus dem Leben der Hauptstadt",
          "Buchholzens in Italien",
          "Frau Buchholz im Orient",
          "Morgenrot",
          "Sonjas letzter Name",
          "Schloß Vogelöd",
          "Der weiße Tod",
          "Arme Thea!",
          "Die armen Reichen",
          "Die kleine Elten",
          "Seine englische Frau",
          "Die ewige Burg",
          "Das freie Meer",
          "Für Dich",
          "Herzblut",
          "Hexenkessel",
          "Die törichte Jungfrau",
          "Montblanc",
          "Das Schiff ohne Steuer",
          "Unter den Linden",
          "Lieb Vaterland",
          "Saat und Ernte",
          "Die weißen Götter – Zweiter Band",
          "Das Gelübde einer dreißigjährigen Frau",
          "Der Katzensteg",
          "Die Geheimnisse von Paris",
          "Eva Siebeck",
          "Jä gäll, so geit's!",
          "Altaich",
          "Jozef Filsers Briefwexel",
          "Satiren",
          "Der Letzte vom »Admiral«",
          "Der Gefangene der Aimaràs",
          "Der Enkel der Könige",
          "Der Sohn des Gaucho",
          "Verwehte Spuren",
          "Rosa und Gertrud",
          "Die Rebächle",
          "Zwei Menschen",
          "Alpentragödie",
          "Die Auferstandenen – Erster Band",
          "Die Auferstandenen – Zweiter Band",
          "Brutus, auch Du!",
          "Michael Cibula",
          "Villa Falconieri",
          "Das Haus der Grimaldi",
          "Römisches Fieber",
          "Rolla",
          "Im Schatten des Todes",
          "Das Schatzhaus des Königs",
          "Alexander in Babylon",
          "Sabbatai Zewi – Donna Johanna von Castilien – Geronimo de Aguilar – Sturreganz – Der Aufruhr um den Junker Ernst",
          "Melusine",
          "Der Moloch",
          "Die Schwestern",
          "Franziska",
          "Die Galeere",
          "Ich – der Augenzeuge",
          "Mensch gegen Mensch",
          "Tiere in Ketten",
          "Adlerflug",
          "Fata Morgana",
          "Glück auf!",
          "Vineta",
          "Lebensgeschichte Tobias Knauts",
          "Der Bürgermeister von Thorn",
          "Heinrich von Plauen",
          "Der Wilddieb",
          "Die leibhaftige Bosheit",
          "Die Karlsbader Reise der leibhaftigen Bosheit",
          "Der leibhaftigen Bosheit Opus III",
          "Die Väter haben Herlinge gegessen",
          "Aus jungen Tagen",
          "Agathodämon",
          "Geschichte des Weisen Danischmend und der drei Kalender",
          "Schwester-Seele",
          "Die alte Freundin",
          "Die Familie Ammer – Erste Abtheilung. Der Herrnhuter.",
          "Die Familie Ammer – Zweite Abtheilung. Moderne Götzendiener.",
          "Die Familie Ammer – Dritte Abtheilung. Geprüfte Seelen.",
          "Reeder und Matrose",
          "Die vier Töchter des Rittmeister Schimmelmann",
          "Fabiola oder Die Kirche der Katakomben",
          "Die Göttin die da harret",
          "Das kleine Glück",
          "Du sollst ein Mann sein",
          "Der Raubgraf",
          "Das schwarze Weib",
          "Der Sülfmeister",
          "Das Wildfangrecht",
          "Das dritte Geschlecht",
          "Die Erbschleicherinnen, Band 1",
          "Die Erbschleicherinnen - Zweiter Band",
          "Die Kinder der Excellenz",
          "Der Kraft-Mayr",
          "Der Thronfolger - Erster Band",
          "Der Thronfolger – Zweiter Band",
          "Der schweizerische Robinson",
          "Das Naturforscherschiff",
          "Onnen Visser - Der Schmugglersohn von Norderney",
          "Das Liebesleben eines deutschen Jünglings",
          "Zwischen Mann und Frau",
          "Drei Mädchen am Spinnrad",
          "Besser Herr als Knecht",
          "Die Million",
          "Die Rose von Disentis",
          "Der Flüchtling im Jura",
          "Das Abenteuer der Neujahrsnacht",
          "Der Maskenball in der Ca' Torcelli",
          "Die Geächteten",
          "Der schwarze Koffer",
          "Familie Dungs",
          "Der Tod Georgs",
          "Frau Hempels Tochter",
          "Der Wilde Freiger",
          "Geheimnisvolle Kräfte",
          "In frischem Wasser",
          "Der gewürzige Hund",
          "Halbtier!",
          "Das Haus zur Flamm'",
          "Das Recht der Mutter",
          "Die Nann",
          "Winkelquartett",
          "Vom Mars zur Erde",
          "Flitter und Schein",
          "Don Adone",
          "Kleopatra",
          "Bebuquin",
          "Frieden I",
          "Frieden II",
          "Hazard. Erster Band",
          "Hazard. Zweiter Band",
          "Alraune",
          "Der Zauberlehrling oder die Teufelsjäger",
          "Berge und Menschen",
          "Ein Kampf ums Recht",
          "Die drei Getreuen",
          "Peter Moors Fahrt nach Südwest",
          "Jörn Uhl",
          "Die Berliner Range. Lotte Bach's Hochzeitsreise. Band X.",
          "Die Berliner Range. Frau Lotte in Rußland. Band XI.",
          "Die Berliner Range. Lotte als Mutter! Band XII.",
          "Die Berliner Range - Neue Bekenntnisse. Band I.",
          "Die Berliner Range - Neue Bekenntnisse. Band II.",
          "Die Berliner Range - Neue Bekenntnisse. Band III.",
          "Die Berliner Range - Neue Bekenntnisse. Band IV.",
          "Die Berliner Range – Lotte Bach als Braut. Band V.",
          "Die Berliner Range - Berlin, wie es ißt und trinkt. Band VI.",
          "Die Berliner Range VII - Prosit Brautpaar!",
          "Die Berliner Range VIII - Berlin wie es lebt und liebt",
          "Die Berliner Range. Hochzeitsvorbereitungen. Band IX.",
          "Heimisbach",
          "Masaniello",
          "Savonarola",
          "Schlitzwang",
          "Wulfhilde",
          "Zeitgeist und Berner Geist",
          "Im Banne des Schwarzen Adlers",
          "Parasiten",
          "Firnenrausch",
          "In Jena ein Student",
          "Der König von Thule",
          "Die vom Rauhen Grund",
          "Ursula Drenck",
          "Du mein Jena!",
          "In der Philister Land",
          "Im Wechsel der Zeit",
          "Unsere liebe Frau. Erster Band",
          "Unsere liebe Frau. Zweiter Band",
          "Heilige und Menschen",
          "Töte sie!",
          "Der Genius",
          "Ravensbeck",
          "Die Partei",
          "Seraphine",
          "Abraham Abt",
          "Il Pantegan",
          "Jo",
          "Die Tat des Dietrich Stobäus",
          "Drei Teilhaber",
          "Das Geheimnis der Sierra",
          "Die goldene Schlange",
          "Trotzige Herzen",
          "Doktor Herzfeld. Erster Teil. Die Nacht",
          "Doktor Herzfeld.Zweiter Teil. Schnee",
          "Henriette Jacoby",
          "Jettchen Gebert",
          "Kubinke",
          "Heinrich Schön jun.",
          "Einen Sommer lang",
          "Das große Heimweh",
          "Die Wiskottens",
          "Am Kreuz",
          "Die Sonne von St. Moritz",
          "Der eiserne Rittmeister",
          "Moschele",
          "Arge Sitten",
          "Robert Leichtfuß",
          "Peregretta",
          "Ein Dieb in der Nacht",
          "Ein Einbrecher aus Passion",
          "Raffles als Richter",
          "Der Schatten des Stricks. Erster Band",
          "Der Schatten des Stricks. Zweiter Band",
          "Schüsse in der Nacht",
          "Das silberne Auto",
          "Peter Michel",
          "Wilhelm Brinkmeyers Abenteuer",
          "Unter einem Dach",
          "Die drei Freundinnen",
          "Großmütterchen",
          "Aus dem Leben einer Waise",
          "Maria und Lisa",
          "Die Nachbarn",
          "Im Rosenhaus",
          "Der Stern des Orsini",
          "Der rote Teufel",
          "Die Sebalds. Erster Band. Im alten Hause.",
          "Die Sebalds. Zweiter Band. Exodus",
          "Der Obstkahn am Elisabethufer",
          "Am Ende der Welt",
          "Wiener Kinder",
          "Michael Hely",
          "Ferien vom Ich",
          "Papas Junge",
          "Die Patentochter des alten Fritz",
          "Im Haus der Witwe",
          "Am toten See",
          "Die Jobsiade",
          "Tubal der Friedlose",
          "Mein Herz",
          "Mascotte",
          "Die neuen Linden",
          "Der Rettungsball",
          "El Dorado",
          "Wunderwelten",
          "Ilsedores Glück",
          "Die Gefangenen der Apachen. Erster Band",
          "Die Gefangenen der Apachen. Zweiter Band",
          "Der blaurote Methusalem",
          "Das Monogramm",
          "Berlin und Sanssouci oder Friedrich der Große und seine Freunde. Erstes Buch",
          "Berlin und Sanssouci oder Friedrich der Große und seine Freunde. Zweites Buch",
          "Berlin und Sanssouci oder Friedrich der Große und seine Freunde. Drittes Buch",
          "Berlin und Sanssouci oder Friedrich der Große und seine Freunde. Viertes Buch",
          "Die Millionenbraut. Erster Band",
          "Die Millionenbraut. Zweiter Band",
          "Die Millionenbraut. Dritter Band",
          "Die Millionenbraut. Vierter Band",
          "Die rote Tinktur",
          "Jakob van der Nees. Erster Theil. Angela",
          "Jakob van der Nees. Zweiter Theil. Urica",
          "Jakob van der Nees. Dritter Theil. Floripes",
          "Die Tänzerin Barberina",
          "Der kluge Pitter",
          "Der Grabenhäger",
          "Thekla Lüdekind. Erster Band",
          "Thekla Lüdekind. Zweiter Band",
          "Drude",
          "Die Erde bebt!",
          "Frau Übersee",
          "Sebastopol. Erster Band",
          "Sebastopol. Zweiter Band",
          "Der Tiger",
          "Die Grandidiers",
          "Orion",
          "Der Stegreifritter",
          "Der sechste Sinn",
          "Gräfin Polly",
          "Kerlchens Mutterglück. Provinzmädel Band IX",
          "Bertrade. Die Chronik des Mönchs von Le Saremon",
          "Die Enkelin der Liselotte",
          "Der Kardinal",
          "Prinzessin Jungfrau",
          "Ein Namenloser",
          "Florian – Das Pferd des Kaisers",
          "Werden und Wachsen",
          "Huberta Sollacher",
          "Subotins Erbe",
          "Theaterkinder",
          "Joli",
          "Die Tasse des Königs",
          "Jan Blaufink oder See und Theater",
          "Burschen heraus!",
          "Hans Georg Portner",
          "Richiza",
          "Die Fahrt nach der alten Urkunde",
          "Angela",
          "Ein neuer Pharao",
          "Sturmflut. Erste Abteilung",
          "Sturmflut. Zweite Abteilung",
          "Was will das werden? Erster Theil",
          "Was will das werden? Zweiter Theil",
          "Wo Gritlis Kinder hingekommen sind",
          "Gritlis Kinder kommen weiter",
          "Europa",
          "Der Stärn vo Buebebärg",
          "Der Advokatenbauer",
          "Tutu",
          "Vierzehn Jahr' und sieben Wochen",
          "Baumeisters Rangen",
          "Dornröschen",
          "Flüchtlingskinder",
          "Goldblondchen",
          "Das graue Haus",
          "Nesthäkchens Backfischzeit",
          "Nesthäkchen im Kinderheim",
          "Nesthäkchen und der Weltkrieg",
          "Nesthäkchen und ihre Puppen",
          "Nesthäkchens erstes Schuljahr",
          "Kommerzienrats Olly",
          "Studierte Mädel von heute",
          "Die Pfahlburg",
          "Komtesse Helene",
          "Miß Lydia",
          "Was die Straße verschlingt. Erster Band",
          "Was die Straße verschlingt. Zweiter Band",
          "Was die Straße verschlingt. Dritter Band",
          "Gisli der Waldgänger aus Islands Heldenzeit",
          "Der Teppich des Grauens",
          "Der Todfeind",
          "Die tolle Komteß",
          "Durch graue Gassen",
          "Auf hoher Warte"
         ],
         "xaxis": "x",
         "y": [
          42720,
          55886,
          110429,
          309965,
          30762,
          83961,
          174582,
          147145,
          91833,
          164919,
          40155,
          99938,
          85502,
          23511,
          50225,
          66708,
          51053,
          25744,
          44072,
          47787,
          39845,
          65279,
          56248,
          62911,
          53603,
          45852,
          223456,
          59192,
          242977,
          69867,
          79405,
          115202,
          132345,
          93713,
          44844,
          54308,
          69342,
          51114,
          34740,
          39223,
          45910,
          127054,
          93943,
          211785,
          31430,
          80334,
          87609,
          63343,
          71647,
          62698,
          33548,
          63884,
          26368,
          57988,
          42219,
          118040,
          44039,
          97126,
          76115,
          44202,
          99367,
          112578,
          13477,
          19829,
          33548,
          16603,
          37967,
          26154,
          75497,
          223243,
          32666,
          44016,
          38711,
          41862,
          59484,
          32707,
          55415,
          51573,
          29682,
          80207,
          81260,
          59303,
          95396,
          31779,
          125070,
          32864,
          66375,
          66689,
          41957,
          34390,
          137835,
          45207,
          32170,
          92094,
          163874,
          42583,
          59209,
          139905,
          24163,
          75560,
          286598,
          256064,
          56975,
          161645,
          174909,
          146603,
          158064,
          39505,
          194211,
          79163,
          147362,
          133773,
          136250,
          149766,
          36183,
          360529,
          78046,
          111328,
          228497,
          56139,
          90187,
          126161,
          36651,
          87654,
          102002,
          78687,
          48118,
          62763,
          187646,
          320017,
          106933,
          134006,
          7024,
          12003,
          48032,
          92111,
          39293,
          46839,
          88631,
          195990,
          240220,
          28609,
          24719,
          67649,
          45271,
          17800,
          32881,
          149583,
          246658,
          77252,
          177309,
          264009,
          26612,
          157526,
          18414,
          83381,
          267412,
          250914,
          94692,
          31883,
          29265,
          44404,
          46359,
          34122,
          38770,
          64163,
          77600,
          93315,
          20935,
          37833,
          78317,
          170116,
          178199,
          99638,
          220741,
          102944,
          179235,
          33981,
          94984,
          92191,
          32019,
          456465,
          78610,
          64283,
          70967,
          83885,
          99952,
          88943,
          123772,
          59485,
          95672,
          149835,
          156993,
          156435,
          162061,
          149182,
          148078,
          140794,
          120740,
          135480,
          150660,
          155128,
          155648,
          139665,
          152149,
          158913,
          167630,
          173239,
          168466,
          155022,
          66707,
          98902,
          15887,
          50558,
          72025,
          41528,
          37491,
          36761,
          71065,
          34175,
          37868,
          121752,
          189401,
          131865,
          131523,
          24991,
          15664,
          47562,
          105815,
          66675,
          114278,
          131368,
          100477,
          122704,
          48848,
          10756,
          113381,
          53070,
          48298,
          49249,
          214251,
          234510,
          70507,
          64333,
          82435,
          92335,
          140642,
          118329,
          48076,
          142903,
          126260,
          116853,
          116443,
          83117,
          54456,
          60204,
          63364,
          61255,
          58805,
          61485,
          20993,
          34505,
          24826,
          59301,
          70761,
          74963,
          80898,
          20129,
          51668,
          18703,
          53466,
          49840,
          155761,
          38044,
          45970,
          56842,
          29977,
          48563,
          117845,
          34702,
          36006,
          89890,
          153535,
          122453,
          112265,
          83375,
          190868,
          169341,
          271263,
          57097,
          68144,
          262221,
          41703,
          46916,
          26213,
          51187,
          37366,
          70588,
          37247,
          35136,
          39763,
          49639,
          248357,
          276665,
          38334,
          66245,
          40510,
          129146,
          85043,
          77482,
          54886,
          160378,
          102629,
          125550,
          102102,
          97871,
          44779,
          49440,
          43254,
          81585,
          78163,
          58511,
          139629,
          37682,
          81000,
          131204,
          160151,
          244751,
          51296,
          47914,
          93108,
          258437,
          28032,
          123989,
          160988,
          120279,
          107413,
          115173,
          321198,
          148449,
          123809,
          115475,
          269359,
          74477,
          80236,
          184996,
          42250,
          50877,
          102954,
          56616,
          126759,
          228551,
          71665,
          67722,
          80775,
          152005,
          65460,
          78392,
          220349,
          26129,
          115617,
          75079,
          67143,
          56069,
          65027,
          61656,
          70844,
          48349,
          75989,
          52256,
          56695,
          25064,
          129578,
          89024,
          74218,
          73888,
          44107,
          78911,
          70351,
          156139,
          117159,
          56603,
          32711,
          47586,
          43671,
          38965,
          55461,
          236900,
          33715,
          18611,
          27313,
          68092,
          62216,
          58221,
          38113,
          201110,
          58691,
          43020,
          67067,
          57915,
          94101,
          94418,
          83446,
          85821,
          95671,
          41157,
          85564,
          112835,
          109289,
          44752,
          86041,
          96055,
          68573,
          111088,
          88848,
          123338,
          93594,
          156135,
          58323,
          70267,
          69407,
          49749,
          48717,
          76340,
          35211,
          92702,
          82063,
          39406,
          22944,
          42871,
          15298,
          55450,
          82436,
          40155,
          115281,
          50076,
          83470,
          25832,
          73667,
          40141,
          62024,
          89064,
          82695,
          74662,
          201221,
          204946,
          95407,
          96309,
          146565,
          82788,
          168205,
          125253,
          210977,
          152373,
          93913,
          94625,
          106919,
          176701,
          58503,
          128787,
          154448,
          53583,
          91100,
          50075,
          116772,
          65641,
          64857,
          63026,
          71641,
          81861,
          96800,
          70572,
          193285,
          118565,
          126989,
          53598,
          58133,
          121875,
          60419,
          56105,
          49764,
          54807,
          59824,
          79550,
          95467,
          213208,
          154892,
          229707,
          32603,
          38421,
          77450,
          79981,
          129467,
          6015,
          20924,
          66028,
          73210,
          128445,
          109450,
          41340,
          59058,
          120096,
          100979,
          104855,
          96158,
          70791,
          60397,
          90828,
          157039,
          58906,
          76147,
          100775,
          167082,
          105686,
          115493,
          119497,
          90983,
          26740,
          183620,
          131630,
          58811,
          57849,
          176044,
          130554,
          9487,
          159907,
          90058,
          110117,
          114856,
          81396,
          141009,
          74150,
          85024,
          85108,
          221475,
          105946,
          117881,
          96797,
          255639,
          147600,
          100417,
          83332,
          72973,
          78384,
          157150,
          195374,
          33522,
          83295,
          52303,
          80297,
          82180,
          133067,
          84742,
          93380,
          75074,
          53932,
          73455,
          92744,
          77938,
          67197,
          84192,
          61177,
          87981,
          69150,
          59056,
          118937,
          82673,
          51522,
          151519,
          20421,
          51427,
          45321,
          81777,
          64959,
          29325,
          72792,
          31145,
          56916,
          84011,
          68223,
          42889,
          108375,
          45806,
          107479,
          116314,
          76549,
          31687,
          83191,
          64865,
          65957,
          57489,
          48579,
          48314,
          27094,
          45327,
          105746,
          152178,
          91840,
          62669,
          66526,
          63139,
          79350,
          26628,
          95920,
          74648,
          36304,
          85039,
          55427,
          13212,
          13828,
          86150,
          58849,
          51170,
          35130,
          79796,
          155322,
          108218,
          101158,
          94066,
          37586,
          103066,
          182943,
          186162,
          214749,
          200121,
          100309,
          296101,
          79546,
          67734,
          62805,
          114396,
          89952,
          95469,
          69356,
          62644,
          107146,
          94412,
          111169,
          107895,
          56697,
          203360,
          78614,
          52487,
          137650,
          39913,
          46872,
          28016,
          82133,
          34516,
          34397,
          165522,
          61459,
          133853,
          97934,
          89800,
          120079,
          129781,
          110154,
          90837,
          25536,
          162523,
          105263,
          150642,
          182662,
          132713,
          182499,
          191443,
          153904,
          124509,
          141256,
          125506,
          135185,
          195344,
          118014,
          254221,
          178083,
          104487,
          166362,
          44177,
          99324,
          95829,
          90141,
          81935,
          64454,
          180552,
          53395,
          72972,
          49692,
          109683,
          55913,
          59919,
          111872,
          109841,
          161737,
          77793,
          72631,
          190856,
          271446,
          76233,
          84472,
          91513,
          73722,
          101317,
          49047,
          72213,
          60628,
          91900,
          82837,
          69597,
          81440,
          77490,
          94088,
          102071,
          60253,
          51475,
          52666,
          86393,
          65844,
          65271,
          59724,
          59308,
          55672,
          104933,
          101072,
          28784,
          362019,
          132834,
          71809,
          103634,
          101302,
          103654,
          222548,
          210619,
          102774,
          61723,
          101868,
          79265,
          83154,
          63054,
          52876,
          62658,
          79808,
          22435,
          61151,
          40729,
          36975,
          35962,
          36453,
          82792,
          78178,
          98968,
          86167,
          47907,
          67545,
          64140,
          134237,
          39996,
          31019,
          29711,
          29800,
          27730,
          16560,
          5210,
          153014,
          56288,
          31159,
          23637,
          26821,
          91119,
          59315,
          133868,
          111299,
          73814,
          72144,
          95371,
          84263,
          64169,
          61157,
          94287,
          128642,
          75534,
          28111,
          61781,
          43964,
          43810,
          62531,
          114144,
          89473,
          112141,
          109447,
          143815,
          41139,
          143823,
          92118,
          47351,
          58038,
          52383,
          65638,
          69447,
          60641,
          44736,
          44989,
          39115,
          72005,
          101136,
          107420,
          134408,
          171169,
          79279,
          93386,
          55259,
          140716,
          215176,
          117301,
          25882,
          69598,
          66314,
          87067,
          69463,
          188157,
          68443,
          75440,
          56631,
          69045,
          49589,
          76566,
          111227,
          57740,
          76096,
          50493,
          46269,
          58833,
          55878,
          104180,
          73075,
          78996,
          99990,
          88371,
          79345,
          82734,
          60712,
          124934,
          40622,
          76721,
          174940,
          184482,
          47088,
          73712,
          205715,
          67732,
          42366,
          66678,
          42954,
          39136,
          90899,
          74647,
          79313,
          80511,
          164671,
          75007,
          42085,
          83142,
          91740,
          59050,
          61213,
          97247,
          99057,
          73595,
          41095,
          115613,
          103853,
          81009,
          86280,
          49066,
          93494,
          43535,
          78714,
          38141,
          59767,
          48458,
          77447,
          41688,
          48502,
          35616,
          121695,
          100966,
          112832,
          174907,
          205211,
          275728,
          29154,
          69452,
          51709,
          54517,
          74219,
          78410,
          82528,
          73089,
          129634,
          80422,
          94848,
          77236,
          59376,
          82406,
          127346,
          143984,
          85065,
          50395,
          88780,
          108262,
          76444,
          155351,
          65395,
          57744,
          53839,
          58075,
          52655,
          102151,
          41388,
          39713,
          127009,
          158835,
          200666,
          66014,
          61727,
          84584,
          90054,
          104667,
          76136,
          38317,
          15794,
          68411,
          51197,
          43942,
          79073,
          36893,
          47467,
          61604,
          62908,
          72124,
          64507,
          44685,
          65837,
          83436,
          73742,
          51839,
          35800,
          38288,
          99481,
          140248,
          12988,
          57135,
          51169,
          57068,
          51897,
          90801,
          102804,
          148221,
          139886,
          119165,
          41419,
          140789,
          38053,
          44356,
          40728,
          49004,
          45397,
          35086,
          36240,
          39027,
          34824,
          36181,
          35074,
          38300,
          92681,
          103132,
          125136,
          67994,
          99125,
          201997,
          181762,
          102265,
          55556,
          78349,
          50762,
          88914,
          60521,
          56652,
          55053,
          63438,
          64270,
          86673,
          115840,
          45184,
          168733,
          41859,
          75625,
          50210,
          46945,
          20645,
          89883,
          100186,
          67013,
          40090,
          58434,
          94697,
          70899,
          85356,
          94495,
          120975,
          86262,
          91006,
          67202,
          116992,
          97469,
          169207,
          53750,
          133373,
          28052,
          83592,
          137784,
          53277,
          51677,
          55397,
          60591,
          41946,
          40627,
          53239,
          35095,
          78779,
          92477,
          80172,
          75724,
          75595,
          69486,
          69735,
          72293,
          51592,
          107828,
          45829,
          69043,
          69024,
          16089,
          46705,
          105252,
          104406,
          77257,
          93384,
          69203,
          92336,
          58213,
          24425,
          49855,
          22801,
          52098,
          22656,
          33520,
          142195,
          98517,
          21939,
          54876,
          71170,
          157026,
          210275,
          44577,
          51499,
          57882,
          58270,
          57471,
          61106,
          53801,
          44632,
          113074,
          77334,
          84370,
          79897,
          105414,
          71222,
          154590,
          98268,
          90370,
          50096,
          50007,
          32895,
          210828,
          223769,
          62837,
          146847,
          68238,
          30824,
          65282,
          43517,
          37914,
          55826,
          30348,
          49787,
          65100,
          43471,
          40603,
          82834,
          63959,
          26905,
          51478,
          40874,
          32953,
          88019,
          138044,
          88464,
          68446,
          52608,
          134189,
          113039,
          102429,
          130642,
          166288,
          125223,
          34568,
          31594,
          61062,
          71717,
          55594,
          43668,
          82837,
          56187,
          76540,
          52261,
          44763,
          76713,
          55011,
          54592,
          54560,
          41465,
          44184,
          65976,
          49789,
          28949,
          38564,
          23618,
          44103,
          40675,
          48984,
          33652,
          80681,
          68267,
          93536,
          66400,
          66558
         ],
         "yaxis": "y"
        }
       ],
       "layout": {
        "barmode": "relative",
        "legend": {
         "tracegroupgap": 0
        },
        "margin": {
         "t": 60
        },
        "template": {
         "data": {
          "bar": [
           {
            "error_x": {
             "color": "#2a3f5f"
            },
            "error_y": {
             "color": "#2a3f5f"
            },
            "marker": {
             "line": {
              "color": "#E5ECF6",
              "width": 0.5
             },
             "pattern": {
              "fillmode": "overlay",
              "size": 10,
              "solidity": 0.2
             }
            },
            "type": "bar"
           }
          ],
          "barpolar": [
           {
            "marker": {
             "line": {
              "color": "#E5ECF6",
              "width": 0.5
             },
             "pattern": {
              "fillmode": "overlay",
              "size": 10,
              "solidity": 0.2
             }
            },
            "type": "barpolar"
           }
          ],
          "carpet": [
           {
            "aaxis": {
             "endlinecolor": "#2a3f5f",
             "gridcolor": "white",
             "linecolor": "white",
             "minorgridcolor": "white",
             "startlinecolor": "#2a3f5f"
            },
            "baxis": {
             "endlinecolor": "#2a3f5f",
             "gridcolor": "white",
             "linecolor": "white",
             "minorgridcolor": "white",
             "startlinecolor": "#2a3f5f"
            },
            "type": "carpet"
           }
          ],
          "choropleth": [
           {
            "colorbar": {
             "outlinewidth": 0,
             "ticks": ""
            },
            "type": "choropleth"
           }
          ],
          "contour": [
           {
            "colorbar": {
             "outlinewidth": 0,
             "ticks": ""
            },
            "colorscale": [
             [
              0,
              "#0d0887"
             ],
             [
              0.1111111111111111,
              "#46039f"
             ],
             [
              0.2222222222222222,
              "#7201a8"
             ],
             [
              0.3333333333333333,
              "#9c179e"
             ],
             [
              0.4444444444444444,
              "#bd3786"
             ],
             [
              0.5555555555555556,
              "#d8576b"
             ],
             [
              0.6666666666666666,
              "#ed7953"
             ],
             [
              0.7777777777777778,
              "#fb9f3a"
             ],
             [
              0.8888888888888888,
              "#fdca26"
             ],
             [
              1,
              "#f0f921"
             ]
            ],
            "type": "contour"
           }
          ],
          "contourcarpet": [
           {
            "colorbar": {
             "outlinewidth": 0,
             "ticks": ""
            },
            "type": "contourcarpet"
           }
          ],
          "heatmap": [
           {
            "colorbar": {
             "outlinewidth": 0,
             "ticks": ""
            },
            "colorscale": [
             [
              0,
              "#0d0887"
             ],
             [
              0.1111111111111111,
              "#46039f"
             ],
             [
              0.2222222222222222,
              "#7201a8"
             ],
             [
              0.3333333333333333,
              "#9c179e"
             ],
             [
              0.4444444444444444,
              "#bd3786"
             ],
             [
              0.5555555555555556,
              "#d8576b"
             ],
             [
              0.6666666666666666,
              "#ed7953"
             ],
             [
              0.7777777777777778,
              "#fb9f3a"
             ],
             [
              0.8888888888888888,
              "#fdca26"
             ],
             [
              1,
              "#f0f921"
             ]
            ],
            "type": "heatmap"
           }
          ],
          "heatmapgl": [
           {
            "colorbar": {
             "outlinewidth": 0,
             "ticks": ""
            },
            "colorscale": [
             [
              0,
              "#0d0887"
             ],
             [
              0.1111111111111111,
              "#46039f"
             ],
             [
              0.2222222222222222,
              "#7201a8"
             ],
             [
              0.3333333333333333,
              "#9c179e"
             ],
             [
              0.4444444444444444,
              "#bd3786"
             ],
             [
              0.5555555555555556,
              "#d8576b"
             ],
             [
              0.6666666666666666,
              "#ed7953"
             ],
             [
              0.7777777777777778,
              "#fb9f3a"
             ],
             [
              0.8888888888888888,
              "#fdca26"
             ],
             [
              1,
              "#f0f921"
             ]
            ],
            "type": "heatmapgl"
           }
          ],
          "histogram": [
           {
            "marker": {
             "pattern": {
              "fillmode": "overlay",
              "size": 10,
              "solidity": 0.2
             }
            },
            "type": "histogram"
           }
          ],
          "histogram2d": [
           {
            "colorbar": {
             "outlinewidth": 0,
             "ticks": ""
            },
            "colorscale": [
             [
              0,
              "#0d0887"
             ],
             [
              0.1111111111111111,
              "#46039f"
             ],
             [
              0.2222222222222222,
              "#7201a8"
             ],
             [
              0.3333333333333333,
              "#9c179e"
             ],
             [
              0.4444444444444444,
              "#bd3786"
             ],
             [
              0.5555555555555556,
              "#d8576b"
             ],
             [
              0.6666666666666666,
              "#ed7953"
             ],
             [
              0.7777777777777778,
              "#fb9f3a"
             ],
             [
              0.8888888888888888,
              "#fdca26"
             ],
             [
              1,
              "#f0f921"
             ]
            ],
            "type": "histogram2d"
           }
          ],
          "histogram2dcontour": [
           {
            "colorbar": {
             "outlinewidth": 0,
             "ticks": ""
            },
            "colorscale": [
             [
              0,
              "#0d0887"
             ],
             [
              0.1111111111111111,
              "#46039f"
             ],
             [
              0.2222222222222222,
              "#7201a8"
             ],
             [
              0.3333333333333333,
              "#9c179e"
             ],
             [
              0.4444444444444444,
              "#bd3786"
             ],
             [
              0.5555555555555556,
              "#d8576b"
             ],
             [
              0.6666666666666666,
              "#ed7953"
             ],
             [
              0.7777777777777778,
              "#fb9f3a"
             ],
             [
              0.8888888888888888,
              "#fdca26"
             ],
             [
              1,
              "#f0f921"
             ]
            ],
            "type": "histogram2dcontour"
           }
          ],
          "mesh3d": [
           {
            "colorbar": {
             "outlinewidth": 0,
             "ticks": ""
            },
            "type": "mesh3d"
           }
          ],
          "parcoords": [
           {
            "line": {
             "colorbar": {
              "outlinewidth": 0,
              "ticks": ""
             }
            },
            "type": "parcoords"
           }
          ],
          "pie": [
           {
            "automargin": true,
            "type": "pie"
           }
          ],
          "scatter": [
           {
            "fillpattern": {
             "fillmode": "overlay",
             "size": 10,
             "solidity": 0.2
            },
            "type": "scatter"
           }
          ],
          "scatter3d": [
           {
            "line": {
             "colorbar": {
              "outlinewidth": 0,
              "ticks": ""
             }
            },
            "marker": {
             "colorbar": {
              "outlinewidth": 0,
              "ticks": ""
             }
            },
            "type": "scatter3d"
           }
          ],
          "scattercarpet": [
           {
            "marker": {
             "colorbar": {
              "outlinewidth": 0,
              "ticks": ""
             }
            },
            "type": "scattercarpet"
           }
          ],
          "scattergeo": [
           {
            "marker": {
             "colorbar": {
              "outlinewidth": 0,
              "ticks": ""
             }
            },
            "type": "scattergeo"
           }
          ],
          "scattergl": [
           {
            "marker": {
             "colorbar": {
              "outlinewidth": 0,
              "ticks": ""
             }
            },
            "type": "scattergl"
           }
          ],
          "scattermapbox": [
           {
            "marker": {
             "colorbar": {
              "outlinewidth": 0,
              "ticks": ""
             }
            },
            "type": "scattermapbox"
           }
          ],
          "scatterpolar": [
           {
            "marker": {
             "colorbar": {
              "outlinewidth": 0,
              "ticks": ""
             }
            },
            "type": "scatterpolar"
           }
          ],
          "scatterpolargl": [
           {
            "marker": {
             "colorbar": {
              "outlinewidth": 0,
              "ticks": ""
             }
            },
            "type": "scatterpolargl"
           }
          ],
          "scatterternary": [
           {
            "marker": {
             "colorbar": {
              "outlinewidth": 0,
              "ticks": ""
             }
            },
            "type": "scatterternary"
           }
          ],
          "surface": [
           {
            "colorbar": {
             "outlinewidth": 0,
             "ticks": ""
            },
            "colorscale": [
             [
              0,
              "#0d0887"
             ],
             [
              0.1111111111111111,
              "#46039f"
             ],
             [
              0.2222222222222222,
              "#7201a8"
             ],
             [
              0.3333333333333333,
              "#9c179e"
             ],
             [
              0.4444444444444444,
              "#bd3786"
             ],
             [
              0.5555555555555556,
              "#d8576b"
             ],
             [
              0.6666666666666666,
              "#ed7953"
             ],
             [
              0.7777777777777778,
              "#fb9f3a"
             ],
             [
              0.8888888888888888,
              "#fdca26"
             ],
             [
              1,
              "#f0f921"
             ]
            ],
            "type": "surface"
           }
          ],
          "table": [
           {
            "cells": {
             "fill": {
              "color": "#EBF0F8"
             },
             "line": {
              "color": "white"
             }
            },
            "header": {
             "fill": {
              "color": "#C8D4E3"
             },
             "line": {
              "color": "white"
             }
            },
            "type": "table"
           }
          ]
         },
         "layout": {
          "annotationdefaults": {
           "arrowcolor": "#2a3f5f",
           "arrowhead": 0,
           "arrowwidth": 1
          },
          "autotypenumbers": "strict",
          "coloraxis": {
           "colorbar": {
            "outlinewidth": 0,
            "ticks": ""
           }
          },
          "colorscale": {
           "diverging": [
            [
             0,
             "#8e0152"
            ],
            [
             0.1,
             "#c51b7d"
            ],
            [
             0.2,
             "#de77ae"
            ],
            [
             0.3,
             "#f1b6da"
            ],
            [
             0.4,
             "#fde0ef"
            ],
            [
             0.5,
             "#f7f7f7"
            ],
            [
             0.6,
             "#e6f5d0"
            ],
            [
             0.7,
             "#b8e186"
            ],
            [
             0.8,
             "#7fbc41"
            ],
            [
             0.9,
             "#4d9221"
            ],
            [
             1,
             "#276419"
            ]
           ],
           "sequential": [
            [
             0,
             "#0d0887"
            ],
            [
             0.1111111111111111,
             "#46039f"
            ],
            [
             0.2222222222222222,
             "#7201a8"
            ],
            [
             0.3333333333333333,
             "#9c179e"
            ],
            [
             0.4444444444444444,
             "#bd3786"
            ],
            [
             0.5555555555555556,
             "#d8576b"
            ],
            [
             0.6666666666666666,
             "#ed7953"
            ],
            [
             0.7777777777777778,
             "#fb9f3a"
            ],
            [
             0.8888888888888888,
             "#fdca26"
            ],
            [
             1,
             "#f0f921"
            ]
           ],
           "sequentialminus": [
            [
             0,
             "#0d0887"
            ],
            [
             0.1111111111111111,
             "#46039f"
            ],
            [
             0.2222222222222222,
             "#7201a8"
            ],
            [
             0.3333333333333333,
             "#9c179e"
            ],
            [
             0.4444444444444444,
             "#bd3786"
            ],
            [
             0.5555555555555556,
             "#d8576b"
            ],
            [
             0.6666666666666666,
             "#ed7953"
            ],
            [
             0.7777777777777778,
             "#fb9f3a"
            ],
            [
             0.8888888888888888,
             "#fdca26"
            ],
            [
             1,
             "#f0f921"
            ]
           ]
          },
          "colorway": [
           "#636efa",
           "#EF553B",
           "#00cc96",
           "#ab63fa",
           "#FFA15A",
           "#19d3f3",
           "#FF6692",
           "#B6E880",
           "#FF97FF",
           "#FECB52"
          ],
          "font": {
           "color": "#2a3f5f"
          },
          "geo": {
           "bgcolor": "white",
           "lakecolor": "white",
           "landcolor": "#E5ECF6",
           "showlakes": true,
           "showland": true,
           "subunitcolor": "white"
          },
          "hoverlabel": {
           "align": "left"
          },
          "hovermode": "closest",
          "mapbox": {
           "style": "light"
          },
          "paper_bgcolor": "white",
          "plot_bgcolor": "#E5ECF6",
          "polar": {
           "angularaxis": {
            "gridcolor": "white",
            "linecolor": "white",
            "ticks": ""
           },
           "bgcolor": "#E5ECF6",
           "radialaxis": {
            "gridcolor": "white",
            "linecolor": "white",
            "ticks": ""
           }
          },
          "scene": {
           "xaxis": {
            "backgroundcolor": "#E5ECF6",
            "gridcolor": "white",
            "gridwidth": 2,
            "linecolor": "white",
            "showbackground": true,
            "ticks": "",
            "zerolinecolor": "white"
           },
           "yaxis": {
            "backgroundcolor": "#E5ECF6",
            "gridcolor": "white",
            "gridwidth": 2,
            "linecolor": "white",
            "showbackground": true,
            "ticks": "",
            "zerolinecolor": "white"
           },
           "zaxis": {
            "backgroundcolor": "#E5ECF6",
            "gridcolor": "white",
            "gridwidth": 2,
            "linecolor": "white",
            "showbackground": true,
            "ticks": "",
            "zerolinecolor": "white"
           }
          },
          "shapedefaults": {
           "line": {
            "color": "#2a3f5f"
           }
          },
          "ternary": {
           "aaxis": {
            "gridcolor": "white",
            "linecolor": "white",
            "ticks": ""
           },
           "baxis": {
            "gridcolor": "white",
            "linecolor": "white",
            "ticks": ""
           },
           "bgcolor": "#E5ECF6",
           "caxis": {
            "gridcolor": "white",
            "linecolor": "white",
            "ticks": ""
           }
          },
          "title": {
           "x": 0.05
          },
          "xaxis": {
           "automargin": true,
           "gridcolor": "white",
           "linecolor": "white",
           "ticks": "",
           "title": {
            "standoff": 15
           },
           "zerolinecolor": "white",
           "zerolinewidth": 2
          },
          "yaxis": {
           "automargin": true,
           "gridcolor": "white",
           "linecolor": "white",
           "ticks": "",
           "title": {
            "standoff": 15
           },
           "zerolinecolor": "white",
           "zerolinewidth": 2
          }
         }
        },
        "xaxis": {
         "anchor": "y",
         "domain": [
          0,
          1
         ],
         "title": {
          "text": "Titel"
         }
        },
        "yaxis": {
         "anchor": "x",
         "domain": [
          0,
          1
         ],
         "title": {
          "text": "all_words_count"
         }
        }
       }
      },
      "text/html": [
       "<div>                            <div id=\"3798f811-2e93-4a48-97ec-6afd98d950bf\" class=\"plotly-graph-div\" style=\"height:525px; width:100%;\"></div>            <script type=\"text/javascript\">                require([\"plotly\"], function(Plotly) {                    window.PLOTLYENV=window.PLOTLYENV || {};                                    if (document.getElementById(\"3798f811-2e93-4a48-97ec-6afd98d950bf\")) {                    Plotly.newPlot(                        \"3798f811-2e93-4a48-97ec-6afd98d950bf\",                        [{\"alignmentgroup\":\"True\",\"hovertemplate\":\"Titel=%{x}<br>all_words_count=%{y}<extra></extra>\",\"legendgroup\":\"\",\"marker\":{\"color\":\"darkred\",\"pattern\":{\"shape\":\"\"}},\"name\":\"\",\"offsetgroup\":\"\",\"orientation\":\"v\",\"showlegend\":false,\"textposition\":\"auto\",\"x\":[\"Marie M\\u00fcller\",\"Erna\",\"Die Hosen des Herrn von Bredow\",\"Ruhe ist die erste B\\u00fcrgerpflicht\",\"Schwester Monika\",\"Der Sternsteinhof\",\"Goethes Briefwechsel mit einem Kinde\",\"Die G\\u00fcnderode\",\"Clemens Brentanos Fr\\u00fchlingskranz\",\"Armut, Reichtum, Schuld und Bu\\u00dfe der Gr\\u00e4fin Dolores\",\"Isabella von \\u00c4gypten\",\"Die Kronenw\\u00e4chter. Erster Band.\",\"Die Kronenw\\u00e4chter. Zweiter Band.\",\"Aus dem Leben einer Frau\",\"Lydia\",\"Revolution und Contrerevolution\",\"Ivo der Hajrle\",\"Der Lautenbacher\",\"Die Frau Professorin\",\"Lucifer\",\"Brosi und Moni\",\"Die Geschichte des Diethelm von Buchenberg\",\"Der Lehnhold\",\"Barf\\u00fc\\u00dfele\",\"Die gute Schule\",\"Flammetti\",\"Evremont\",\"Stilpe. Ein Roman aus der Froschperspektive\",\"Gr\\u00f6\\u00dfenwahn\",\"Fanny F\\u00f6rster\",\"Vor der Ehe\",\"Lebenssucher\",\"Godwi oder Das steinerne Bild der Mutter\",\"Mittheilungen aus den geheimen Memoiren einer deutschen S\\u00e4ngerin\",\"Robinson, der J\\u00fcngere 1\",\"Robinson, der J\\u00fcngere 2\",\"Mathias Bichler\",\"Die Rumplhanni\",\"Madam B\\u00e4urin\",\"Jungfer Mutter\",\"Liebe und Irrthum \",\"Was die Isar rauscht\",\"Adam Mensch\",\"Kampf um Rom\",\"Wie Frauen werden\",\"Sibilla Dalmar\",\"Schicksale einer Seele\",\"Christa Ruland\",\"Gro\\u00dfstadt\",\"Bozena\",\"Lotti, die Uhrmacherin\",\"Das Gemeindekind\",\"Ein kleiner Roman\",\"Uns\\u00fchnbar\",\"Agave\",\"Amalie. Eine wahre Geschichte in Briefen\",\"Ninas Briefe an ihren Geliebten\",\"Ahnung und Gegenwart\",\"Dichter und ihre Gesellen\",\"Herr Lorenz Stark\",\"Der Taifun\",\"Reich und arm\",\"Vierzehn Tage in Paris\",\"Gustavs Verirrungen\",\"Die Honigmonathe\",\"Der G\\u00fcnstling\",\"Margarethe\",\"Hannchens Hin- und Herz\\u00fcge\",\"Seefahrt ist not!\",\"Vor dem Sturm\",\"Grete Minde\",\"L Adultera\",\"Ellernklipp\",\"Schach von Wuthenow\",\"Graf Pet\\u00f6fy\",\"Unterm Birnbaum\",\"C\\u00e9cile\",\"Irrungen, Wirrungen\",\"Stine\",\"Quitt\",\"Unwiederbringlich\",\"Frau Jenny Treibel\",\"Effi Briest\",\"Die Poggenpuhls\",\"Der Stechlin\",\"Mathilde M\\u00f6hring\",\"Rodrich\",\"Die Frau des Falkensteins\",\"Magie der Natur\",\"Der Spanier und der Freiwillige in Paris\",\"Resignation\",\"Judith die Kluswirtin\",\"Die Geschichte meines Urgro\\u00dfvaters\",\"Die letzte Reckenburgerin\",\"Stufenjahre eines Gl\\u00fccklichen\",\"Der Katzenjunker\",\"Leib Weihnachtskuchen und sein Kind\",\"Der Pojaz\",\"Wir Frauen haben kein Vaterland\",\"Arbeit\",\"Soll und Haben\",\"Die verlorene Handschrift\",\"Virginia oder Die Kolonie von Kentucky\",\"Schlo\\u00df Hubertus\",\"Der Ochsenkrieg\",\"Die Regulatoren in Arkansas. Aus dem Waldleben Amerikas\",\"Die Flu\\u00dfpiraten des Mississippi. Aus dem Waldleben Amerikas.\",\"Die Leiden des jungen Werther\",\"Wilhelm Meisters Lehrjahre\",\"Die Wahlverwandtschaften\",\"Wilhelm Meisters Wanderjahre\",\"Wie Uli der Knecht gl\\u00fccklich wird\",\"Geld und Geist\",\"Uli der P\\u00e4chter\",\"Wally, die Zweiflerin\",\"Europ\\u00e4isches Sklavenleben\",\"Gr\\u00e4fin Faustine\",\"Sibylle\",\"Maria Regina\",\"Usong\",\"Mitteilungen aus den Memoiren des Satan\",\"Lichtenstein\",\"Die Bettlerin vom Pont des Arts\",\"Einhart der L\\u00e4chler\",\"Ardinghello und die gl\\u00fcckseligen Inseln\",\"Faust und Don Juan\",\"Briefe, die ihn nicht erreichten\",\"Tschun\",\"Kreuz- und Querz\\u00fcge des Ritters A bis Z\",\"Lebensl\\u00e4ufe nach aufsteigender Linie\",\"Die Elixiere des Teufels\",\"Lebensansichten des Katers Murr\",\"Fragment von Hyperion\",\"Hyperions Jugend\",\"Hyperion oder der Eremit in Griechenland\",\"Die Familie Seldorf\",\"Luise\",\"Klosterberuf\",\"Ellen Percy\",\"Die Epigonen\",\"M\\u00fcnchhausen\",\"Woldemar\",\"Aus Eduard Allwills Papieren\",\"Niels Lyhne\",\"Ninive\",\"Die Amazonenschlacht\",\"Einer Mutter Sieg\",\"Die unsichtbare Loge\",\"Hesperus oder 45 Hundsposttage\",\"Leben des Quintus Fixlein\",\"Blumen-, Frucht- und Dornenst\\u00fccke\",\"Titan\",\"Des Luftschiffers Giannozzo Seebuch\",\"Flegeljahre\",\"Des Feldpredigers Schmelzle Reise nach Fl\\u00e4tz\",\"Dr. Katzenbergers Badereise\",\"Der gr\\u00fcne Heinrich1 [Erste Fassung]\",\"Der gr\\u00fcne Heinrich2 [Zweite Fassung]\",\"Martin Salander\",\"Beate und Mareile\",\"Dumala\",\"Wellen\",\"Abendliche H\\u00e4user\",\"Bracke\",\"Die Nachtwachen des Bonaventura\",\"Fausts Leben, Taten und H\\u00f6llenfahrt\",\"Geschichte eines Teutschen der neusten Zeit\",\"Benjamin Noldmanns Geschichte der Aufkl\\u00e4rung in Abyssinien\",\"Josephs von Wurmbrands ... politisches Glaubensbekenntnis\",\"Die Reise nach Braunschweig\",\"Meister Timpe\",\"Der Amerika-M\\u00fcde\",\"Der Sonnenwirt\",\"Geschichte des Fr\\u00e4uleins von Sternheim\",\"Rosaliens Briefe an ihre Freundin Mariane von St**\",\"Erscheinungen am See Oneida\",\"Das junge Europa\",\"Clementine\",\"Jenny\",\"Eine Lebensfrage\",\"Diogena\",\"Von Geschlecht zu Geschlecht\",\"Maria\",\"Leben und L\\u00fcge\",\"Zwischen Himmel und Erde\",\"Die Heiteretei und ihr Widerspiel\",\"Goldelse\",\"Das Geheimnis der alten Mamsell\",\"Das Heideprinze\\u00dfchen\",\"Amtmanns Magd\",\"Die Frau mit den Karfunkelsteinen\",\"Durchs wilde Kurdistan\",\"Old Surehand I\",\"Old Surehand II\",\"Im Lande des Mahdi I\",\"Im Lande des Mahdi II\",\"Im Lande des Mahdi III\",\"Satan und Ischariot I\",\"Auf fremden Pfaden\",\"Satan und Ischariot II\",\"Satan und Ischariot III\",\"Im Reiche des silbernen L\\u00f6wen I\",\"Im Reiche des silbernen L\\u00f6wen II\",\"Old Surehand III\",\"Am Jenseits\",\"Im Reiche des silbernen L\\u00f6wen III\",\"Im Reiche des silbernen L\\u00f6wen IV\",\"Und Friede auf Erden!\",\"Ardistan und Dschinnistan II\",\"Winnetou IV\",\"Die Bernsteinhexe\",\"Die Intellektuellen\",\"Das Bl\\u00fcthenalter der Empfindung\",\"Amanda und Eduard\",\"J\\u00fcrg Jenatsch\",\"Der Heilige\",\"Die Versuchung des Pescara\",\"Angela Borgia\",\"Der Golem\",\"Unerf\\u00fcllt\",\"Himmlische und irdische Liebe\",\"Siegwart. Eine Klostergeschichte\",\"Die Mandanenwaise\",\"Maler Nolten\",\"Anton Reiser\",\"Andreas Hartknopf. Eine Allegorie\",\"Andreas Hartknopfs Predigerjahre\",\"Siegfried von Lindenberg\",\"Tropen. Der Mythos der Reise. Urkunden eines deutschen Ingenieurs\",\"Madonna. Unterhaltungen mit einer Heiligen\",\"Die Amtmannin von Hohenweiler\",\"Herrmann von Unna\",\"Alf von D\\u00fclmen\",\"Das Leben und die Meinungen des Herrn Magister Sebaldus Nothanker\",\"Heinrich von Ofterdingen\",\"Die Lehrlinge zu Sais\",\"Schlo\\u00df und Fabrik\",\"N\\u00fcrnberg. Erster Band\",\"N\\u00fcrnberg. Zweiter Band\",\"N\\u00fcrnberg. Dritter Band\",\"Godwie-Castle\",\"Ste. Roche\",\"Lienhard und Gertrud 1\",\"Lienhard und Gertrud 2\",\"Lienhard und Gertrud 3\",\"Lienhard und Gertrud 4\",\"Agathocles\",\"Der B\\u00fcttnerbauer\",\"Die Chronik der Sperlingsgasse\",\"Der Hungerpastor\",\"Die Leute aus dem Walde, ihre Sterne, Wege und Schicksale\",\"Abu Telfan oder Die Heimkehr vom Mondgebirge\",\"Der Sch\\u00fcdderump\",\"Alte Nester\",\"Im alten Eisen\",\"Das Odfeld\",\"Stopfkuchen. Eine See- und Mordgeschichte\",\"Die Akten des Vogelsangs\",\"Hastenbeck\",\"Ellen Olestjerne\",\"Von Paul zu Pedro\",\"Herrn Dames Aufzeichnungen\",\"Der Geldkomplex\",\"Die Aufzeichnungen des Malte Laurids Brigge\",\"Die Schriften des Waldschulmeisters\",\"Der Pedlar\",\"Das Verm\\u00e4chtnis des Pedlars\",\"Paralyse\",\"Tarub, Bagdads ber\\u00fchmte K\\u00f6chin\",\"Liw\\u00fbna und Kaid\\u00f4h. Ein Seelenroman\",\"Immer mutig!\",\"Lesab\\u00e9ndio. Ein Asteroiden-Roman\",\"Ekkehard\",\"Der Geisterseher\",\"Die Denkw\\u00fcrdigkeiten des Herrn v. H.\",\"Florentin\",\"Lucinde\",\"Frau Berta Garlan\",\"Der Weg ins Freie\",\"Doktor Gr\\u00e4sler, Badearzt\",\"Casanovas Heimfahrt\",\"Anna\",\"Gabriele\",\"Die Tante\",\"Richard Wood\",\"Aus den Memoiren einer S\\u00e4ngerin\",\"Problematische Naturen. Erste Abtheilung\",\"Problematische Naturen. Zweite Abtheilung (Durch Nacht zum Licht)\",\"Hammer und Ambo\\u00df\",\"Zum Zeitvertreib\",\"Faustulus\",\"Der Jude\",\"Conrad\",\"Imago\",\"Die M\\u00e4dchenfeinde\",\"Heidis Lehr- und Wanderjahre\",\"Heidi kann brauchen, was es gelernt hat\",\"Die Mappe meines Urgro\\u00dfvaters\",\"Feldblumen\",\"Die Narrenburg\",\"Der Hagestolz\",\"Zwei Schwestern\",\"Der Nachsommer\",\"Witiko\",\"Der Schimmelreiter\",\"Frau Sorge\",\"Jons und Erdme\",\"Die Waffen nieder!\",\"Marthas Kinder\",\"Andreas V\\u00f6st\",\"Der Wittiber\",\"Geschichte des Herrn William Lovell\",\"Franz Sternbalds Wanderungen\",\"Der junge Tischlermeister\",\"Vittoria Accorombona\",\"Julchen Gr\\u00fcnthal\",\"Albert und Albertine\",\"Bekenntnisse einer sch\\u00f6nen Seele\",\"Die Zerissenen\",\"Auch Einer 1\",\"Auch Einer 2\",\"Ini\",\"Rinaldo Rinaldini, der R\\u00e4uberhauptmann\",\"Die Briten in Rom\",\"Die Juden von Zirndorf\",\"Caspar Hauser\",\"Das G\\u00e4nsem\\u00e4nnchen\",\"Christian Wahnschaffe\",\"Fragment eines Romans\",\"Schnapphahnski\",\"Belphegor\",\"Hermann und Ulrike\",\"Kakerlak oder die Geschichte eines Rosenkreuzers\",\"Die Abenteuer des Don Sylvio von Rosalva\",\"Geschichte des Agathon\",\"Der goldene Spiegel\",\"Geschichte der Abderiten\",\"Peregrinus Proteus\",\"Aristipp und einige seiner Zeitgenossen\",\"Die Abendburg\",\"Glasberg\",\"Die Europam\\u00fcden\",\"Weisse Sclaven oder die Leiden des Volkes\",\"Elisa\",\"Agnes von Lilien\",\"Robert der Schiffsjunge\",\"Das Goldmacherdorf\",\"Das Schlo\\u00df im Moor\",\"Haus Nummer 37\",\"Anatewka\",\"Cabanis\",\"Isegrimm\",\"Der Roland von Berlin \\u2013 Erster Band\",\"Der Roland von Berlin \\u2013 Zweiter Band\",\"Der Roland von Berlin \\u2013 Dritter Band\",\"Walladmor\",\"Der Werwolf\",\"Der Werwolf\",\"Der falsche Woldemar\",\"Hollin's Liebeleben\",\"Der Schuhmeier\",\"Auf der H\\u00f6he Band I\",\"Auf der H\\u00f6he Zweiter Band\",\"Auf der H\\u00f6he Dritter Band\",\"Auf der H\\u00f6he Vierter Band\",\"Das Landhaus am Rhein / Band I\",\"Das Landhaus am Rhein / Band II\",\"Das Landhaus am Rhein / Band III\",\"Das Landhaus am Rhein / Band IV\",\"Das Landhaus am Rhein / Band V\",\"Landolin von Reutersh\\u00f6fen\",\"Aus dem Leben und den Schriften des Magisters Herle, und seines Freundes M\\u00e4nle\",\"Die Hexe Drut\",\"Himmelfahrt\",\"O Mensch!\",\"Die Rahl\",\"Theater\",\"Der gestohlene Mond\",\"Graf Udo Bodo\",\"Der Dunkelgraf\",\"Die Nonnensusel\",\"Die Heimkehr\",\"Die Br\\u00e4utigame der Babette Bomberling\",\"Frau Hempels Tochter\",\"Die Reise des Herrn Sebastian Wenzel\",\"Hemmungslos\",\"Pankrazius Graunzer\",\"Prinz Kuckuck\",\"Das Sch\\u00f6ne M\\u00e4dchen von Pao\",\"Die Schlangendame\",\"Studenten-Beichten\",\"Die Leuenhofer\",\"Die Turnachkinder im Sommer\",\"Die Turnachkinder im Winter\",\"Moderne Novellen\",\"Bismarck \\u2013 Band 1\",\"Dilettanten des Lasters\",\"Nachtwachen\",\"Annas Ehe\",\"Empor!\",\"Ein k\\u00f6niglicher Kaufmann\",\"Die Opferschale\",\"Um ein Weib\",\"Friedemann Bach\",\"Die Tochter des Kunstreiters\",\"Geschichten aus der Jugendzeit\",\"Die Liebesbriefe der Marquise\",\"Ein M\\u00f6nchsleben aus der empfindsamen Zeit\",\"Ein M\\u00f6nchsleben aus der empfindsamen Zeit - Band 2\",\"Ratsm\\u00e4delgeschichten\",\"Tagebuch einer Verlorenen\",\"Ein Stadtjunker in Braunschweig\",\"Erinnerungen einer \\u00dcberfl\\u00fcssigen\",\"Mit den Augen des Westens\",\"Der Geheimagent\",\"Lord Jim\",\"Majest\\u00e4t\",\"Walhall\",\"Attila\",\"Die Bataver\",\"Bissula\",\"Vom Chiemgau\",\"Chlodovech\",\"Ebroin\",\"Felicitas\",\"Fredigundis\",\"Gelimer\",\"Die schlimmen Nonnen von Poitiers\",\"Sind G\\u00f6tter?\",\"Felix Dahn\",\"Der Vater und die S\\u00f6hne\",\"Geschichten aus den vier Winden\",\"Der Geist meines Vaters\",\"Josa Gerth\",\"Raubmenschen\",\"Der \\u00dcbergang\",\"Brausejahre\",\"Zwei Menschen\",\"Die Amazone\",\"Die neuen Argonauten\",\"Die erschreckliche Flut von 1634 und der Untergang von Alt-Nordstrand\",\"Der Muttersohn \\u2013 Band I\",\"Der Muttersohn \\u2013 Band II\",\"Marquise von Pompadour\",\"Eine \\u00e4gyptische K\\u00f6nigstochter Bd. I\",\"Per aspera\",\"Ein Wort\",\"Die Frau B\\u00fcrgemeisterin\",\"Die Gred\",\"Homo sum\",\"Der Kaiser\",\"Die Geschichte meines Lebens\",\"Die Nilbraut\",\"Im Schmiedefeuer\",\"Die Schwestern\",\"Die Schwestern\",\"Serapis\",\"Uarda\",\"Die arme Kleine\",\"Nero\",\"Der kleine Johannes\",\"Streifz\\u00fcge durch Celebes\",\"Hann Kl\\u00fcth\",\"Die Last\",\"Claus St\\u00f6rtebecker\",\"Lieber Fritz\",\"Geschichte eines Anno 1813 Konskribierten\",\"Satiren, Fabeln, Epigramme, Aphorismen\",\"Asmus Sempers Jugendland\",\"Semper der J\\u00fcngling\",\"Semper der Mann\",\"Saat auf Hoffnung\",\"Freiheit die ich meine\",\"Die Leute vom Blauen Guguckshaus\",\"Auf der Wegwacht\",\"Die Erlk\\u00f6nigin\",\"Fr\\u00fchlingsst\\u00fcrme\",\"G\\u00e4nseliesel\",\"Jung gefreit - 1\",\"Jung gefreit - 2\",\"Hofluft\",\"Hofluft\",\"Die B\\u00e4ren von Hohen-Esp\",\"Der Stern des Gl\\u00fccks\",\"Der verlorene Sohn\",\"Der Kampf um die Cheopspyramide\",\"Hinter Pflug und Schraubstock\",\"Der Schneider von Ulm\",\"Aus dem Durchschnitt\",\"Der Mann im Nebel\",\"Die Kinder aus Ohlsens Gang\",\"Jungfer Therese\",\"Maren\",\"Selim und Zora\\u00efde\",\"Wolf Eschenlohr\",\"Die wunderbaren Begebenheiten des Grafen Alethes von Lindenstein\",\"Alwin\",\"Der Zauberring\",\"Das Kind der S\\u00fchne\",\"Der Stumme mit dem b\\u00f6sen Blick\",\"Judith Trachtenberg\",\"Ingo und Ingraban\",\"Marcus K\\u00f6nig\",\"Meister Robinson\",\"Der Dorfapostel\",\"Edelwei\\u00dfk\\u00f6nig\",\"Fliegender Sommer\",\"Das Gotteslehen\",\"Der hohe Schein\",\"Der J\\u00e4ger von Fall\",\"Der laufende Berg\",\"Ludwig Ganghofer\",\"Die Martinsklause\",\"Das Schweigen im Walde\",\"Die Trutze von Trutzberg\",\"Waldrausch\",\"Venetianische Novellen\",\"Aus den Memoiren einer Berliner Range\",\"Unter dem \\u00c4quator\",\"Se\\u00f1or Aguila\",\"Nach Amerika! Erster Band\",\"Nach Amerika! Zweiter Band\",\"Die Blauen und Gelben\",\"General Franco\",\"Germelshausen\",\"Gold\",\"Im Busch\",\"Der Kunstreiter\",\"Unter den Pehuenchen\",\"Str\\u00e4flinge\",\"Tahiti\",\"J\\u00fcrnjakob Swehn der Amerikafahrer\",\"Lemkes sel. Wwe.\",\"Meister Jakob und seine Kinder\",\"Hohenschwangau\",\"Die Heilige und ihr Narr\",\"Die Heilige und ihr Narr\",\"Der Augenblick des Gl\\u00fccks \\u2013 Aus den Memoiren eines f\\u00fcrstlichen Hofes\",\"Der letzte Bombardier\",\"Das Geheimni\\u00df der Stadt\",\"Handel und Wandel\",\"Namenlose Geschichten - Erster Band\",\"Namenlose Geschichten - Zweiter Band\",\"Eugen Stillfried - Erster Band\",\"Peregrin\",\"Aspasia\",\"Schlumski\",\"Das Haus der Titanen\",\"Der Krieg um den Wald / 1\",\"Der Mann im Mond\",\"Elfriede\",\"Jetta\",\"Im Reiche der Homunkuliden\",\"Dr. Thorns Lebensabend\",\"Felix Notvest\",\"Der lange Balthasar\",\"Der K\\u00f6nig der Bernina\",\"An heiligen Wassern\",\"Laubgewind\",\"Die Molkenkur\",\"Apotheker Heinrich\",\"Grevinde\",\"Tods\\u00fcnden\",\"Menschen untereinander\",\"Eine vornehme Frau\",\"Karl der Zw\\u00f6lfte und seine Krieger\",\"Aus dem Leben meiner alten Freundin\",\"Trudchens Heirat\",\"Die verborgene Schrift\",\"Die Versuchung\",\"Ille mihi \\u2013 Erster Band\",\"Ille mihi \\u2013 Zweiter Band\",\"Liebe, Diplomatie und Holzh\\u00e4user\",\"Gegen den Strom\",\"Marienkind\",\"Crone St\\u00e4udlin\",\"Die Hassenburg\",\"Die Geier-Wally\",\"Schwarzwaldau\",\"Vor Jahr und Tag\",\"Ein Kind unserer Zeit\",\"Enzio::Enzio\",\"Mao\",\"Pitt und Fox::Pitt und Fox\",\"Der Oberhof\",\"Frau Marie Grubbe\",\"Sechs Novellen\",\"Die Pfeifer vom Dusenbach\",\"Vor der Elbm\\u00fcndung\",\"Nach Sonnenuntergang \\u2013 Erstes Buch\",\"Nach Sonnenuntergang \\u2013 Zweites Buch\",\"Aus See und Sand \\u2013 Erster Band\",\"Aus See und Sand \\u2013 Zweiter Band\",\"Der Tag von Stralsund\",\"Auf dem Vestenstein\",\"Kristiania Boh\\u00eame\",\"Schwarze Diamanten\",\"O Domina mea\",\"Hubertus\",\"Das letzte M\\u00e4rchen\",\"Der Sohn der Hagar\",\"Waldwinter\",\"Bunte Herzen - Zwei Novellen::Bunte Herzen\",\"Fr\\u00e4ulein Rosa Herz\",\"Die dritte Stiege\",\"Schnee\",\"Naulahka, das Staatsgl\\u00fcck\",\"Der Kavalier auf den Knien und andere Liebesgeschichten...\",\"Mohammed\",\"Moreau\",\"Das R\\u00e4tsel von Gr\\u00fcnweide\",\"Der Faust der Morgenl\\u00e4nder\",\"Geschichte Giafars des Barmeciden - Band 1\",\"Geschichte Giafars des Barmeciden - Band 2\",\"Reisen vor der S\\u00fcndfluth\",\"Der Traum des Herrn Brick\",\"Geschichte Peter Clausens\",\"Die Verirrungen des Philosophen oder Geschichte Ludwigs von Seelberg\",\"Friedel Polten und ihre Rangen\",\"Der j\\u00fcdische Gil Blas\",\"Am Pflug\",\"Die Vestalinnen, Band 1\",\"Die Vestalinnen, Band 2\",\"Die Vestalinnen, Band 3\",\"Schillers Heimatjahre\",\"Tropenarzt im Afrikanischen Busch\",\"Quinctius Heymeran von Flaming\",\"Ha\\u00df\",\"Wolfs Geschichten um ein B\\u00fcrgerhaus -- Erstes Buch: Im Schatten Napoleons\",\"Wolfs Geschichten um ein B\\u00fcrgerhaus \\u2013 Zweites Buch: Vor Bismarcks Aufgang\",\"Frau Aleit\",\"Anne-Susanne\",\"Die Brinkschulte\",\"K\\u00e4rrekiek\",\"Marie Verwahnen\",\"Pittje Pittjewitt\",\"Sankt Anne\",\"Schnee\",\"Die Tanzmamsell\",\"Aspira\",\"Auf zwei Planeten\",\"Sternentau\",\"Der Pfeiferk\\u00f6nig\",\"Oberlin\",\"Der Gast\",\"Liebesheiraten\",\"Daphnis und Chloe\",\"Das zweite Gesicht\",\"Der letzte Hansbur\",\"Dahinten in der Heide\",\"Kraut und Lot\",\"Der zweckm\\u00e4\\u00dfige Meyer\",\"Fritz Beutel\",\"Die zweite Frau\",\"Das Eulenhaus\",\"Reichsgr\\u00e4fin Gisela\",\"Im Schillingshof\",\"Der neue Ahasver\",\"Hypatia\",\"Der letzte Tod des Gautama Buddha\",\"Der Mir von Dschinnistan\",\"Der Scout\",\"Im Todesthale\",\"Scepter und Hammer\",\"Lopez Jordan::Lopez Jordan\",\"Der Schatz der Inkas::Lopez Jordan\",\"Der Schatz im Silbersee::Der Schatz im Silbersee\",\"Die Liebe des Ulanen 1\",\"Die Liebe des Ulanen\",\"Die Liebe des Ulanen\",\"Die Liebe des Ulanen\",\"Die Liebe des Ulanen\",\"Zwei Kaiserkronen\",\"Die R\\u00f6merfahrt der Epigonen\",\"Europ\\u00e4ische Minen und Gegenminen\",\"Der Todesgru\\u00df der Legionen\",\"Palle\",\"Die Saxoborussen\",\"Das Blinkfeuer von Br\\u00fcsterort\",\"F\\u00e9licie\",\"Modeste\",\"Der Ueberkater\",\"Der Ueberkater\",\"Die Bernsteinhexe Maria Schweidler::Die Bernsteinhexe Maria Schweidler\",\"Richard Feverel\",\"Heidenstamm\",\"Das gr\\u00fcne Gesicht\",\"Walpurgisnacht\",\"Die Familie Melville\",\"Das Mormonenm\\u00e4dchen. Band I\",\"Das Mormonenm\\u00e4dchen. Band II\",\"Der Piratenlieutenant - Teil 1\",\"Der Piratenlieutenant \\u2013 Teil 2\",\"Der Schatz von Quivira\",\"Der Vaquero\",\"Afraja K\\u00f6nig von Lappland\",\"Afraja\",\"Erich Randal\",\"Frau Doktor Breuer\",\"Der gro\\u00dfe Schwabenzug\",\"Der Herr der Welt\",\"Elisabeth. I. Band\",\"Elisabeth \\u2013 Zweiter Band\",\"Das Tagebuch der Ottony von Kelchberg\",\"Kajus Rungholt\",\"Aus gro\\u00dfen H\\u00f6hen\",\"Denise de Montmidi\",\"Margret und Ossana\",\"Maria da Caza\",\"Der Rebell\",\"Thomas Thyrnau \\u2013 Erster Theil\",\"Thomas Thyrnau \\u2013 Zweiter Theil\",\"Thomas Thyrnau \\u2013 Dritter Theil\",\"Bob der Fallensteller\",\"Andrew Brown \\u2013 Der rote Spion\",\"Das verlorene Paradies\",\"Liebe ist ewig\",\"Der Pfarrer von Breitendorf Erster Band\",\"Der Pfarrer von Breitendorf Zweiter Band\",\"Wurzellocker - Erster Band\",\"Wurzellocker Zweiter Band\",\"Siebenquellen\",\"Der babylonische Turm\",\"Der Rubin der Herzogin\",\"Yoshiwara - Vom Freudenhaus des Lebens\",\"1812 \\u2013 Ein historischer Roman\",\"Die Abenteurer\",\"Garibaldi\",\"Magenta und Solferino - Band 1\",\"Magenta und Solferino - Band 2\",\"Magenta und Solferino - Band 3\",\"Nena Sahib\",\"Sebastopol - Erster Band\",\"Sewastopol - Zweiter Band\",\"Abenteuer in Sibirien\",\"Solferino\",\"Die Abenteurer der Sonora\",\"D\\u00f6rchl\\u00e4uchting\",\"Ut de Franzosentid\",\"Der Trotzkopf\",\"Ein ganzer Mann\",\"Rosalie und Cleberg auf dem Lande / 1\",\"Das tote Br\\u00fcgge\",\"Heideschulmeister Uwe Karsten\",\"Kerlchens Lern- und Wanderjahre\",\"Kerlchen als Anstandsdame\",\"Provinzm\\u00e4del\",\"Kerlchen als Sorgen- und Sektbrecher\",\"Heidepeters Gabriel\",\"Jakob der Letzte\",\"Peter Mayr der Wirt an der Mahr\",\"Das Erwachen\",\"Ein verbummelter Student\",\"Kontraste und Paradoxen\",\"Die Familie Pf\\u00e4ffling\",\"Fritz Reinhardt\",\"Der Tod der Barmekiden\",\"Das graue Tuch und zehn Prozent Wei\\u00df\",\"Der Kaiser von Utopia\",\"Die gro\\u00dfe Revolution. Ein Mondroman\",\"M\\u00fcnchhausen und Clarissa\",\"Na prost!\",\"Rakk\\u00f3x der Billion\\u00e4r\",\"Michel\",\"Die Pilger der Wildnis\",\"Benkal, der Frauentr\\u00f6ster\",\"Meine Freundin Lo\",\"Irrwege der Liebe\",\"Lassalle\",\"Das Lied der Parzen\",\"B\\u00fcrgerliche Boh\\u00e8me\",\"K\\u00fcnstlerblut\",\"Der deutsche Herzog\",\"Der getreue Kleist\",\"Der b\\u00f6se Baron von Krosigk\",\"Michael Meyenburg\",\"Die letzten Rudelsburger\",\"Um die Wartburg\",\"Wildef\\u00fcer\",\"Gr\\u00e4fin Erikas Lehr- und Wanderjahre\",\"Im gewohnten Geleis\",\"Mar\\u0161ka\",\"Maximum\",\"Der Rosenkavalier\",\"Rodanseck\",\"Eine dunkle Tat\",\"Luther in Rom\",\"Die Marketenderin von K\\u00f6ln\",\"Das blutige Blockhaus\",\"Das Kaj\\u00fctenbuch oder Nationale Charakteristiken\",\"Der Legitime und die Republikaner\",\"Nathan der Squatter\",\"Tokeah\",\"Der Virey und die Aristokraten\",\"Reinhard Flemmings Abenteuer zu Wasser und zu Lande\",\"Fischke der Krumme\",\"Der Wagehals\",\"Schweigen im Walde\",\"Sturmzeichen\",\"Seemanns-Sagen und Schiffer-M\\u00e4rchen\",\"Die H\\u00f6hlenkinder \\u2013 Im Heimlichen Grund\",\"Die H\\u00f6hlenkinder \\u2013 Im Pfahlbau\",\"Die H\\u00f6hlenkinder \\u2013 Im Steinhaus\",\"Heidehof Lohe\",\"Frei geboren\",\"Noblesse oblige\",\"Opfer\",\"Platt Land\",\"Quisisana\",\"Sturmflut\",\"Susi\",\"Uhlenhans\",\"Der Vogelh\\u00e4ndler von Imst\",\"Der Jesuit\",\"Im Rhonetal\",\"Was soll denn aus ihr werden?\",\"Schloss Wildenstein\",\"Drei N\\u00e4chte\",\"Der begrabene Gott\",\"Der Heiligenhof\",\"Irmela\",\"Wilhelmine Buchholz' Memoiren\",\"Emma das geheimni\\u00dfvolle Hausm\\u00e4dchen\",\"Die Familie Buchholz. Aus dem Leben der Hauptstadt\",\"Buchholzens in Italien\",\"Frau Buchholz im Orient\",\"Morgenrot\",\"Sonjas letzter Name\",\"Schlo\\u00df Vogel\\u00f6d\",\"Der wei\\u00dfe Tod\",\"Arme Thea!\",\"Die armen Reichen\",\"Die kleine Elten\",\"Seine englische Frau\",\"Die ewige Burg\",\"Das freie Meer\",\"F\\u00fcr Dich\",\"Herzblut\",\"Hexenkessel\",\"Die t\\u00f6richte Jungfrau\",\"Montblanc\",\"Das Schiff ohne Steuer\",\"Unter den Linden\",\"Lieb Vaterland\",\"Saat und Ernte\",\"Die wei\\u00dfen G\\u00f6tter \\u2013 Zweiter Band\",\"Das Gel\\u00fcbde einer drei\\u00dfigj\\u00e4hrigen Frau\",\"Der Katzensteg\",\"Die Geheimnisse von Paris\",\"Eva Siebeck\",\"J\\u00e4 g\\u00e4ll, so geit's!\",\"Altaich\",\"Jozef Filsers Briefwexel\",\"Satiren\",\"Der Letzte vom \\u00bbAdmiral\\u00ab\",\"Der Gefangene der Aimar\\u00e0s\",\"Der Enkel der K\\u00f6nige\",\"Der Sohn des Gaucho\",\"Verwehte Spuren\",\"Rosa und Gertrud\",\"Die Reb\\u00e4chle\",\"Zwei Menschen\",\"Alpentrag\\u00f6die\",\"Die Auferstandenen \\u2013 Erster Band\",\"Die Auferstandenen \\u2013 Zweiter Band\",\"Brutus, auch Du!\",\"Michael Cibula\",\"Villa Falconieri\",\"Das Haus der Grimaldi\",\"R\\u00f6misches Fieber\",\"Rolla\",\"Im Schatten des Todes\",\"Das Schatzhaus des K\\u00f6nigs\",\"Alexander in Babylon\",\"Sabbatai Zewi \\u2013 Donna Johanna von Castilien \\u2013 Geronimo de Aguilar \\u2013 Sturreganz \\u2013 Der Aufruhr um den Junker Ernst\",\"Melusine\",\"Der Moloch\",\"Die Schwestern\",\"Franziska\",\"Die Galeere\",\"Ich \\u2013 der Augenzeuge\",\"Mensch gegen Mensch\",\"Tiere in Ketten\",\"Adlerflug\",\"Fata Morgana\",\"Gl\\u00fcck auf!\",\"Vineta\",\"Lebensgeschichte Tobias Knauts\",\"Der B\\u00fcrgermeister von Thorn\",\"Heinrich von Plauen\",\"Der Wilddieb\",\"Die leibhaftige Bosheit\",\"Die Karlsbader Reise der leibhaftigen Bosheit\",\"Der leibhaftigen Bosheit Opus III\",\"Die V\\u00e4ter haben Herlinge gegessen\",\"Aus jungen Tagen\",\"Agathod\\u00e4mon\",\"Geschichte des Weisen Danischmend und der drei Kalender\",\"Schwester-Seele\",\"Die alte Freundin\",\"Die Familie Ammer \\u2013 Erste Abtheilung. Der Herrnhuter.\",\"Die Familie Ammer \\u2013 Zweite Abtheilung. Moderne G\\u00f6tzendiener.\",\"Die Familie Ammer \\u2013 Dritte Abtheilung. Gepr\\u00fcfte Seelen.\",\"Reeder und Matrose\",\"Die vier T\\u00f6chter des Rittmeister Schimmelmann\",\"Fabiola oder Die Kirche der Katakomben\",\"Die G\\u00f6ttin die da harret\",\"Das kleine Gl\\u00fcck\",\"Du sollst ein Mann sein\",\"Der Raubgraf\",\"Das schwarze Weib\",\"Der S\\u00fclfmeister\",\"Das Wildfangrecht\",\"Das dritte Geschlecht\",\"Die Erbschleicherinnen, Band 1\",\"Die Erbschleicherinnen - Zweiter Band\",\"Die Kinder der Excellenz\",\"Der Kraft-Mayr\",\"Der Thronfolger - Erster Band\",\"Der Thronfolger \\u2013 Zweiter Band\",\"Der schweizerische Robinson\",\"Das Naturforscherschiff\",\"Onnen Visser - Der Schmugglersohn von Norderney\",\"Das Liebesleben eines deutschen J\\u00fcnglings\",\"Zwischen Mann und Frau\",\"Drei M\\u00e4dchen am Spinnrad\",\"Besser Herr als Knecht\",\"Die Million\",\"Die Rose von Disentis\",\"Der Fl\\u00fcchtling im Jura\",\"Das Abenteuer der Neujahrsnacht\",\"Der Maskenball in der Ca' Torcelli\",\"Die Ge\\u00e4chteten\",\"Der schwarze Koffer\",\"Familie Dungs\",\"Der Tod Georgs\",\"Frau Hempels Tochter\",\"Der Wilde Freiger\",\"Geheimnisvolle Kr\\u00e4fte\",\"In frischem Wasser\",\"Der gew\\u00fcrzige Hund\",\"Halbtier!\",\"Das Haus zur Flamm'\",\"Das Recht der Mutter\",\"Die Nann\",\"Winkelquartett\",\"Vom Mars zur Erde\",\"Flitter und Schein\",\"Don Adone\",\"Kleopatra\",\"Bebuquin\",\"Frieden I\",\"Frieden II\",\"Hazard. Erster Band\",\"Hazard. Zweiter Band\",\"Alraune\",\"Der Zauberlehrling oder die Teufelsj\\u00e4ger\",\"Berge und Menschen\",\"Ein Kampf ums Recht\",\"Die drei Getreuen\",\"Peter Moors Fahrt nach S\\u00fcdwest\",\"J\\u00f6rn Uhl\",\"Die Berliner Range. Lotte Bach's Hochzeitsreise. Band X.\",\"Die Berliner Range. Frau Lotte in Ru\\u00dfland. Band XI.\",\"Die Berliner Range. Lotte als Mutter! Band XII.\",\"Die Berliner Range - Neue Bekenntnisse. Band I.\",\"Die Berliner Range - Neue Bekenntnisse. Band II.\",\"Die Berliner Range - Neue Bekenntnisse. Band III.\",\"Die Berliner Range - Neue Bekenntnisse. Band IV.\",\"Die Berliner Range \\u2013 Lotte Bach als Braut. Band V.\",\"Die Berliner Range - Berlin, wie es i\\u00dft und trinkt. Band VI.\",\"Die Berliner Range VII - Prosit Brautpaar!\",\"Die Berliner Range VIII - Berlin wie es lebt und liebt\",\"Die Berliner Range. Hochzeitsvorbereitungen. Band IX.\",\"Heimisbach\",\"Masaniello\",\"Savonarola\",\"Schlitzwang\",\"Wulfhilde\",\"Zeitgeist und Berner Geist\",\"Im Banne des Schwarzen Adlers\",\"Parasiten\",\"Firnenrausch\",\"In Jena ein Student\",\"Der K\\u00f6nig von Thule\",\"Die vom Rauhen Grund\",\"Ursula Drenck\",\"Du mein Jena!\",\"In der Philister Land\",\"Im Wechsel der Zeit\",\"Unsere liebe Frau. Erster Band\",\"Unsere liebe Frau. Zweiter Band\",\"Heilige und Menschen\",\"T\\u00f6te sie!\",\"Der Genius\",\"Ravensbeck\",\"Die Partei\",\"Seraphine\",\"Abraham Abt\",\"Il Pantegan\",\"Jo\",\"Die Tat des Dietrich Stob\\u00e4us\",\"Drei Teilhaber\",\"Das Geheimnis der Sierra\",\"Die goldene Schlange\",\"Trotzige Herzen\",\"Doktor Herzfeld. Erster Teil. Die Nacht\",\"Doktor Herzfeld.Zweiter Teil. Schnee\",\"Henriette Jacoby\",\"Jettchen Gebert\",\"Kubinke\",\"Heinrich Sch\\u00f6n jun.\",\"Einen Sommer lang\",\"Das gro\\u00dfe Heimweh\",\"Die Wiskottens\",\"Am Kreuz\",\"Die Sonne von St. Moritz\",\"Der eiserne Rittmeister\",\"Moschele\",\"Arge Sitten\",\"Robert Leichtfu\\u00df\",\"Peregretta\",\"Ein Dieb in der Nacht\",\"Ein Einbrecher aus Passion\",\"Raffles als Richter\",\"Der Schatten des Stricks. Erster Band\",\"Der Schatten des Stricks. Zweiter Band\",\"Sch\\u00fcsse in der Nacht\",\"Das silberne Auto\",\"Peter Michel\",\"Wilhelm Brinkmeyers Abenteuer\",\"Unter einem Dach\",\"Die drei Freundinnen\",\"Gro\\u00dfm\\u00fctterchen\",\"Aus dem Leben einer Waise\",\"Maria und Lisa\",\"Die Nachbarn\",\"Im Rosenhaus\",\"Der Stern des Orsini\",\"Der rote Teufel\",\"Die Sebalds. Erster Band. Im alten Hause.\",\"Die Sebalds. Zweiter Band. Exodus\",\"Der Obstkahn am Elisabethufer\",\"Am Ende der Welt\",\"Wiener Kinder\",\"Michael Hely\",\"Ferien vom Ich\",\"Papas Junge\",\"Die Patentochter des alten Fritz\",\"Im Haus der Witwe\",\"Am toten See\",\"Die Jobsiade\",\"Tubal der Friedlose\",\"Mein Herz\",\"Mascotte\",\"Die neuen Linden\",\"Der Rettungsball\",\"El Dorado\",\"Wunderwelten\",\"Ilsedores Gl\\u00fcck\",\"Die Gefangenen der Apachen. Erster Band\",\"Die Gefangenen der Apachen. Zweiter Band\",\"Der blaurote Methusalem\",\"Das Monogramm\",\"Berlin und Sanssouci oder Friedrich der Gro\\u00dfe und seine Freunde. Erstes Buch\",\"Berlin und Sanssouci oder Friedrich der Gro\\u00dfe und seine Freunde. Zweites Buch\",\"Berlin und Sanssouci oder Friedrich der Gro\\u00dfe und seine Freunde. Drittes Buch\",\"Berlin und Sanssouci oder Friedrich der Gro\\u00dfe und seine Freunde. Viertes Buch\",\"Die Millionenbraut. Erster Band\",\"Die Millionenbraut. Zweiter Band\",\"Die Millionenbraut. Dritter Band\",\"Die Millionenbraut. Vierter Band\",\"Die rote Tinktur\",\"Jakob van der Nees. Erster Theil. Angela\",\"Jakob van der Nees. Zweiter Theil. Urica\",\"Jakob van der Nees. Dritter Theil. Floripes\",\"Die T\\u00e4nzerin Barberina\",\"Der kluge Pitter\",\"Der Grabenh\\u00e4ger\",\"Thekla L\\u00fcdekind. Erster Band\",\"Thekla L\\u00fcdekind. Zweiter Band\",\"Drude\",\"Die Erde bebt!\",\"Frau \\u00dcbersee\",\"Sebastopol. Erster Band\",\"Sebastopol. Zweiter Band\",\"Der Tiger\",\"Die Grandidiers\",\"Orion\",\"Der Stegreifritter\",\"Der sechste Sinn\",\"Gr\\u00e4fin Polly\",\"Kerlchens Muttergl\\u00fcck. Provinzm\\u00e4del Band IX\",\"Bertrade. Die Chronik des M\\u00f6nchs von Le Saremon\",\"Die Enkelin der Liselotte\",\"Der Kardinal\",\"Prinzessin Jungfrau\",\"Ein Namenloser\",\"Florian \\u2013 Das Pferd des Kaisers\",\"Werden und Wachsen\",\"Huberta Sollacher\",\"Subotins Erbe\",\"Theaterkinder\",\"Joli\",\"Die Tasse des K\\u00f6nigs\",\"Jan Blaufink oder See und Theater\",\"Burschen heraus!\",\"Hans Georg Portner\",\"Richiza\",\"Die Fahrt nach der alten Urkunde\",\"Angela\",\"Ein neuer Pharao\",\"Sturmflut. Erste Abteilung\",\"Sturmflut. Zweite Abteilung\",\"Was will das werden? Erster Theil\",\"Was will das werden? Zweiter Theil\",\"Wo Gritlis Kinder hingekommen sind\",\"Gritlis Kinder kommen weiter\",\"Europa\",\"Der St\\u00e4rn vo Buebeb\\u00e4rg\",\"Der Advokatenbauer\",\"Tutu\",\"Vierzehn Jahr' und sieben Wochen\",\"Baumeisters Rangen\",\"Dornr\\u00f6schen\",\"Fl\\u00fcchtlingskinder\",\"Goldblondchen\",\"Das graue Haus\",\"Nesth\\u00e4kchens Backfischzeit\",\"Nesth\\u00e4kchen im Kinderheim\",\"Nesth\\u00e4kchen und der Weltkrieg\",\"Nesth\\u00e4kchen und ihre Puppen\",\"Nesth\\u00e4kchens erstes Schuljahr\",\"Kommerzienrats Olly\",\"Studierte M\\u00e4del von heute\",\"Die Pfahlburg\",\"Komtesse Helene\",\"Mi\\u00df Lydia\",\"Was die Stra\\u00dfe verschlingt. Erster Band\",\"Was die Stra\\u00dfe verschlingt. Zweiter Band\",\"Was die Stra\\u00dfe verschlingt. Dritter Band\",\"Gisli der Waldg\\u00e4nger aus Islands Heldenzeit\",\"Der Teppich des Grauens\",\"Der Todfeind\",\"Die tolle Komte\\u00df\",\"Durch graue Gassen\",\"Auf hoher Warte\"],\"xaxis\":\"x\",\"y\":[42720,55886,110429,309965,30762,83961,174582,147145,91833,164919,40155,99938,85502,23511,50225,66708,51053,25744,44072,47787,39845,65279,56248,62911,53603,45852,223456,59192,242977,69867,79405,115202,132345,93713,44844,54308,69342,51114,34740,39223,45910,127054,93943,211785,31430,80334,87609,63343,71647,62698,33548,63884,26368,57988,42219,118040,44039,97126,76115,44202,99367,112578,13477,19829,33548,16603,37967,26154,75497,223243,32666,44016,38711,41862,59484,32707,55415,51573,29682,80207,81260,59303,95396,31779,125070,32864,66375,66689,41957,34390,137835,45207,32170,92094,163874,42583,59209,139905,24163,75560,286598,256064,56975,161645,174909,146603,158064,39505,194211,79163,147362,133773,136250,149766,36183,360529,78046,111328,228497,56139,90187,126161,36651,87654,102002,78687,48118,62763,187646,320017,106933,134006,7024,12003,48032,92111,39293,46839,88631,195990,240220,28609,24719,67649,45271,17800,32881,149583,246658,77252,177309,264009,26612,157526,18414,83381,267412,250914,94692,31883,29265,44404,46359,34122,38770,64163,77600,93315,20935,37833,78317,170116,178199,99638,220741,102944,179235,33981,94984,92191,32019,456465,78610,64283,70967,83885,99952,88943,123772,59485,95672,149835,156993,156435,162061,149182,148078,140794,120740,135480,150660,155128,155648,139665,152149,158913,167630,173239,168466,155022,66707,98902,15887,50558,72025,41528,37491,36761,71065,34175,37868,121752,189401,131865,131523,24991,15664,47562,105815,66675,114278,131368,100477,122704,48848,10756,113381,53070,48298,49249,214251,234510,70507,64333,82435,92335,140642,118329,48076,142903,126260,116853,116443,83117,54456,60204,63364,61255,58805,61485,20993,34505,24826,59301,70761,74963,80898,20129,51668,18703,53466,49840,155761,38044,45970,56842,29977,48563,117845,34702,36006,89890,153535,122453,112265,83375,190868,169341,271263,57097,68144,262221,41703,46916,26213,51187,37366,70588,37247,35136,39763,49639,248357,276665,38334,66245,40510,129146,85043,77482,54886,160378,102629,125550,102102,97871,44779,49440,43254,81585,78163,58511,139629,37682,81000,131204,160151,244751,51296,47914,93108,258437,28032,123989,160988,120279,107413,115173,321198,148449,123809,115475,269359,74477,80236,184996,42250,50877,102954,56616,126759,228551,71665,67722,80775,152005,65460,78392,220349,26129,115617,75079,67143,56069,65027,61656,70844,48349,75989,52256,56695,25064,129578,89024,74218,73888,44107,78911,70351,156139,117159,56603,32711,47586,43671,38965,55461,236900,33715,18611,27313,68092,62216,58221,38113,201110,58691,43020,67067,57915,94101,94418,83446,85821,95671,41157,85564,112835,109289,44752,86041,96055,68573,111088,88848,123338,93594,156135,58323,70267,69407,49749,48717,76340,35211,92702,82063,39406,22944,42871,15298,55450,82436,40155,115281,50076,83470,25832,73667,40141,62024,89064,82695,74662,201221,204946,95407,96309,146565,82788,168205,125253,210977,152373,93913,94625,106919,176701,58503,128787,154448,53583,91100,50075,116772,65641,64857,63026,71641,81861,96800,70572,193285,118565,126989,53598,58133,121875,60419,56105,49764,54807,59824,79550,95467,213208,154892,229707,32603,38421,77450,79981,129467,6015,20924,66028,73210,128445,109450,41340,59058,120096,100979,104855,96158,70791,60397,90828,157039,58906,76147,100775,167082,105686,115493,119497,90983,26740,183620,131630,58811,57849,176044,130554,9487,159907,90058,110117,114856,81396,141009,74150,85024,85108,221475,105946,117881,96797,255639,147600,100417,83332,72973,78384,157150,195374,33522,83295,52303,80297,82180,133067,84742,93380,75074,53932,73455,92744,77938,67197,84192,61177,87981,69150,59056,118937,82673,51522,151519,20421,51427,45321,81777,64959,29325,72792,31145,56916,84011,68223,42889,108375,45806,107479,116314,76549,31687,83191,64865,65957,57489,48579,48314,27094,45327,105746,152178,91840,62669,66526,63139,79350,26628,95920,74648,36304,85039,55427,13212,13828,86150,58849,51170,35130,79796,155322,108218,101158,94066,37586,103066,182943,186162,214749,200121,100309,296101,79546,67734,62805,114396,89952,95469,69356,62644,107146,94412,111169,107895,56697,203360,78614,52487,137650,39913,46872,28016,82133,34516,34397,165522,61459,133853,97934,89800,120079,129781,110154,90837,25536,162523,105263,150642,182662,132713,182499,191443,153904,124509,141256,125506,135185,195344,118014,254221,178083,104487,166362,44177,99324,95829,90141,81935,64454,180552,53395,72972,49692,109683,55913,59919,111872,109841,161737,77793,72631,190856,271446,76233,84472,91513,73722,101317,49047,72213,60628,91900,82837,69597,81440,77490,94088,102071,60253,51475,52666,86393,65844,65271,59724,59308,55672,104933,101072,28784,362019,132834,71809,103634,101302,103654,222548,210619,102774,61723,101868,79265,83154,63054,52876,62658,79808,22435,61151,40729,36975,35962,36453,82792,78178,98968,86167,47907,67545,64140,134237,39996,31019,29711,29800,27730,16560,5210,153014,56288,31159,23637,26821,91119,59315,133868,111299,73814,72144,95371,84263,64169,61157,94287,128642,75534,28111,61781,43964,43810,62531,114144,89473,112141,109447,143815,41139,143823,92118,47351,58038,52383,65638,69447,60641,44736,44989,39115,72005,101136,107420,134408,171169,79279,93386,55259,140716,215176,117301,25882,69598,66314,87067,69463,188157,68443,75440,56631,69045,49589,76566,111227,57740,76096,50493,46269,58833,55878,104180,73075,78996,99990,88371,79345,82734,60712,124934,40622,76721,174940,184482,47088,73712,205715,67732,42366,66678,42954,39136,90899,74647,79313,80511,164671,75007,42085,83142,91740,59050,61213,97247,99057,73595,41095,115613,103853,81009,86280,49066,93494,43535,78714,38141,59767,48458,77447,41688,48502,35616,121695,100966,112832,174907,205211,275728,29154,69452,51709,54517,74219,78410,82528,73089,129634,80422,94848,77236,59376,82406,127346,143984,85065,50395,88780,108262,76444,155351,65395,57744,53839,58075,52655,102151,41388,39713,127009,158835,200666,66014,61727,84584,90054,104667,76136,38317,15794,68411,51197,43942,79073,36893,47467,61604,62908,72124,64507,44685,65837,83436,73742,51839,35800,38288,99481,140248,12988,57135,51169,57068,51897,90801,102804,148221,139886,119165,41419,140789,38053,44356,40728,49004,45397,35086,36240,39027,34824,36181,35074,38300,92681,103132,125136,67994,99125,201997,181762,102265,55556,78349,50762,88914,60521,56652,55053,63438,64270,86673,115840,45184,168733,41859,75625,50210,46945,20645,89883,100186,67013,40090,58434,94697,70899,85356,94495,120975,86262,91006,67202,116992,97469,169207,53750,133373,28052,83592,137784,53277,51677,55397,60591,41946,40627,53239,35095,78779,92477,80172,75724,75595,69486,69735,72293,51592,107828,45829,69043,69024,16089,46705,105252,104406,77257,93384,69203,92336,58213,24425,49855,22801,52098,22656,33520,142195,98517,21939,54876,71170,157026,210275,44577,51499,57882,58270,57471,61106,53801,44632,113074,77334,84370,79897,105414,71222,154590,98268,90370,50096,50007,32895,210828,223769,62837,146847,68238,30824,65282,43517,37914,55826,30348,49787,65100,43471,40603,82834,63959,26905,51478,40874,32953,88019,138044,88464,68446,52608,134189,113039,102429,130642,166288,125223,34568,31594,61062,71717,55594,43668,82837,56187,76540,52261,44763,76713,55011,54592,54560,41465,44184,65976,49789,28949,38564,23618,44103,40675,48984,33652,80681,68267,93536,66400,66558],\"yaxis\":\"y\",\"type\":\"bar\"}],                        {\"template\":{\"data\":{\"histogram2dcontour\":[{\"type\":\"histogram2dcontour\",\"colorbar\":{\"outlinewidth\":0,\"ticks\":\"\"},\"colorscale\":[[0.0,\"#0d0887\"],[0.1111111111111111,\"#46039f\"],[0.2222222222222222,\"#7201a8\"],[0.3333333333333333,\"#9c179e\"],[0.4444444444444444,\"#bd3786\"],[0.5555555555555556,\"#d8576b\"],[0.6666666666666666,\"#ed7953\"],[0.7777777777777778,\"#fb9f3a\"],[0.8888888888888888,\"#fdca26\"],[1.0,\"#f0f921\"]]}],\"choropleth\":[{\"type\":\"choropleth\",\"colorbar\":{\"outlinewidth\":0,\"ticks\":\"\"}}],\"histogram2d\":[{\"type\":\"histogram2d\",\"colorbar\":{\"outlinewidth\":0,\"ticks\":\"\"},\"colorscale\":[[0.0,\"#0d0887\"],[0.1111111111111111,\"#46039f\"],[0.2222222222222222,\"#7201a8\"],[0.3333333333333333,\"#9c179e\"],[0.4444444444444444,\"#bd3786\"],[0.5555555555555556,\"#d8576b\"],[0.6666666666666666,\"#ed7953\"],[0.7777777777777778,\"#fb9f3a\"],[0.8888888888888888,\"#fdca26\"],[1.0,\"#f0f921\"]]}],\"heatmap\":[{\"type\":\"heatmap\",\"colorbar\":{\"outlinewidth\":0,\"ticks\":\"\"},\"colorscale\":[[0.0,\"#0d0887\"],[0.1111111111111111,\"#46039f\"],[0.2222222222222222,\"#7201a8\"],[0.3333333333333333,\"#9c179e\"],[0.4444444444444444,\"#bd3786\"],[0.5555555555555556,\"#d8576b\"],[0.6666666666666666,\"#ed7953\"],[0.7777777777777778,\"#fb9f3a\"],[0.8888888888888888,\"#fdca26\"],[1.0,\"#f0f921\"]]}],\"heatmapgl\":[{\"type\":\"heatmapgl\",\"colorbar\":{\"outlinewidth\":0,\"ticks\":\"\"},\"colorscale\":[[0.0,\"#0d0887\"],[0.1111111111111111,\"#46039f\"],[0.2222222222222222,\"#7201a8\"],[0.3333333333333333,\"#9c179e\"],[0.4444444444444444,\"#bd3786\"],[0.5555555555555556,\"#d8576b\"],[0.6666666666666666,\"#ed7953\"],[0.7777777777777778,\"#fb9f3a\"],[0.8888888888888888,\"#fdca26\"],[1.0,\"#f0f921\"]]}],\"contourcarpet\":[{\"type\":\"contourcarpet\",\"colorbar\":{\"outlinewidth\":0,\"ticks\":\"\"}}],\"contour\":[{\"type\":\"contour\",\"colorbar\":{\"outlinewidth\":0,\"ticks\":\"\"},\"colorscale\":[[0.0,\"#0d0887\"],[0.1111111111111111,\"#46039f\"],[0.2222222222222222,\"#7201a8\"],[0.3333333333333333,\"#9c179e\"],[0.4444444444444444,\"#bd3786\"],[0.5555555555555556,\"#d8576b\"],[0.6666666666666666,\"#ed7953\"],[0.7777777777777778,\"#fb9f3a\"],[0.8888888888888888,\"#fdca26\"],[1.0,\"#f0f921\"]]}],\"surface\":[{\"type\":\"surface\",\"colorbar\":{\"outlinewidth\":0,\"ticks\":\"\"},\"colorscale\":[[0.0,\"#0d0887\"],[0.1111111111111111,\"#46039f\"],[0.2222222222222222,\"#7201a8\"],[0.3333333333333333,\"#9c179e\"],[0.4444444444444444,\"#bd3786\"],[0.5555555555555556,\"#d8576b\"],[0.6666666666666666,\"#ed7953\"],[0.7777777777777778,\"#fb9f3a\"],[0.8888888888888888,\"#fdca26\"],[1.0,\"#f0f921\"]]}],\"mesh3d\":[{\"type\":\"mesh3d\",\"colorbar\":{\"outlinewidth\":0,\"ticks\":\"\"}}],\"scatter\":[{\"fillpattern\":{\"fillmode\":\"overlay\",\"size\":10,\"solidity\":0.2},\"type\":\"scatter\"}],\"parcoords\":[{\"type\":\"parcoords\",\"line\":{\"colorbar\":{\"outlinewidth\":0,\"ticks\":\"\"}}}],\"scatterpolargl\":[{\"type\":\"scatterpolargl\",\"marker\":{\"colorbar\":{\"outlinewidth\":0,\"ticks\":\"\"}}}],\"bar\":[{\"error_x\":{\"color\":\"#2a3f5f\"},\"error_y\":{\"color\":\"#2a3f5f\"},\"marker\":{\"line\":{\"color\":\"#E5ECF6\",\"width\":0.5},\"pattern\":{\"fillmode\":\"overlay\",\"size\":10,\"solidity\":0.2}},\"type\":\"bar\"}],\"scattergeo\":[{\"type\":\"scattergeo\",\"marker\":{\"colorbar\":{\"outlinewidth\":0,\"ticks\":\"\"}}}],\"scatterpolar\":[{\"type\":\"scatterpolar\",\"marker\":{\"colorbar\":{\"outlinewidth\":0,\"ticks\":\"\"}}}],\"histogram\":[{\"marker\":{\"pattern\":{\"fillmode\":\"overlay\",\"size\":10,\"solidity\":0.2}},\"type\":\"histogram\"}],\"scattergl\":[{\"type\":\"scattergl\",\"marker\":{\"colorbar\":{\"outlinewidth\":0,\"ticks\":\"\"}}}],\"scatter3d\":[{\"type\":\"scatter3d\",\"line\":{\"colorbar\":{\"outlinewidth\":0,\"ticks\":\"\"}},\"marker\":{\"colorbar\":{\"outlinewidth\":0,\"ticks\":\"\"}}}],\"scattermapbox\":[{\"type\":\"scattermapbox\",\"marker\":{\"colorbar\":{\"outlinewidth\":0,\"ticks\":\"\"}}}],\"scatterternary\":[{\"type\":\"scatterternary\",\"marker\":{\"colorbar\":{\"outlinewidth\":0,\"ticks\":\"\"}}}],\"scattercarpet\":[{\"type\":\"scattercarpet\",\"marker\":{\"colorbar\":{\"outlinewidth\":0,\"ticks\":\"\"}}}],\"carpet\":[{\"aaxis\":{\"endlinecolor\":\"#2a3f5f\",\"gridcolor\":\"white\",\"linecolor\":\"white\",\"minorgridcolor\":\"white\",\"startlinecolor\":\"#2a3f5f\"},\"baxis\":{\"endlinecolor\":\"#2a3f5f\",\"gridcolor\":\"white\",\"linecolor\":\"white\",\"minorgridcolor\":\"white\",\"startlinecolor\":\"#2a3f5f\"},\"type\":\"carpet\"}],\"table\":[{\"cells\":{\"fill\":{\"color\":\"#EBF0F8\"},\"line\":{\"color\":\"white\"}},\"header\":{\"fill\":{\"color\":\"#C8D4E3\"},\"line\":{\"color\":\"white\"}},\"type\":\"table\"}],\"barpolar\":[{\"marker\":{\"line\":{\"color\":\"#E5ECF6\",\"width\":0.5},\"pattern\":{\"fillmode\":\"overlay\",\"size\":10,\"solidity\":0.2}},\"type\":\"barpolar\"}],\"pie\":[{\"automargin\":true,\"type\":\"pie\"}]},\"layout\":{\"autotypenumbers\":\"strict\",\"colorway\":[\"#636efa\",\"#EF553B\",\"#00cc96\",\"#ab63fa\",\"#FFA15A\",\"#19d3f3\",\"#FF6692\",\"#B6E880\",\"#FF97FF\",\"#FECB52\"],\"font\":{\"color\":\"#2a3f5f\"},\"hovermode\":\"closest\",\"hoverlabel\":{\"align\":\"left\"},\"paper_bgcolor\":\"white\",\"plot_bgcolor\":\"#E5ECF6\",\"polar\":{\"bgcolor\":\"#E5ECF6\",\"angularaxis\":{\"gridcolor\":\"white\",\"linecolor\":\"white\",\"ticks\":\"\"},\"radialaxis\":{\"gridcolor\":\"white\",\"linecolor\":\"white\",\"ticks\":\"\"}},\"ternary\":{\"bgcolor\":\"#E5ECF6\",\"aaxis\":{\"gridcolor\":\"white\",\"linecolor\":\"white\",\"ticks\":\"\"},\"baxis\":{\"gridcolor\":\"white\",\"linecolor\":\"white\",\"ticks\":\"\"},\"caxis\":{\"gridcolor\":\"white\",\"linecolor\":\"white\",\"ticks\":\"\"}},\"coloraxis\":{\"colorbar\":{\"outlinewidth\":0,\"ticks\":\"\"}},\"colorscale\":{\"sequential\":[[0.0,\"#0d0887\"],[0.1111111111111111,\"#46039f\"],[0.2222222222222222,\"#7201a8\"],[0.3333333333333333,\"#9c179e\"],[0.4444444444444444,\"#bd3786\"],[0.5555555555555556,\"#d8576b\"],[0.6666666666666666,\"#ed7953\"],[0.7777777777777778,\"#fb9f3a\"],[0.8888888888888888,\"#fdca26\"],[1.0,\"#f0f921\"]],\"sequentialminus\":[[0.0,\"#0d0887\"],[0.1111111111111111,\"#46039f\"],[0.2222222222222222,\"#7201a8\"],[0.3333333333333333,\"#9c179e\"],[0.4444444444444444,\"#bd3786\"],[0.5555555555555556,\"#d8576b\"],[0.6666666666666666,\"#ed7953\"],[0.7777777777777778,\"#fb9f3a\"],[0.8888888888888888,\"#fdca26\"],[1.0,\"#f0f921\"]],\"diverging\":[[0,\"#8e0152\"],[0.1,\"#c51b7d\"],[0.2,\"#de77ae\"],[0.3,\"#f1b6da\"],[0.4,\"#fde0ef\"],[0.5,\"#f7f7f7\"],[0.6,\"#e6f5d0\"],[0.7,\"#b8e186\"],[0.8,\"#7fbc41\"],[0.9,\"#4d9221\"],[1,\"#276419\"]]},\"xaxis\":{\"gridcolor\":\"white\",\"linecolor\":\"white\",\"ticks\":\"\",\"title\":{\"standoff\":15},\"zerolinecolor\":\"white\",\"automargin\":true,\"zerolinewidth\":2},\"yaxis\":{\"gridcolor\":\"white\",\"linecolor\":\"white\",\"ticks\":\"\",\"title\":{\"standoff\":15},\"zerolinecolor\":\"white\",\"automargin\":true,\"zerolinewidth\":2},\"scene\":{\"xaxis\":{\"backgroundcolor\":\"#E5ECF6\",\"gridcolor\":\"white\",\"linecolor\":\"white\",\"showbackground\":true,\"ticks\":\"\",\"zerolinecolor\":\"white\",\"gridwidth\":2},\"yaxis\":{\"backgroundcolor\":\"#E5ECF6\",\"gridcolor\":\"white\",\"linecolor\":\"white\",\"showbackground\":true,\"ticks\":\"\",\"zerolinecolor\":\"white\",\"gridwidth\":2},\"zaxis\":{\"backgroundcolor\":\"#E5ECF6\",\"gridcolor\":\"white\",\"linecolor\":\"white\",\"showbackground\":true,\"ticks\":\"\",\"zerolinecolor\":\"white\",\"gridwidth\":2}},\"shapedefaults\":{\"line\":{\"color\":\"#2a3f5f\"}},\"annotationdefaults\":{\"arrowcolor\":\"#2a3f5f\",\"arrowhead\":0,\"arrowwidth\":1},\"geo\":{\"bgcolor\":\"white\",\"landcolor\":\"#E5ECF6\",\"subunitcolor\":\"white\",\"showland\":true,\"showlakes\":true,\"lakecolor\":\"white\"},\"title\":{\"x\":0.05},\"mapbox\":{\"style\":\"light\"}}},\"xaxis\":{\"anchor\":\"y\",\"domain\":[0.0,1.0],\"title\":{\"text\":\"Titel\"}},\"yaxis\":{\"anchor\":\"x\",\"domain\":[0.0,1.0],\"title\":{\"text\":\"all_words_count\"}},\"legend\":{\"tracegroupgap\":0},\"margin\":{\"t\":60},\"barmode\":\"relative\"},                        {\"responsive\": true}                    ).then(function(){\n",
       "                            \n",
       "var gd = document.getElementById('3798f811-2e93-4a48-97ec-6afd98d950bf');\n",
       "var x = new MutationObserver(function (mutations, observer) {{\n",
       "        var display = window.getComputedStyle(gd).display;\n",
       "        if (!display || display === 'none') {{\n",
       "            console.log([gd, 'removed!']);\n",
       "            Plotly.purge(gd);\n",
       "            observer.disconnect();\n",
       "        }}\n",
       "}});\n",
       "\n",
       "// Listen for the removal of the full notebook cells\n",
       "var notebookContainer = gd.closest('#notebook-container');\n",
       "if (notebookContainer) {{\n",
       "    x.observe(notebookContainer, {childList: true});\n",
       "}}\n",
       "\n",
       "// Listen for the clearing of the current output cell\n",
       "var outputEl = gd.closest('.output');\n",
       "if (outputEl) {{\n",
       "    x.observe(outputEl, {childList: true});\n",
       "}}\n",
       "\n",
       "                        })                };                });            </script>        </div>"
      ]
     },
     "metadata": {},
     "output_type": "display_data"
    }
   ],
   "source": [
    "fig = px.bar(df, x=\"Titel\", y=\"all_words_count\", color_discrete_sequence=['darkred'])\n",
    "fig.show()"
   ]
  },
  {
   "cell_type": "markdown",
   "metadata": {},
   "source": [
    "# Autorengeschlecht und Jahr"
   ]
  },
  {
   "cell_type": "code",
   "execution_count": 25,
   "metadata": {},
   "outputs": [
    {
     "data": {
      "application/vnd.plotly.v1+json": {
       "config": {
        "plotlyServerURL": "https://plot.ly"
       },
       "data": [
        {
         "alignmentgroup": "True",
         "bingroup": "x",
         "hovertemplate": "Geschlecht=f<br>Jahr=%{x}<br>count=%{y}<extra></extra>",
         "legendgroup": "f",
         "marker": {
          "color": "orange",
          "pattern": {
           "shape": ""
          }
         },
         "name": "f",
         "nbinsx": 150,
         "offsetgroup": "f",
         "orientation": "v",
         "showlegend": true,
         "type": "histogram",
         "x": [
          1799,
          1819,
          1835,
          1840,
          1844,
          1847,
          1848,
          1849,
          1822,
          1889,
          1915,
          1915,
          1914,
          1916,
          1920,
          1892,
          1894,
          1896,
          1899,
          1902,
          1900,
          1876,
          1880,
          1887,
          1889,
          1890,
          1903,
          1788,
          1788,
          1801,
          1801,
          1802,
          1808,
          1812,
          1807,
          1810,
          1812,
          1814,
          1829,
          1862,
          1868,
          1871,
          1877,
          1879,
          1899,
          1903,
          1819,
          1840,
          1846,
          1860,
          1903,
          1914,
          1795,
          1796,
          1807,
          1822,
          1896,
          1897,
          1898,
          1771,
          1779,
          1798,
          1842,
          1843,
          1845,
          1847,
          1864,
          1784,
          1866,
          1867,
          1871,
          1881,
          1885,
          1911,
          1794,
          1803,
          1885,
          1905,
          1787,
          1788,
          1790,
          1846,
          1858,
          1858,
          1858,
          1838,
          1839,
          1828,
          1903,
          1912,
          1913,
          1916,
          1801,
          1845,
          1819,
          1823,
          1837,
          1829,
          1880,
          1881,
          1889,
          1902,
          1784,
          1804,
          1806,
          1795,
          1798,
          1877,
          1916,
          1915,
          1912,
          1912,
          1919,
          1906,
          1909,
          1902,
          1900,
          1892,
          1911,
          1915,
          1906,
          1875,
          1852,
          1912,
          1888,
          1905,
          1912,
          1912,
          1903,
          1882,
          1899,
          1899,
          1886,
          1897,
          1897,
          1889,
          1889,
          1899,
          1896,
          1913,
          1802,
          1913,
          1913,
          1864,
          1916,
          1879,
          1894,
          1918,
          1912,
          1912,
          1919,
          1900,
          1890,
          1874,
          1888,
          1869,
          1870,
          1920,
          1858,
          1858,
          1913,
          1886,
          1788,
          1788,
          1788,
          1920,
          1883,
          1791,
          1909,
          1902,
          1903,
          1902,
          1903,
          1907,
          1883,
          1896,
          1887,
          1892,
          1905,
          1892,
          1910,
          1886,
          1895,
          1890,
          1877,
          1912,
          1885,
          1908,
          1910,
          1900,
          1880,
          1885,
          1910,
          1912,
          1891,
          1916,
          1899,
          1907,
          1896,
          1906,
          1908,
          1913,
          1899,
          1905,
          1870,
          1887,
          1909,
          1898,
          1890,
          1914,
          1910,
          1897,
          1899,
          1902,
          1912,
          1904,
          1914,
          1910,
          1916,
          1905,
          1916,
          1912,
          1905,
          1859,
          1859,
          1859,
          1859,
          1788,
          1788,
          1788,
          1920,
          1902,
          1910,
          1903,
          1904,
          1912,
          1900,
          1916,
          1884,
          1886,
          1911,
          1910,
          1916,
          1918,
          1908,
          1914,
          1919,
          1915,
          1917,
          1913,
          1915,
          1913,
          1906,
          1912,
          1915,
          1915
         ],
         "xaxis": "x",
         "yaxis": "y"
        },
        {
         "alignmentgroup": "True",
         "bingroup": "x",
         "hovertemplate": "Geschlecht=m<br>Jahr=%{x}<br>count=%{y}<extra></extra>",
         "legendgroup": "m",
         "marker": {
          "color": "indianred",
          "pattern": {
           "shape": ""
          }
         },
         "name": "m",
         "nbinsx": 150,
         "offsetgroup": "m",
         "orientation": "v",
         "showlegend": true,
         "type": "histogram",
         "x": [
          1846,
          1852,
          1815,
          1885,
          1810,
          1812,
          1817,
          1854,
          1843,
          1843,
          1846,
          1849,
          1853,
          1853,
          1854,
          1856,
          1890,
          1918,
          1897,
          1888,
          1801,
          1829,
          1779,
          1779,
          1827,
          1888,
          1889,
          1876,
          1815,
          1834,
          1795,
          1919,
          1868,
          1807,
          1913,
          1878,
          1879,
          1880,
          1881,
          1882,
          1884,
          1885,
          1887,
          1887,
          1890,
          1890,
          1892,
          1892,
          1894,
          1895,
          1897,
          1906,
          1896,
          1905,
          1855,
          1864,
          1895,
          1914,
          1846,
          1848,
          1774,
          1795,
          1809,
          1821,
          1841,
          1843,
          1849,
          1835,
          1854,
          1771,
          1825,
          1826,
          1826,
          1915,
          1787,
          1846,
          1760,
          1778,
          1815,
          1819,
          1795,
          1795,
          1797,
          1836,
          1838,
          1779,
          1781,
          1880,
          1793,
          1795,
          1796,
          1796,
          1800,
          1801,
          1804,
          1809,
          1809,
          1854,
          1879,
          1886,
          1903,
          1907,
          1911,
          1914,
          1918,
          1804,
          1791,
          1798,
          1791,
          1792,
          1792,
          1888,
          1855,
          1854,
          1833,
          1908,
          1856,
          1857,
          1892,
          1894,
          1894,
          1896,
          1896,
          1896,
          1896,
          1897,
          1897,
          1897,
          1898,
          1898,
          1898,
          1899,
          1902,
          1903,
          1904,
          1909,
          1910,
          1843,
          1876,
          1880,
          1887,
          1891,
          1913,
          1776,
          1865,
          1832,
          1785,
          1786,
          1790,
          1779,
          1915,
          1835,
          1773,
          1802,
          1802,
          1781,
          1781,
          1781,
          1781,
          1895,
          1857,
          1863,
          1863,
          1867,
          1869,
          1879,
          1887,
          1888,
          1891,
          1896,
          1899,
          1910,
          1875,
          1857,
          1859,
          1913,
          1897,
          1901,
          1902,
          1913,
          1855,
          1788,
          1787,
          1799,
          1901,
          1907,
          1917,
          1918,
          1861,
          1861,
          1869,
          1897,
          1898,
          1827,
          1898,
          1906,
          1907,
          1841,
          1841,
          1843,
          1845,
          1846,
          1857,
          1865,
          1888,
          1887,
          1917,
          1906,
          1911,
          1795,
          1798,
          1836,
          1840,
          1832,
          1879,
          1879,
          1810,
          1799,
          1828,
          1897,
          1907,
          1915,
          1919,
          1846,
          1848,
          1776,
          1780,
          1784,
          1764,
          1766,
          1772,
          1774,
          1788,
          1800,
          1909,
          1920,
          1837,
          1845,
          1817,
          1903,
          1908,
          1894,
          1832,
          1854,
          1840,
          1840,
          1840,
          1824,
          1848,
          1848,
          1842,
          1802,
          1890,
          1865,
          1871,
          1871,
          1871,
          1869,
          1869,
          1869,
          1869,
          1869,
          1878,
          1842,
          1919,
          1916,
          1910,
          1909,
          1897,
          1896,
          1920,
          1882,
          1828,
          1920,
          1896,
          1906,
          1899,
          1896,
          1893,
          1844,
          1881,
          1804,
          1858,
          1912,
          1796,
          1882,
          1913,
          1900,
          1920,
          1873,
          1885,
          1882,
          1890,
          1876,
          1876,
          1895,
          1876,
          1890,
          1890,
          1876,
          1876,
          1874,
          1834,
          1876,
          1915,
          1912,
          1893,
          1911,
          1902,
          1885,
          1903,
          1869,
          1839,
          1896,
          1904,
          1904,
          1864,
          1892,
          1883,
          1880,
          1889,
          1878,
          1881,
          1893,
          1887,
          1894,
          1880,
          1880,
          1885,
          1877,
          1889,
          1860,
          1920,
          1905,
          1898,
          1920,
          1789,
          1904,
          1905,
          1908,
          1916,
          1916,
          1909,
          1906,
          1911,
          1902,
          1899,
          1906,
          1900,
          1899,
          1908,
          1913,
          1907,
          1919,
          1817,
          1808,
          1813,
          1920,
          1873,
          1891,
          1872,
          1876,
          1918,
          1900,
          1886,
          1892,
          1899,
          1904,
          1883,
          1897,
          1881,
          1894,
          1899,
          1915,
          1908,
          1838,
          1899,
          1861,
          1865,
          1889,
          1889,
          1870,
          1865,
          1860,
          1858,
          1864,
          1861,
          1867,
          1850,
          1854,
          1917,
          1907,
          1918,
          1867,
          1857,
          1870,
          1868,
          1850,
          1851,
          1851,
          1852,
          1876,
          1913,
          1850,
          1826,
          1886,
          1884,
          1910,
          1916,
          1901,
          1915,
          1900,
          1898,
          1908,
          1812,
          1885,
          1898,
          1891,
          1880,
          1895,
          1898,
          1920,
          1907,
          1892,
          1904,
          1905,
          1880,
          1856,
          1908,
          1830,
          1911,
          1907,
          1909,
          1839,
          1880,
          1880,
          1884,
          1905,
          1879,
          1879,
          1897,
          1897,
          1890,
          1912,
          1899,
          1877,
          1909,
          1916,
          1915,
          1910,
          1902,
          1909,
          1887,
          1892,
          1889,
          1900,
          1891,
          1917,
          1915,
          1795,
          1791,
          1791,
          1795,
          1856,
          1783,
          1787,
          1834,
          1855,
          1904,
          1904,
          1904,
          1843,
          1906,
          1795,
          1915,
          1919,
          1919,
          1905,
          1915,
          1913,
          1902,
          1903,
          1903,
          1908,
          1919,
          1907,
          1904,
          1897,
          1909,
          1909,
          1910,
          1883,
          1894,
          1838,
          1912,
          1909,
          1909,
          1911,
          1911,
          1856,
          1882,
          1891,
          1912,
          1916,
          1889,
          1867,
          1879,
          1889,
          1890,
          1891,
          1885,
          1885,
          1885,
          1885,
          1885,
          1875,
          1874,
          1873,
          1874,
          1895,
          1885,
          1901,
          1900,
          1905,
          1905,
          1905,
          1841,
          1859,
          1901,
          1916,
          1917,
          1889,
          1864,
          1864,
          1869,
          1869,
          1879,
          1905,
          1854,
          1854,
          1856,
          1913,
          1856,
          1903,
          1904,
          1911,
          1897,
          1905,
          1890,
          1894,
          1896,
          1901,
          1895,
          1895,
          1902,
          1902,
          1908,
          1918,
          1915,
          1812,
          1880,
          1860,
          1864,
          1865,
          1865,
          1884,
          1856,
          1860,
          1870,
          1864,
          1919,
          1866,
          1859,
          1897,
          1902,
          1882,
          1889,
          1893,
          1916,
          1917,
          1845,
          1874,
          1897,
          1914,
          1904,
          1902,
          1906,
          1898,
          1901,
          1858,
          1853,
          1913,
          1911,
          1919,
          1912,
          1912,
          1918,
          1892,
          1914,
          1909,
          1907,
          1919,
          1913,
          1912,
          1919,
          1892,
          1901,
          1902,
          1896,
          1900,
          1896,
          1870,
          1860,
          1834,
          1843,
          1833,
          1835,
          1828,
          1835,
          1888,
          1869,
          1866,
          1909,
          1914,
          1835,
          1918,
          1918,
          1920,
          1906,
          1900,
          1888,
          1899,
          1878,
          1880,
          1877,
          1889,
          1884,
          1841,
          1829,
          1909,
          1905,
          1918,
          1881,
          1895,
          1904,
          1884,
          1883,
          1888,
          1912,
          1908,
          1900,
          1897,
          1896,
          1909,
          1895,
          1913,
          1900,
          1908,
          1908,
          1908,
          1894,
          1900,
          1899,
          1789,
          1893,
          1911,
          1866,
          1917,
          1890,
          1844,
          1901,
          1918,
          1912,
          1912,
          1899,
          1906,
          1904,
          1890,
          1890,
          1839,
          1911,
          1909,
          1887,
          1887,
          1916,
          1887,
          1896,
          1917,
          1902,
          1883,
          1909,
          1883,
          1905,
          1913,
          1896,
          1903,
          1906,
          1916,
          1913,
          1897,
          1919,
          1918,
          1776,
          1900,
          1881,
          1830,
          1903,
          1913,
          1909,
          1907,
          1799,
          1775,
          1894,
          1855,
          1855,
          1855,
          1857,
          1920,
          1854,
          1884,
          1894,
          1883,
          1907,
          1899,
          1895,
          1895,
          1888,
          1897,
          1892,
          1892,
          1812,
          1920,
          1914,
          1912,
          1900,
          1893,
          1822,
          1822,
          1818,
          1825,
          1846,
          1913,
          1900,
          1919,
          1920,
          1910,
          1883,
          1894,
          1912,
          1899,
          1909,
          1911,
          1893,
          1898,
          1911,
          1901,
          1898,
          1899,
          1900,
          1900,
          1900,
          1900,
          1900,
          1900,
          1901,
          1900,
          1901,
          1900,
          1911,
          1888,
          1883,
          1878,
          1880,
          1852,
          1876,
          1906,
          1906,
          1890,
          1907,
          1914,
          1919,
          1900,
          1903,
          1900,
          1904,
          1906,
          1892,
          1791,
          1909,
          1919,
          1837,
          1912,
          1919,
          1917,
          1911,
          1901,
          1905,
          1883,
          1912,
          1913,
          1908,
          1906,
          1910,
          1915,
          1917,
          1913,
          1905,
          1910,
          1890,
          1854,
          1869,
          1888,
          1864,
          1908,
          1903,
          1912,
          1906,
          1907,
          1901,
          1911,
          1920,
          1885,
          1885,
          1878,
          1878,
          1887,
          1904,
          1915,
          1901,
          1914,
          1799,
          1910,
          1920,
          1920,
          1912,
          1900,
          1911,
          1868,
          1868,
          1892,
          1874,
          1914,
          1914,
          1914,
          1914,
          1895,
          1915,
          1918,
          1897,
          1900,
          1900,
          1906,
          1918,
          1856,
          1860,
          1908,
          1878,
          1851,
          1909,
          1913,
          1907,
          1918,
          1912,
          1912,
          1911,
          1919,
          1919,
          1864,
          1914,
          1901,
          1909,
          1893,
          1881,
          1889,
          1877,
          1877,
          1885,
          1885,
          1919,
          1907,
          1899,
          1846,
          1909,
          1900,
          1882,
          1882,
          1882,
          1882,
          1916,
          1900,
          1889
         ],
         "xaxis": "x",
         "yaxis": "y"
        }
       ],
       "layout": {
        "barmode": "relative",
        "legend": {
         "title": {
          "text": "Geschlecht"
         },
         "tracegroupgap": 0
        },
        "margin": {
         "t": 60
        },
        "template": {
         "data": {
          "bar": [
           {
            "error_x": {
             "color": "#2a3f5f"
            },
            "error_y": {
             "color": "#2a3f5f"
            },
            "marker": {
             "line": {
              "color": "#E5ECF6",
              "width": 0.5
             },
             "pattern": {
              "fillmode": "overlay",
              "size": 10,
              "solidity": 0.2
             }
            },
            "type": "bar"
           }
          ],
          "barpolar": [
           {
            "marker": {
             "line": {
              "color": "#E5ECF6",
              "width": 0.5
             },
             "pattern": {
              "fillmode": "overlay",
              "size": 10,
              "solidity": 0.2
             }
            },
            "type": "barpolar"
           }
          ],
          "carpet": [
           {
            "aaxis": {
             "endlinecolor": "#2a3f5f",
             "gridcolor": "white",
             "linecolor": "white",
             "minorgridcolor": "white",
             "startlinecolor": "#2a3f5f"
            },
            "baxis": {
             "endlinecolor": "#2a3f5f",
             "gridcolor": "white",
             "linecolor": "white",
             "minorgridcolor": "white",
             "startlinecolor": "#2a3f5f"
            },
            "type": "carpet"
           }
          ],
          "choropleth": [
           {
            "colorbar": {
             "outlinewidth": 0,
             "ticks": ""
            },
            "type": "choropleth"
           }
          ],
          "contour": [
           {
            "colorbar": {
             "outlinewidth": 0,
             "ticks": ""
            },
            "colorscale": [
             [
              0,
              "#0d0887"
             ],
             [
              0.1111111111111111,
              "#46039f"
             ],
             [
              0.2222222222222222,
              "#7201a8"
             ],
             [
              0.3333333333333333,
              "#9c179e"
             ],
             [
              0.4444444444444444,
              "#bd3786"
             ],
             [
              0.5555555555555556,
              "#d8576b"
             ],
             [
              0.6666666666666666,
              "#ed7953"
             ],
             [
              0.7777777777777778,
              "#fb9f3a"
             ],
             [
              0.8888888888888888,
              "#fdca26"
             ],
             [
              1,
              "#f0f921"
             ]
            ],
            "type": "contour"
           }
          ],
          "contourcarpet": [
           {
            "colorbar": {
             "outlinewidth": 0,
             "ticks": ""
            },
            "type": "contourcarpet"
           }
          ],
          "heatmap": [
           {
            "colorbar": {
             "outlinewidth": 0,
             "ticks": ""
            },
            "colorscale": [
             [
              0,
              "#0d0887"
             ],
             [
              0.1111111111111111,
              "#46039f"
             ],
             [
              0.2222222222222222,
              "#7201a8"
             ],
             [
              0.3333333333333333,
              "#9c179e"
             ],
             [
              0.4444444444444444,
              "#bd3786"
             ],
             [
              0.5555555555555556,
              "#d8576b"
             ],
             [
              0.6666666666666666,
              "#ed7953"
             ],
             [
              0.7777777777777778,
              "#fb9f3a"
             ],
             [
              0.8888888888888888,
              "#fdca26"
             ],
             [
              1,
              "#f0f921"
             ]
            ],
            "type": "heatmap"
           }
          ],
          "heatmapgl": [
           {
            "colorbar": {
             "outlinewidth": 0,
             "ticks": ""
            },
            "colorscale": [
             [
              0,
              "#0d0887"
             ],
             [
              0.1111111111111111,
              "#46039f"
             ],
             [
              0.2222222222222222,
              "#7201a8"
             ],
             [
              0.3333333333333333,
              "#9c179e"
             ],
             [
              0.4444444444444444,
              "#bd3786"
             ],
             [
              0.5555555555555556,
              "#d8576b"
             ],
             [
              0.6666666666666666,
              "#ed7953"
             ],
             [
              0.7777777777777778,
              "#fb9f3a"
             ],
             [
              0.8888888888888888,
              "#fdca26"
             ],
             [
              1,
              "#f0f921"
             ]
            ],
            "type": "heatmapgl"
           }
          ],
          "histogram": [
           {
            "marker": {
             "pattern": {
              "fillmode": "overlay",
              "size": 10,
              "solidity": 0.2
             }
            },
            "type": "histogram"
           }
          ],
          "histogram2d": [
           {
            "colorbar": {
             "outlinewidth": 0,
             "ticks": ""
            },
            "colorscale": [
             [
              0,
              "#0d0887"
             ],
             [
              0.1111111111111111,
              "#46039f"
             ],
             [
              0.2222222222222222,
              "#7201a8"
             ],
             [
              0.3333333333333333,
              "#9c179e"
             ],
             [
              0.4444444444444444,
              "#bd3786"
             ],
             [
              0.5555555555555556,
              "#d8576b"
             ],
             [
              0.6666666666666666,
              "#ed7953"
             ],
             [
              0.7777777777777778,
              "#fb9f3a"
             ],
             [
              0.8888888888888888,
              "#fdca26"
             ],
             [
              1,
              "#f0f921"
             ]
            ],
            "type": "histogram2d"
           }
          ],
          "histogram2dcontour": [
           {
            "colorbar": {
             "outlinewidth": 0,
             "ticks": ""
            },
            "colorscale": [
             [
              0,
              "#0d0887"
             ],
             [
              0.1111111111111111,
              "#46039f"
             ],
             [
              0.2222222222222222,
              "#7201a8"
             ],
             [
              0.3333333333333333,
              "#9c179e"
             ],
             [
              0.4444444444444444,
              "#bd3786"
             ],
             [
              0.5555555555555556,
              "#d8576b"
             ],
             [
              0.6666666666666666,
              "#ed7953"
             ],
             [
              0.7777777777777778,
              "#fb9f3a"
             ],
             [
              0.8888888888888888,
              "#fdca26"
             ],
             [
              1,
              "#f0f921"
             ]
            ],
            "type": "histogram2dcontour"
           }
          ],
          "mesh3d": [
           {
            "colorbar": {
             "outlinewidth": 0,
             "ticks": ""
            },
            "type": "mesh3d"
           }
          ],
          "parcoords": [
           {
            "line": {
             "colorbar": {
              "outlinewidth": 0,
              "ticks": ""
             }
            },
            "type": "parcoords"
           }
          ],
          "pie": [
           {
            "automargin": true,
            "type": "pie"
           }
          ],
          "scatter": [
           {
            "fillpattern": {
             "fillmode": "overlay",
             "size": 10,
             "solidity": 0.2
            },
            "type": "scatter"
           }
          ],
          "scatter3d": [
           {
            "line": {
             "colorbar": {
              "outlinewidth": 0,
              "ticks": ""
             }
            },
            "marker": {
             "colorbar": {
              "outlinewidth": 0,
              "ticks": ""
             }
            },
            "type": "scatter3d"
           }
          ],
          "scattercarpet": [
           {
            "marker": {
             "colorbar": {
              "outlinewidth": 0,
              "ticks": ""
             }
            },
            "type": "scattercarpet"
           }
          ],
          "scattergeo": [
           {
            "marker": {
             "colorbar": {
              "outlinewidth": 0,
              "ticks": ""
             }
            },
            "type": "scattergeo"
           }
          ],
          "scattergl": [
           {
            "marker": {
             "colorbar": {
              "outlinewidth": 0,
              "ticks": ""
             }
            },
            "type": "scattergl"
           }
          ],
          "scattermapbox": [
           {
            "marker": {
             "colorbar": {
              "outlinewidth": 0,
              "ticks": ""
             }
            },
            "type": "scattermapbox"
           }
          ],
          "scatterpolar": [
           {
            "marker": {
             "colorbar": {
              "outlinewidth": 0,
              "ticks": ""
             }
            },
            "type": "scatterpolar"
           }
          ],
          "scatterpolargl": [
           {
            "marker": {
             "colorbar": {
              "outlinewidth": 0,
              "ticks": ""
             }
            },
            "type": "scatterpolargl"
           }
          ],
          "scatterternary": [
           {
            "marker": {
             "colorbar": {
              "outlinewidth": 0,
              "ticks": ""
             }
            },
            "type": "scatterternary"
           }
          ],
          "surface": [
           {
            "colorbar": {
             "outlinewidth": 0,
             "ticks": ""
            },
            "colorscale": [
             [
              0,
              "#0d0887"
             ],
             [
              0.1111111111111111,
              "#46039f"
             ],
             [
              0.2222222222222222,
              "#7201a8"
             ],
             [
              0.3333333333333333,
              "#9c179e"
             ],
             [
              0.4444444444444444,
              "#bd3786"
             ],
             [
              0.5555555555555556,
              "#d8576b"
             ],
             [
              0.6666666666666666,
              "#ed7953"
             ],
             [
              0.7777777777777778,
              "#fb9f3a"
             ],
             [
              0.8888888888888888,
              "#fdca26"
             ],
             [
              1,
              "#f0f921"
             ]
            ],
            "type": "surface"
           }
          ],
          "table": [
           {
            "cells": {
             "fill": {
              "color": "#EBF0F8"
             },
             "line": {
              "color": "white"
             }
            },
            "header": {
             "fill": {
              "color": "#C8D4E3"
             },
             "line": {
              "color": "white"
             }
            },
            "type": "table"
           }
          ]
         },
         "layout": {
          "annotationdefaults": {
           "arrowcolor": "#2a3f5f",
           "arrowhead": 0,
           "arrowwidth": 1
          },
          "autotypenumbers": "strict",
          "coloraxis": {
           "colorbar": {
            "outlinewidth": 0,
            "ticks": ""
           }
          },
          "colorscale": {
           "diverging": [
            [
             0,
             "#8e0152"
            ],
            [
             0.1,
             "#c51b7d"
            ],
            [
             0.2,
             "#de77ae"
            ],
            [
             0.3,
             "#f1b6da"
            ],
            [
             0.4,
             "#fde0ef"
            ],
            [
             0.5,
             "#f7f7f7"
            ],
            [
             0.6,
             "#e6f5d0"
            ],
            [
             0.7,
             "#b8e186"
            ],
            [
             0.8,
             "#7fbc41"
            ],
            [
             0.9,
             "#4d9221"
            ],
            [
             1,
             "#276419"
            ]
           ],
           "sequential": [
            [
             0,
             "#0d0887"
            ],
            [
             0.1111111111111111,
             "#46039f"
            ],
            [
             0.2222222222222222,
             "#7201a8"
            ],
            [
             0.3333333333333333,
             "#9c179e"
            ],
            [
             0.4444444444444444,
             "#bd3786"
            ],
            [
             0.5555555555555556,
             "#d8576b"
            ],
            [
             0.6666666666666666,
             "#ed7953"
            ],
            [
             0.7777777777777778,
             "#fb9f3a"
            ],
            [
             0.8888888888888888,
             "#fdca26"
            ],
            [
             1,
             "#f0f921"
            ]
           ],
           "sequentialminus": [
            [
             0,
             "#0d0887"
            ],
            [
             0.1111111111111111,
             "#46039f"
            ],
            [
             0.2222222222222222,
             "#7201a8"
            ],
            [
             0.3333333333333333,
             "#9c179e"
            ],
            [
             0.4444444444444444,
             "#bd3786"
            ],
            [
             0.5555555555555556,
             "#d8576b"
            ],
            [
             0.6666666666666666,
             "#ed7953"
            ],
            [
             0.7777777777777778,
             "#fb9f3a"
            ],
            [
             0.8888888888888888,
             "#fdca26"
            ],
            [
             1,
             "#f0f921"
            ]
           ]
          },
          "colorway": [
           "#636efa",
           "#EF553B",
           "#00cc96",
           "#ab63fa",
           "#FFA15A",
           "#19d3f3",
           "#FF6692",
           "#B6E880",
           "#FF97FF",
           "#FECB52"
          ],
          "font": {
           "color": "#2a3f5f"
          },
          "geo": {
           "bgcolor": "white",
           "lakecolor": "white",
           "landcolor": "#E5ECF6",
           "showlakes": true,
           "showland": true,
           "subunitcolor": "white"
          },
          "hoverlabel": {
           "align": "left"
          },
          "hovermode": "closest",
          "mapbox": {
           "style": "light"
          },
          "paper_bgcolor": "white",
          "plot_bgcolor": "#E5ECF6",
          "polar": {
           "angularaxis": {
            "gridcolor": "white",
            "linecolor": "white",
            "ticks": ""
           },
           "bgcolor": "#E5ECF6",
           "radialaxis": {
            "gridcolor": "white",
            "linecolor": "white",
            "ticks": ""
           }
          },
          "scene": {
           "xaxis": {
            "backgroundcolor": "#E5ECF6",
            "gridcolor": "white",
            "gridwidth": 2,
            "linecolor": "white",
            "showbackground": true,
            "ticks": "",
            "zerolinecolor": "white"
           },
           "yaxis": {
            "backgroundcolor": "#E5ECF6",
            "gridcolor": "white",
            "gridwidth": 2,
            "linecolor": "white",
            "showbackground": true,
            "ticks": "",
            "zerolinecolor": "white"
           },
           "zaxis": {
            "backgroundcolor": "#E5ECF6",
            "gridcolor": "white",
            "gridwidth": 2,
            "linecolor": "white",
            "showbackground": true,
            "ticks": "",
            "zerolinecolor": "white"
           }
          },
          "shapedefaults": {
           "line": {
            "color": "#2a3f5f"
           }
          },
          "ternary": {
           "aaxis": {
            "gridcolor": "white",
            "linecolor": "white",
            "ticks": ""
           },
           "baxis": {
            "gridcolor": "white",
            "linecolor": "white",
            "ticks": ""
           },
           "bgcolor": "#E5ECF6",
           "caxis": {
            "gridcolor": "white",
            "linecolor": "white",
            "ticks": ""
           }
          },
          "title": {
           "x": 0.05
          },
          "xaxis": {
           "automargin": true,
           "gridcolor": "white",
           "linecolor": "white",
           "ticks": "",
           "title": {
            "standoff": 15
           },
           "zerolinecolor": "white",
           "zerolinewidth": 2
          },
          "yaxis": {
           "automargin": true,
           "gridcolor": "white",
           "linecolor": "white",
           "ticks": "",
           "title": {
            "standoff": 15
           },
           "zerolinecolor": "white",
           "zerolinewidth": 2
          }
         }
        },
        "xaxis": {
         "anchor": "y",
         "domain": [
          0,
          1
         ],
         "title": {
          "text": "Jahr"
         }
        },
        "yaxis": {
         "anchor": "x",
         "domain": [
          0,
          1
         ],
         "title": {
          "text": "count"
         }
        }
       }
      },
      "text/html": [
       "<div>                            <div id=\"3b9f9a86-7cee-4447-9c08-0ca8ce78fd40\" class=\"plotly-graph-div\" style=\"height:525px; width:100%;\"></div>            <script type=\"text/javascript\">                require([\"plotly\"], function(Plotly) {                    window.PLOTLYENV=window.PLOTLYENV || {};                                    if (document.getElementById(\"3b9f9a86-7cee-4447-9c08-0ca8ce78fd40\")) {                    Plotly.newPlot(                        \"3b9f9a86-7cee-4447-9c08-0ca8ce78fd40\",                        [{\"alignmentgroup\":\"True\",\"bingroup\":\"x\",\"hovertemplate\":\"Geschlecht=f<br>Jahr=%{x}<br>count=%{y}<extra></extra>\",\"legendgroup\":\"f\",\"marker\":{\"color\":\"orange\",\"pattern\":{\"shape\":\"\"}},\"name\":\"f\",\"nbinsx\":150,\"offsetgroup\":\"f\",\"orientation\":\"v\",\"showlegend\":true,\"x\":[1799,1819,1835,1840,1844,1847,1848,1849,1822,1889,1915,1915,1914,1916,1920,1892,1894,1896,1899,1902,1900,1876,1880,1887,1889,1890,1903,1788,1788,1801,1801,1802,1808,1812,1807,1810,1812,1814,1829,1862,1868,1871,1877,1879,1899,1903,1819,1840,1846,1860,1903,1914,1795,1796,1807,1822,1896,1897,1898,1771,1779,1798,1842,1843,1845,1847,1864,1784,1866,1867,1871,1881,1885,1911,1794,1803,1885,1905,1787,1788,1790,1846,1858,1858,1858,1838,1839,1828,1903,1912,1913,1916,1801,1845,1819,1823,1837,1829,1880,1881,1889,1902,1784,1804,1806,1795,1798,1877,1916,1915,1912,1912,1919,1906,1909,1902,1900,1892,1911,1915,1906,1875,1852,1912,1888,1905,1912,1912,1903,1882,1899,1899,1886,1897,1897,1889,1889,1899,1896,1913,1802,1913,1913,1864,1916,1879,1894,1918,1912,1912,1919,1900,1890,1874,1888,1869,1870,1920,1858,1858,1913,1886,1788,1788,1788,1920,1883,1791,1909,1902,1903,1902,1903,1907,1883,1896,1887,1892,1905,1892,1910,1886,1895,1890,1877,1912,1885,1908,1910,1900,1880,1885,1910,1912,1891,1916,1899,1907,1896,1906,1908,1913,1899,1905,1870,1887,1909,1898,1890,1914,1910,1897,1899,1902,1912,1904,1914,1910,1916,1905,1916,1912,1905,1859,1859,1859,1859,1788,1788,1788,1920,1902,1910,1903,1904,1912,1900,1916,1884,1886,1911,1910,1916,1918,1908,1914,1919,1915,1917,1913,1915,1913,1906,1912,1915,1915],\"xaxis\":\"x\",\"yaxis\":\"y\",\"type\":\"histogram\"},{\"alignmentgroup\":\"True\",\"bingroup\":\"x\",\"hovertemplate\":\"Geschlecht=m<br>Jahr=%{x}<br>count=%{y}<extra></extra>\",\"legendgroup\":\"m\",\"marker\":{\"color\":\"indianred\",\"pattern\":{\"shape\":\"\"}},\"name\":\"m\",\"nbinsx\":150,\"offsetgroup\":\"m\",\"orientation\":\"v\",\"showlegend\":true,\"x\":[1846,1852,1815,1885,1810,1812,1817,1854,1843,1843,1846,1849,1853,1853,1854,1856,1890,1918,1897,1888,1801,1829,1779,1779,1827,1888,1889,1876,1815,1834,1795,1919,1868,1807,1913,1878,1879,1880,1881,1882,1884,1885,1887,1887,1890,1890,1892,1892,1894,1895,1897,1906,1896,1905,1855,1864,1895,1914,1846,1848,1774,1795,1809,1821,1841,1843,1849,1835,1854,1771,1825,1826,1826,1915,1787,1846,1760,1778,1815,1819,1795,1795,1797,1836,1838,1779,1781,1880,1793,1795,1796,1796,1800,1801,1804,1809,1809,1854,1879,1886,1903,1907,1911,1914,1918,1804,1791,1798,1791,1792,1792,1888,1855,1854,1833,1908,1856,1857,1892,1894,1894,1896,1896,1896,1896,1897,1897,1897,1898,1898,1898,1899,1902,1903,1904,1909,1910,1843,1876,1880,1887,1891,1913,1776,1865,1832,1785,1786,1790,1779,1915,1835,1773,1802,1802,1781,1781,1781,1781,1895,1857,1863,1863,1867,1869,1879,1887,1888,1891,1896,1899,1910,1875,1857,1859,1913,1897,1901,1902,1913,1855,1788,1787,1799,1901,1907,1917,1918,1861,1861,1869,1897,1898,1827,1898,1906,1907,1841,1841,1843,1845,1846,1857,1865,1888,1887,1917,1906,1911,1795,1798,1836,1840,1832,1879,1879,1810,1799,1828,1897,1907,1915,1919,1846,1848,1776,1780,1784,1764,1766,1772,1774,1788,1800,1909,1920,1837,1845,1817,1903,1908,1894,1832,1854,1840,1840,1840,1824,1848,1848,1842,1802,1890,1865,1871,1871,1871,1869,1869,1869,1869,1869,1878,1842,1919,1916,1910,1909,1897,1896,1920,1882,1828,1920,1896,1906,1899,1896,1893,1844,1881,1804,1858,1912,1796,1882,1913,1900,1920,1873,1885,1882,1890,1876,1876,1895,1876,1890,1890,1876,1876,1874,1834,1876,1915,1912,1893,1911,1902,1885,1903,1869,1839,1896,1904,1904,1864,1892,1883,1880,1889,1878,1881,1893,1887,1894,1880,1880,1885,1877,1889,1860,1920,1905,1898,1920,1789,1904,1905,1908,1916,1916,1909,1906,1911,1902,1899,1906,1900,1899,1908,1913,1907,1919,1817,1808,1813,1920,1873,1891,1872,1876,1918,1900,1886,1892,1899,1904,1883,1897,1881,1894,1899,1915,1908,1838,1899,1861,1865,1889,1889,1870,1865,1860,1858,1864,1861,1867,1850,1854,1917,1907,1918,1867,1857,1870,1868,1850,1851,1851,1852,1876,1913,1850,1826,1886,1884,1910,1916,1901,1915,1900,1898,1908,1812,1885,1898,1891,1880,1895,1898,1920,1907,1892,1904,1905,1880,1856,1908,1830,1911,1907,1909,1839,1880,1880,1884,1905,1879,1879,1897,1897,1890,1912,1899,1877,1909,1916,1915,1910,1902,1909,1887,1892,1889,1900,1891,1917,1915,1795,1791,1791,1795,1856,1783,1787,1834,1855,1904,1904,1904,1843,1906,1795,1915,1919,1919,1905,1915,1913,1902,1903,1903,1908,1919,1907,1904,1897,1909,1909,1910,1883,1894,1838,1912,1909,1909,1911,1911,1856,1882,1891,1912,1916,1889,1867,1879,1889,1890,1891,1885,1885,1885,1885,1885,1875,1874,1873,1874,1895,1885,1901,1900,1905,1905,1905,1841,1859,1901,1916,1917,1889,1864,1864,1869,1869,1879,1905,1854,1854,1856,1913,1856,1903,1904,1911,1897,1905,1890,1894,1896,1901,1895,1895,1902,1902,1908,1918,1915,1812,1880,1860,1864,1865,1865,1884,1856,1860,1870,1864,1919,1866,1859,1897,1902,1882,1889,1893,1916,1917,1845,1874,1897,1914,1904,1902,1906,1898,1901,1858,1853,1913,1911,1919,1912,1912,1918,1892,1914,1909,1907,1919,1913,1912,1919,1892,1901,1902,1896,1900,1896,1870,1860,1834,1843,1833,1835,1828,1835,1888,1869,1866,1909,1914,1835,1918,1918,1920,1906,1900,1888,1899,1878,1880,1877,1889,1884,1841,1829,1909,1905,1918,1881,1895,1904,1884,1883,1888,1912,1908,1900,1897,1896,1909,1895,1913,1900,1908,1908,1908,1894,1900,1899,1789,1893,1911,1866,1917,1890,1844,1901,1918,1912,1912,1899,1906,1904,1890,1890,1839,1911,1909,1887,1887,1916,1887,1896,1917,1902,1883,1909,1883,1905,1913,1896,1903,1906,1916,1913,1897,1919,1918,1776,1900,1881,1830,1903,1913,1909,1907,1799,1775,1894,1855,1855,1855,1857,1920,1854,1884,1894,1883,1907,1899,1895,1895,1888,1897,1892,1892,1812,1920,1914,1912,1900,1893,1822,1822,1818,1825,1846,1913,1900,1919,1920,1910,1883,1894,1912,1899,1909,1911,1893,1898,1911,1901,1898,1899,1900,1900,1900,1900,1900,1900,1901,1900,1901,1900,1911,1888,1883,1878,1880,1852,1876,1906,1906,1890,1907,1914,1919,1900,1903,1900,1904,1906,1892,1791,1909,1919,1837,1912,1919,1917,1911,1901,1905,1883,1912,1913,1908,1906,1910,1915,1917,1913,1905,1910,1890,1854,1869,1888,1864,1908,1903,1912,1906,1907,1901,1911,1920,1885,1885,1878,1878,1887,1904,1915,1901,1914,1799,1910,1920,1920,1912,1900,1911,1868,1868,1892,1874,1914,1914,1914,1914,1895,1915,1918,1897,1900,1900,1906,1918,1856,1860,1908,1878,1851,1909,1913,1907,1918,1912,1912,1911,1919,1919,1864,1914,1901,1909,1893,1881,1889,1877,1877,1885,1885,1919,1907,1899,1846,1909,1900,1882,1882,1882,1882,1916,1900,1889],\"xaxis\":\"x\",\"yaxis\":\"y\",\"type\":\"histogram\"}],                        {\"template\":{\"data\":{\"histogram2dcontour\":[{\"type\":\"histogram2dcontour\",\"colorbar\":{\"outlinewidth\":0,\"ticks\":\"\"},\"colorscale\":[[0.0,\"#0d0887\"],[0.1111111111111111,\"#46039f\"],[0.2222222222222222,\"#7201a8\"],[0.3333333333333333,\"#9c179e\"],[0.4444444444444444,\"#bd3786\"],[0.5555555555555556,\"#d8576b\"],[0.6666666666666666,\"#ed7953\"],[0.7777777777777778,\"#fb9f3a\"],[0.8888888888888888,\"#fdca26\"],[1.0,\"#f0f921\"]]}],\"choropleth\":[{\"type\":\"choropleth\",\"colorbar\":{\"outlinewidth\":0,\"ticks\":\"\"}}],\"histogram2d\":[{\"type\":\"histogram2d\",\"colorbar\":{\"outlinewidth\":0,\"ticks\":\"\"},\"colorscale\":[[0.0,\"#0d0887\"],[0.1111111111111111,\"#46039f\"],[0.2222222222222222,\"#7201a8\"],[0.3333333333333333,\"#9c179e\"],[0.4444444444444444,\"#bd3786\"],[0.5555555555555556,\"#d8576b\"],[0.6666666666666666,\"#ed7953\"],[0.7777777777777778,\"#fb9f3a\"],[0.8888888888888888,\"#fdca26\"],[1.0,\"#f0f921\"]]}],\"heatmap\":[{\"type\":\"heatmap\",\"colorbar\":{\"outlinewidth\":0,\"ticks\":\"\"},\"colorscale\":[[0.0,\"#0d0887\"],[0.1111111111111111,\"#46039f\"],[0.2222222222222222,\"#7201a8\"],[0.3333333333333333,\"#9c179e\"],[0.4444444444444444,\"#bd3786\"],[0.5555555555555556,\"#d8576b\"],[0.6666666666666666,\"#ed7953\"],[0.7777777777777778,\"#fb9f3a\"],[0.8888888888888888,\"#fdca26\"],[1.0,\"#f0f921\"]]}],\"heatmapgl\":[{\"type\":\"heatmapgl\",\"colorbar\":{\"outlinewidth\":0,\"ticks\":\"\"},\"colorscale\":[[0.0,\"#0d0887\"],[0.1111111111111111,\"#46039f\"],[0.2222222222222222,\"#7201a8\"],[0.3333333333333333,\"#9c179e\"],[0.4444444444444444,\"#bd3786\"],[0.5555555555555556,\"#d8576b\"],[0.6666666666666666,\"#ed7953\"],[0.7777777777777778,\"#fb9f3a\"],[0.8888888888888888,\"#fdca26\"],[1.0,\"#f0f921\"]]}],\"contourcarpet\":[{\"type\":\"contourcarpet\",\"colorbar\":{\"outlinewidth\":0,\"ticks\":\"\"}}],\"contour\":[{\"type\":\"contour\",\"colorbar\":{\"outlinewidth\":0,\"ticks\":\"\"},\"colorscale\":[[0.0,\"#0d0887\"],[0.1111111111111111,\"#46039f\"],[0.2222222222222222,\"#7201a8\"],[0.3333333333333333,\"#9c179e\"],[0.4444444444444444,\"#bd3786\"],[0.5555555555555556,\"#d8576b\"],[0.6666666666666666,\"#ed7953\"],[0.7777777777777778,\"#fb9f3a\"],[0.8888888888888888,\"#fdca26\"],[1.0,\"#f0f921\"]]}],\"surface\":[{\"type\":\"surface\",\"colorbar\":{\"outlinewidth\":0,\"ticks\":\"\"},\"colorscale\":[[0.0,\"#0d0887\"],[0.1111111111111111,\"#46039f\"],[0.2222222222222222,\"#7201a8\"],[0.3333333333333333,\"#9c179e\"],[0.4444444444444444,\"#bd3786\"],[0.5555555555555556,\"#d8576b\"],[0.6666666666666666,\"#ed7953\"],[0.7777777777777778,\"#fb9f3a\"],[0.8888888888888888,\"#fdca26\"],[1.0,\"#f0f921\"]]}],\"mesh3d\":[{\"type\":\"mesh3d\",\"colorbar\":{\"outlinewidth\":0,\"ticks\":\"\"}}],\"scatter\":[{\"fillpattern\":{\"fillmode\":\"overlay\",\"size\":10,\"solidity\":0.2},\"type\":\"scatter\"}],\"parcoords\":[{\"type\":\"parcoords\",\"line\":{\"colorbar\":{\"outlinewidth\":0,\"ticks\":\"\"}}}],\"scatterpolargl\":[{\"type\":\"scatterpolargl\",\"marker\":{\"colorbar\":{\"outlinewidth\":0,\"ticks\":\"\"}}}],\"bar\":[{\"error_x\":{\"color\":\"#2a3f5f\"},\"error_y\":{\"color\":\"#2a3f5f\"},\"marker\":{\"line\":{\"color\":\"#E5ECF6\",\"width\":0.5},\"pattern\":{\"fillmode\":\"overlay\",\"size\":10,\"solidity\":0.2}},\"type\":\"bar\"}],\"scattergeo\":[{\"type\":\"scattergeo\",\"marker\":{\"colorbar\":{\"outlinewidth\":0,\"ticks\":\"\"}}}],\"scatterpolar\":[{\"type\":\"scatterpolar\",\"marker\":{\"colorbar\":{\"outlinewidth\":0,\"ticks\":\"\"}}}],\"histogram\":[{\"marker\":{\"pattern\":{\"fillmode\":\"overlay\",\"size\":10,\"solidity\":0.2}},\"type\":\"histogram\"}],\"scattergl\":[{\"type\":\"scattergl\",\"marker\":{\"colorbar\":{\"outlinewidth\":0,\"ticks\":\"\"}}}],\"scatter3d\":[{\"type\":\"scatter3d\",\"line\":{\"colorbar\":{\"outlinewidth\":0,\"ticks\":\"\"}},\"marker\":{\"colorbar\":{\"outlinewidth\":0,\"ticks\":\"\"}}}],\"scattermapbox\":[{\"type\":\"scattermapbox\",\"marker\":{\"colorbar\":{\"outlinewidth\":0,\"ticks\":\"\"}}}],\"scatterternary\":[{\"type\":\"scatterternary\",\"marker\":{\"colorbar\":{\"outlinewidth\":0,\"ticks\":\"\"}}}],\"scattercarpet\":[{\"type\":\"scattercarpet\",\"marker\":{\"colorbar\":{\"outlinewidth\":0,\"ticks\":\"\"}}}],\"carpet\":[{\"aaxis\":{\"endlinecolor\":\"#2a3f5f\",\"gridcolor\":\"white\",\"linecolor\":\"white\",\"minorgridcolor\":\"white\",\"startlinecolor\":\"#2a3f5f\"},\"baxis\":{\"endlinecolor\":\"#2a3f5f\",\"gridcolor\":\"white\",\"linecolor\":\"white\",\"minorgridcolor\":\"white\",\"startlinecolor\":\"#2a3f5f\"},\"type\":\"carpet\"}],\"table\":[{\"cells\":{\"fill\":{\"color\":\"#EBF0F8\"},\"line\":{\"color\":\"white\"}},\"header\":{\"fill\":{\"color\":\"#C8D4E3\"},\"line\":{\"color\":\"white\"}},\"type\":\"table\"}],\"barpolar\":[{\"marker\":{\"line\":{\"color\":\"#E5ECF6\",\"width\":0.5},\"pattern\":{\"fillmode\":\"overlay\",\"size\":10,\"solidity\":0.2}},\"type\":\"barpolar\"}],\"pie\":[{\"automargin\":true,\"type\":\"pie\"}]},\"layout\":{\"autotypenumbers\":\"strict\",\"colorway\":[\"#636efa\",\"#EF553B\",\"#00cc96\",\"#ab63fa\",\"#FFA15A\",\"#19d3f3\",\"#FF6692\",\"#B6E880\",\"#FF97FF\",\"#FECB52\"],\"font\":{\"color\":\"#2a3f5f\"},\"hovermode\":\"closest\",\"hoverlabel\":{\"align\":\"left\"},\"paper_bgcolor\":\"white\",\"plot_bgcolor\":\"#E5ECF6\",\"polar\":{\"bgcolor\":\"#E5ECF6\",\"angularaxis\":{\"gridcolor\":\"white\",\"linecolor\":\"white\",\"ticks\":\"\"},\"radialaxis\":{\"gridcolor\":\"white\",\"linecolor\":\"white\",\"ticks\":\"\"}},\"ternary\":{\"bgcolor\":\"#E5ECF6\",\"aaxis\":{\"gridcolor\":\"white\",\"linecolor\":\"white\",\"ticks\":\"\"},\"baxis\":{\"gridcolor\":\"white\",\"linecolor\":\"white\",\"ticks\":\"\"},\"caxis\":{\"gridcolor\":\"white\",\"linecolor\":\"white\",\"ticks\":\"\"}},\"coloraxis\":{\"colorbar\":{\"outlinewidth\":0,\"ticks\":\"\"}},\"colorscale\":{\"sequential\":[[0.0,\"#0d0887\"],[0.1111111111111111,\"#46039f\"],[0.2222222222222222,\"#7201a8\"],[0.3333333333333333,\"#9c179e\"],[0.4444444444444444,\"#bd3786\"],[0.5555555555555556,\"#d8576b\"],[0.6666666666666666,\"#ed7953\"],[0.7777777777777778,\"#fb9f3a\"],[0.8888888888888888,\"#fdca26\"],[1.0,\"#f0f921\"]],\"sequentialminus\":[[0.0,\"#0d0887\"],[0.1111111111111111,\"#46039f\"],[0.2222222222222222,\"#7201a8\"],[0.3333333333333333,\"#9c179e\"],[0.4444444444444444,\"#bd3786\"],[0.5555555555555556,\"#d8576b\"],[0.6666666666666666,\"#ed7953\"],[0.7777777777777778,\"#fb9f3a\"],[0.8888888888888888,\"#fdca26\"],[1.0,\"#f0f921\"]],\"diverging\":[[0,\"#8e0152\"],[0.1,\"#c51b7d\"],[0.2,\"#de77ae\"],[0.3,\"#f1b6da\"],[0.4,\"#fde0ef\"],[0.5,\"#f7f7f7\"],[0.6,\"#e6f5d0\"],[0.7,\"#b8e186\"],[0.8,\"#7fbc41\"],[0.9,\"#4d9221\"],[1,\"#276419\"]]},\"xaxis\":{\"gridcolor\":\"white\",\"linecolor\":\"white\",\"ticks\":\"\",\"title\":{\"standoff\":15},\"zerolinecolor\":\"white\",\"automargin\":true,\"zerolinewidth\":2},\"yaxis\":{\"gridcolor\":\"white\",\"linecolor\":\"white\",\"ticks\":\"\",\"title\":{\"standoff\":15},\"zerolinecolor\":\"white\",\"automargin\":true,\"zerolinewidth\":2},\"scene\":{\"xaxis\":{\"backgroundcolor\":\"#E5ECF6\",\"gridcolor\":\"white\",\"linecolor\":\"white\",\"showbackground\":true,\"ticks\":\"\",\"zerolinecolor\":\"white\",\"gridwidth\":2},\"yaxis\":{\"backgroundcolor\":\"#E5ECF6\",\"gridcolor\":\"white\",\"linecolor\":\"white\",\"showbackground\":true,\"ticks\":\"\",\"zerolinecolor\":\"white\",\"gridwidth\":2},\"zaxis\":{\"backgroundcolor\":\"#E5ECF6\",\"gridcolor\":\"white\",\"linecolor\":\"white\",\"showbackground\":true,\"ticks\":\"\",\"zerolinecolor\":\"white\",\"gridwidth\":2}},\"shapedefaults\":{\"line\":{\"color\":\"#2a3f5f\"}},\"annotationdefaults\":{\"arrowcolor\":\"#2a3f5f\",\"arrowhead\":0,\"arrowwidth\":1},\"geo\":{\"bgcolor\":\"white\",\"landcolor\":\"#E5ECF6\",\"subunitcolor\":\"white\",\"showland\":true,\"showlakes\":true,\"lakecolor\":\"white\"},\"title\":{\"x\":0.05},\"mapbox\":{\"style\":\"light\"}}},\"xaxis\":{\"anchor\":\"y\",\"domain\":[0.0,1.0],\"title\":{\"text\":\"Jahr\"}},\"yaxis\":{\"anchor\":\"x\",\"domain\":[0.0,1.0],\"title\":{\"text\":\"count\"}},\"legend\":{\"title\":{\"text\":\"Geschlecht\"},\"tracegroupgap\":0},\"margin\":{\"t\":60},\"barmode\":\"relative\"},                        {\"responsive\": true}                    ).then(function(){\n",
       "                            \n",
       "var gd = document.getElementById('3b9f9a86-7cee-4447-9c08-0ca8ce78fd40');\n",
       "var x = new MutationObserver(function (mutations, observer) {{\n",
       "        var display = window.getComputedStyle(gd).display;\n",
       "        if (!display || display === 'none') {{\n",
       "            console.log([gd, 'removed!']);\n",
       "            Plotly.purge(gd);\n",
       "            observer.disconnect();\n",
       "        }}\n",
       "}});\n",
       "\n",
       "// Listen for the removal of the full notebook cells\n",
       "var notebookContainer = gd.closest('#notebook-container');\n",
       "if (notebookContainer) {{\n",
       "    x.observe(notebookContainer, {childList: true});\n",
       "}}\n",
       "\n",
       "// Listen for the clearing of the current output cell\n",
       "var outputEl = gd.closest('.output');\n",
       "if (outputEl) {{\n",
       "    x.observe(outputEl, {childList: true});\n",
       "}}\n",
       "\n",
       "                        })                };                });            </script>        </div>"
      ]
     },
     "metadata": {},
     "output_type": "display_data"
    }
   ],
   "source": [
    "fig = px.histogram(df, x=\"Jahr\", nbins=150, color=\"Geschlecht\", color_discrete_sequence=['orange', \"indianred\"])\n",
    "fig.show()"
   ]
  }
 ],
 "metadata": {
  "kernelspec": {
   "display_name": "Python 3 (ipykernel)",
   "language": "python",
   "name": "python3"
  },
  "language_info": {
   "codemirror_mode": {
    "name": "ipython",
    "version": 3
   },
   "file_extension": ".py",
   "mimetype": "text/x-python",
   "name": "python",
   "nbconvert_exporter": "python",
   "pygments_lexer": "ipython3",
   "version": "3.10.8"
  }
 },
 "nbformat": 4,
 "nbformat_minor": 2
}
